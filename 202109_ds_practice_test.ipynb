{
  "nbformat": 4,
  "nbformat_minor": 0,
  "metadata": {
    "colab": {
      "name": "202109_ds_practice_test.ipynb",
      "provenance": []
    },
    "kernelspec": {
      "display_name": "Python 3",
      "language": "python",
      "name": "python3"
    },
    "language_info": {
      "codemirror_mode": {
        "name": "ipython",
        "version": 3
      },
      "file_extension": ".py",
      "mimetype": "text/x-python",
      "name": "python",
      "nbconvert_exporter": "python",
      "pygments_lexer": "ipython3",
      "version": "3.7.4"
    }
  },
  "cells": [
    {
      "cell_type": "markdown",
      "metadata": {
        "id": "505DgRkkEVhL"
      },
      "source": [
        "# 0. Cài đặt môi trường <br>\n",
        "Guide: Chạy toàn bộ các lệnh sau"
      ]
    },
    {
      "cell_type": "code",
      "metadata": {
        "colab": {
          "base_uri": "https://localhost:8080/"
        },
        "id": "xsxQa-t0r1aL",
        "outputId": "fcf44881-8dc1-4567-c66e-bbdae25eae54"
      },
      "source": [
        "!pip install pyspark"
      ],
      "execution_count": 1,
      "outputs": [
        {
          "output_type": "stream",
          "name": "stdout",
          "text": [
            "Collecting pyspark\n",
            "  Downloading pyspark-3.1.2.tar.gz (212.4 MB)\n",
            "\u001b[K     |████████████████████████████████| 212.4 MB 65 kB/s \n",
            "\u001b[?25hCollecting py4j==0.10.9\n",
            "  Downloading py4j-0.10.9-py2.py3-none-any.whl (198 kB)\n",
            "\u001b[K     |████████████████████████████████| 198 kB 42.2 MB/s \n",
            "\u001b[?25hBuilding wheels for collected packages: pyspark\n",
            "  Building wheel for pyspark (setup.py) ... \u001b[?25l\u001b[?25hdone\n",
            "  Created wheel for pyspark: filename=pyspark-3.1.2-py2.py3-none-any.whl size=212880768 sha256=ee47323ca5bebc95f1d47d3b05d517848c26404a4ccd311af1060e3b38f31716\n",
            "  Stored in directory: /root/.cache/pip/wheels/a5/0a/c1/9561f6fecb759579a7d863dcd846daaa95f598744e71b02c77\n",
            "Successfully built pyspark\n",
            "Installing collected packages: py4j, pyspark\n",
            "Successfully installed py4j-0.10.9 pyspark-3.1.2\n"
          ]
        }
      ]
    },
    {
      "cell_type": "code",
      "metadata": {
        "id": "lWdDhQM5r1aO"
      },
      "source": [
        "import pandas as pd\n",
        "import numpy as np \n",
        "import tensorflow as tf\n",
        "import requests \n",
        "import seaborn as sns\n",
        "import matplotlib.pyplot as plt\n",
        "\n",
        "import pyspark\n",
        "from pyspark.sql import functions as F"
      ],
      "execution_count": 25,
      "outputs": []
    },
    {
      "cell_type": "code",
      "metadata": {
        "id": "ms-6ReQO2YbS",
        "colab": {
          "base_uri": "https://localhost:8080/"
        },
        "outputId": "dc59698a-6ac9-4080-e994-d1956e4cc8ca"
      },
      "source": [
        "print(pyspark.__version__)"
      ],
      "execution_count": 3,
      "outputs": [
        {
          "output_type": "stream",
          "name": "stdout",
          "text": [
            "3.1.2\n"
          ]
        }
      ]
    },
    {
      "cell_type": "code",
      "metadata": {
        "id": "h0QZp-zJc3dr"
      },
      "source": [
        "spark = pyspark.sql.SparkSession \\\n",
        "    .builder \\\n",
        "    .appName(\"DS_test\") \\\n",
        "    .getOrCreate()"
      ],
      "execution_count": 4,
      "outputs": []
    },
    {
      "cell_type": "code",
      "metadata": {
        "id": "TRjJ3J0C2YbT",
        "cellView": "form"
      },
      "source": [
        "#@title RUN THIS PARAGRAPH: TESTCASE\n",
        "class TEST():\n",
        "    def testcase1_1(df):\n",
        "        if str(df.head(1))=='[Row(caseid=10000, dAge=5, dAncstry1=0, dAncstry2=1, iAvail=0, iCitizen=0, iClass=5, dDepart=3, iDisabl1=2, iDisabl2=2, iEnglish=1, iFeb55=0, iFertil=1, dHispanic=0, dHour89=4, dHours=3, iImmigr=0, dIncome1=2, dIncome2=0, dIncome3=0, dIncome4=1, dIncome5=0, dIncome6=0, dIncome7=0, dIncome8=0, dIndustry=10, iKorean=0, iLang1=1, iLooking=0, iMarital=1, iMay75880=0, iMeans=1, iMilitary=4, iMobility=2, iMobillim=2, dOccup=3, iOthrserv=0, iPerscare=2, dPOB=0, dPoverty=2, dPwgt1=1, iRagechld=4, dRearning=3, iRelat1=0, iRelat2=0, iRemplpar=0, iRiders=3, iRlabor=1, iRownchld=0, dRpincome=3, iRPOB=22, iRrelchld=0, iRspouse=3, iRvetserv=0, iSchool=1, iSept80=0, iSex=1, iSubfam1=0, iSubfam2=0, iTmpabsnt=0, dTravtime=5, iVietnam=0, dWeek89=2, iWork89=1, iWorklwk=1, iWWII=0, iYearsch=11, iYearwrk=1, dYrsserv=0)]':\n",
        "            print(\"PASS\")\n",
        "        else: print(\"FAIL\")\n",
        "\n",
        "    def testcase123_1(df):\n",
        "        if str(df.head(1))=='[Row(caseid=10000, dAge=5, dAncstry1=0, dAncstry2=1, iAvail=0, iCitizen=0, iClass=5, dDepart=3, iDisabl1=2, iDisabl2=2, iEnglish=1, iFeb55=0, iFertil=1, dHispanic=0, dHour89=4, dHours=3, iImmigr=0, dIncome1=2, dIncome2=0, dIncome3=0, dIncome4=1, dIncome5=0, dIncome6=0, dIncome7=0, dIncome8=0, dIndustry=10, iKorean=0, iLang1=1, iLooking=0, iMarital=1, iMay75880=0, iMeans=1, iMilitary=4, iMobility=2, iMobillim=2, dOccup=3, iOthrserv=0, iPerscare=2, dPOB=0, dPoverty=2, dPwgt1=1, iRagechld=4, dRearning=3, iRelat1=0, iRelat2=0, iRemplpar=0, iRiders=3, iRlabor=1, iRownchld=0, dRpincome=3, iRPOB=22, iRrelchld=0, iRspouse=3, iRvetserv=0, iSchool=1, iSept80=0, iSex=1, iSubfam1=0, iSubfam2=0, iTmpabsnt=0, dTravtime=5, iVietnam=0, dWeek89=2, iWork89=1, iWorklwk=1, iWWII=0, iYearsch=11, iYearwrk=1, dYrsserv=0, dAge2=2.0)]':\n",
        "            print(\"PASS\")\n",
        "        else: print(\"FAIL\")\n",
        "\n",
        "    def testcase123_2(df):\n",
        "        if str(df.head(1))=='[Row(caseid=10366, dAge=0, dAncstry1=1, dAncstry2=1, iAvail=0, iCitizen=0, iClass=0, dDepart=0, iDisabl1=0, iDisabl2=0, iEnglish=0, iFeb55=0, iFertil=0, dHispanic=0, dHour89=0, dHours=0, iImmigr=0, dIncome1=0, dIncome2=0, dIncome3=0, dIncome4=0, dIncome5=0, dIncome6=0, dIncome7=0, dIncome8=0, dIndustry=0, iKorean=0, iLang1=0, iLooking=0, iMarital=4, iMay75880=0, iMeans=0, iMilitary=0, iMobility=0, iMobillim=0, dOccup=0, iOthrserv=0, iPerscare=0, dPOB=0, dPoverty=2, dPwgt1=2, iRagechld=4, dRearning=0, iRelat1=2, iRelat2=0, iRemplpar=121, iRiders=0, iRlabor=0, iRownchld=1, dRpincome=0, iRPOB=10, iRrelchld=1, iRspouse=0, iRvetserv=0, iSchool=0, iSept80=0, iSex=1, iSubfam1=0, iSubfam2=0, iTmpabsnt=0, dTravtime=0, iVietnam=0, dWeek89=0, iWork89=0, iWorklwk=0, iWWII=0, iYearsch=0, iYearwrk=0, dYrsserv=0, dAge2=0.0, rVN=0.0)]':\n",
        "            print(\"PASS\")\n",
        "        else: print(\"FAIL\")\n",
        "\n",
        "    def testcase124(df):\n",
        "        if str(df.head(1))==\"[Row(caseid=10000, dAge=5, dAncstry1=0, dAncstry2=1, iAvail=0, iCitizen=0, iClass=5, dDepart=3, iDisabl1=2, iDisabl2=2, iEnglish=1, iFeb55=0, iFertil=1, dHispanic=0, dHour89=4, dHours=3, iImmigr=0, dIncome1=2, dIncome2=0, dIncome3=0, dIncome4=1, dIncome5=0, dIncome6=0, dIncome7=0, dIncome8=0, dIndustry=10, iKorean=0, iLang1=1, iLooking=0, iMarital=1, iMay75880=0, iMeans=1, iMilitary=4, iMobility=2, iMobillim=2, dOccup=3, iOthrserv=0, iPerscare=2, dPOB=0, dPoverty=2, dPwgt1=1, iRagechld=4, dRearning=3, iRelat1=0, iRelat2=0, iRemplpar=0, iRiders=3, iRlabor=1, iRownchld=0, dRpincome=3, iRPOB=22, iRrelchld=0, iRspouse=3, iRvetserv=0, iSchool=1, iSept80=0, iSex=1, iSubfam1=0, iSubfam2=0, iTmpabsnt=0, dTravtime=5, iVietnam=0, dWeek89=2, iWork89=1, iWorklwk=1, iWWII=0, iYearsch=11, iYearwrk=1, dYrsserv=0, iLogRPOB='1.3424226808222062')]\":\n",
        "            print(\"PASS\")\n",
        "        else: print(\"FAIL\")"
      ],
      "execution_count": 38,
      "outputs": []
    },
    {
      "cell_type": "markdown",
      "metadata": {
        "id": "thaWBT82osvc"
      },
      "source": [
        "Guide: làm theo các bước và CHỈ sửa các đoạn code nằm giữa các thẻ:\n",
        "```\n",
        "# YOUR CODE START\n",
        "# / END YOUR CODE\n",
        "```"
      ]
    },
    {
      "cell_type": "markdown",
      "metadata": {
        "id": "PffTNfZvlOsD"
      },
      "source": [
        "# 1. Big data manapulation\n",
        "Bộ dữ liệu điều tra nhân khẩu của US-1990. Hãy thực hiện tải về và sử dụng pyspark để thao tác với dữ liệu. <br>\n",
        "Đọc thêm về bộ dữ liệu [Tại đây](https://archive.ics.uci.edu/ml/datasets/US+Census+Data+(1990))"
      ]
    },
    {
      "cell_type": "code",
      "metadata": {
        "id": "vUub5_4sdOZ2"
      },
      "source": [
        "# Tải dữ liệu về\n",
        "file_url = 'https://archive.ics.uci.edu/ml/machine-learning-databases/census1990-mld/USCensus1990.data.txt'\n",
        "file_path = \"/content/USCensus1990.data.txt\"\n",
        "\n",
        "r = requests.get(file_url, stream = True) \n",
        "\n",
        "with open( file_path, \"wb\") as file: \n",
        "    for block in r.iter_content(chunk_size = 1024*10): \n",
        "        if block: \n",
        "            file.write(block)"
      ],
      "execution_count": 6,
      "outputs": []
    },
    {
      "cell_type": "markdown",
      "metadata": {
        "id": "f0sCE5IQ2YbV"
      },
      "source": [
        "#### Đọc dữ liệu từ file <br>\n",
        "[1đ, 1p] File dữ liệu đã được tải về tại địa chỉ: file_path <br>\n",
        "Sử dụng pyspark, hãy đọc file dữ liệu thành dataframe, có danh sách cột phù hợp với tên cột đã được định nghĩa trong file dữ liệu."
      ]
    },
    {
      "cell_type": "code",
      "metadata": {
        "id": "HTgonieer1aQ"
      },
      "source": [
        "df = (\n",
        "# YOUR CODE START \n",
        "\n",
        "    \n",
        "# / END YOUR CODE\n",
        ")"
      ],
      "execution_count": 7,
      "outputs": []
    },
    {
      "cell_type": "code",
      "metadata": {
        "id": "SvNDYIHgm0i-"
      },
      "source": [
        "# testcase 1\n",
        "TEST.testcase1_1(df)"
      ],
      "execution_count": null,
      "outputs": []
    },
    {
      "cell_type": "markdown",
      "metadata": {
        "id": "GrSJvjPe2YbW"
      },
      "source": [
        "#### Spark SQL analysis\n",
        "Sử dụng SQL để thực hiện các ý sau"
      ]
    },
    {
      "cell_type": "code",
      "metadata": {
        "id": "X7BCZKnHTAeV"
      },
      "source": [
        "df.registerTempTable('tmp_table')"
      ],
      "execution_count": 9,
      "outputs": []
    },
    {
      "cell_type": "markdown",
      "metadata": {
        "id": "bVvKKPjCSS_l"
      },
      "source": [
        "[1đ, 1.5p] Tìm nhóm dIncome1 có số dân lớn nhất"
      ]
    },
    {
      "cell_type": "code",
      "metadata": {
        "id": "JsG1kZqnm264"
      },
      "source": [
        "sql_text = (\n",
        "# YOUR CODE START \n",
        "'''\n",
        "\n",
        "'''\n",
        "# / END YOUR CODE\n",
        ")\n",
        "spark.sql(sql_text).toPandas()"
      ],
      "execution_count": null,
      "outputs": []
    },
    {
      "cell_type": "markdown",
      "metadata": {
        "id": "5yDYDiyOT3-l"
      },
      "source": [
        "[1đ, 3p] Sắp xếp theo chiều tăng dần của iYearsch và đếm lũy kế số người dân, tại người dân đầu tiên có iYearsch = 1 thì giá trị đếm lũy kế là bao nhiêu?"
      ]
    },
    {
      "cell_type": "code",
      "metadata": {
        "id": "1Xwq3tu_m6uP"
      },
      "source": [
        "sql_text = (\n",
        "# YOUR CODE START \n",
        "'''\n",
        "\n",
        "'''\n",
        "# / END YOUR CODE\n",
        ")\n",
        "spark.sql(sql_text).toPandas()"
      ],
      "execution_count": null,
      "outputs": []
    },
    {
      "cell_type": "markdown",
      "metadata": {
        "id": "D-7JbYb6WG8k"
      },
      "source": [
        "[1đ, 5p] Giả sử thu nhập của người dùng tỷ lệ thuận với dIncome1, theo công thức income = dIncome1*1000+500, top 10% người nghèo nhất có tổng thu nhập bằng bao nhiêu"
      ]
    },
    {
      "cell_type": "code",
      "metadata": {
        "id": "SzPCyjvum80v"
      },
      "source": [
        "sql_text = (\n",
        "# YOUR CODE START \n",
        "'''\n",
        "\n",
        "'''\n",
        "# / END YOUR CODE\n",
        ")\n",
        "spark.sql(sql_text).toPandas()"
      ],
      "execution_count": null,
      "outputs": []
    },
    {
      "cell_type": "markdown",
      "metadata": {
        "id": "elrqUFFJilgA"
      },
      "source": [
        "# Pyspark data manipulation\n",
        "Sử dụng pyspark và dataframe df thực hiện các ý sau"
      ]
    },
    {
      "cell_type": "markdown",
      "metadata": {
        "id": "eEKQXXKc2YbW"
      },
      "source": [
        "[1đ, 1p] Xác định tỷ lệ gốc Việt trong trong dân số Mỹ (trường iVietnam==1)"
      ]
    },
    {
      "cell_type": "code",
      "metadata": {
        "id": "q8s7m1khnCn2"
      },
      "source": [
        "# YOUR CODE START \n",
        "r_vn = \n",
        "r_vn\n",
        "# / END YOUR CODE"
      ],
      "execution_count": null,
      "outputs": []
    },
    {
      "cell_type": "markdown",
      "metadata": {
        "id": "py-vCA0lk1JA"
      },
      "source": [
        "[1đ, 1p] Kiểm tra số lượng null của các cột [caseid, dAge]"
      ]
    },
    {
      "cell_type": "code",
      "metadata": {
        "id": "ps8U5rj6nHb2"
      },
      "source": [
        "# YOUR CODE START \n",
        "\n",
        "# / END YOUR CODE"
      ],
      "execution_count": null,
      "outputs": []
    },
    {
      "cell_type": "markdown",
      "metadata": {
        "id": "OL7mWWz32YbX"
      },
      "source": [
        "[2đ, 5p] Lựa chọn biểu đồ phù hợp so sánh distribution theo độ tuổi của 2 nhóm isVietnam 1 và 0. <br>\n",
        "Nêu nhận xét"
      ]
    },
    {
      "cell_type": "code",
      "metadata": {
        "id": "bahK84smnKCu"
      },
      "source": [
        "# YOUR CODE START \n",
        "\n",
        "\n",
        "print('''Nhận xét:\n",
        "\n",
        "''')\n",
        "# / END YOUR CODE"
      ],
      "execution_count": null,
      "outputs": []
    },
    {
      "cell_type": "markdown",
      "metadata": {
        "id": "EDYcG1nm2YbY"
      },
      "source": [
        "[2đ, 5p] Hãy tạo thêm feature rVN được xác định bằng logic sau:\n",
        "* từ df, chia nhóm độ tuổi thành các khoảng phân cắt bởi [ 1, 5, 7 ], đặt cột nhóm độ tuổi này là dAge2 => lưu thành df2\n",
        "* Với từng nhóm, xác định rVN là tỷ lệ số người có iVietnam = 1 trên tổng người dân của từng nhóm => lưu thành df3"
      ]
    },
    {
      "cell_type": "code",
      "metadata": {
        "id": "WpYMo3lZ2YbY"
      },
      "source": [
        "# YOUR CODE START \n",
        "df2 = \n",
        "\n",
        "df3 = df2...\n",
        "# / END YOUR CODE"
      ],
      "execution_count": null,
      "outputs": []
    },
    {
      "cell_type": "code",
      "metadata": {
        "id": "q-jhIaaxnZxf"
      },
      "source": [
        "TEST.testcase123_1(df2)"
      ],
      "execution_count": null,
      "outputs": []
    },
    {
      "cell_type": "code",
      "metadata": {
        "id": "9kBezVdfnafO"
      },
      "source": [
        "TEST.testcase123_2(df3)"
      ],
      "execution_count": null,
      "outputs": []
    },
    {
      "cell_type": "markdown",
      "metadata": {
        "id": "KNDn7_TJisU9"
      },
      "source": [
        "[1đ, 5p] Từ dataframe df, sử dụng python udf để tạo feature logarit cơ số 10 của biến iRPOB, lưu thành feature iLogRPOB"
      ]
    },
    {
      "cell_type": "code",
      "metadata": {
        "id": "rXnlslv2jH0V"
      },
      "source": [
        "# YOUR CODE START \n",
        "\n",
        "# / END YOUR CODE"
      ],
      "execution_count": 46,
      "outputs": []
    },
    {
      "cell_type": "code",
      "metadata": {
        "id": "qM-Gm9-gndIm"
      },
      "source": [
        "TEST.testcase124(df4)"
      ],
      "execution_count": null,
      "outputs": []
    },
    {
      "cell_type": "markdown",
      "metadata": {
        "id": "b2h5f6HTVtoa"
      },
      "source": [
        "# 2.ML AND DEEP LEARNING"
      ]
    },
    {
      "cell_type": "code",
      "metadata": {
        "id": "aThj31oHr1aS"
      },
      "source": [
        "pddf =next( pd.read_csv(file_url, chunksize=10000) )"
      ],
      "execution_count": 12,
      "outputs": []
    },
    {
      "cell_type": "markdown",
      "metadata": {
        "id": "SlImfOuKgKfU"
      },
      "source": [
        "[3đ, 6p] Xây dựng bộ dữ liệu và lưu vào data_tofit: <br>\n",
        "- Giữ lại các trường dAge, dDepart và các trường dạng số (bắt đầu bằng chữ i) => lưu vào biến columns<br>\n",
        "- Với các trường dim (bắt đầu bằng chữ d) thì thực hiện one-hot, các trường số thực hiện normalised\n"
      ]
    },
    {
      "cell_type": "code",
      "metadata": {
        "id": "pMqW-M7Yg7tC"
      },
      "source": [
        "# YOUR CODE START\n",
        "\n",
        "# / END YOUR CODE"
      ],
      "execution_count": 45,
      "outputs": []
    },
    {
      "cell_type": "markdown",
      "metadata": {
        "id": "6auj66xOnjTh"
      },
      "source": [
        "[1đ, 1.5p] Chia bộ dữ liệu thành X_train, X_val, y_train, y_val với nhãn dự đoán là dIncome1 <br>\n",
        "Tỷ lệ train:val là 75:25"
      ]
    },
    {
      "cell_type": "code",
      "metadata": {
        "id": "8lmnrY6onix-"
      },
      "source": [
        "# YOUR CODE START\n",
        "X_train, X_val, y_train, y_val = \n",
        "# / END YOUR CODE"
      ],
      "execution_count": null,
      "outputs": []
    },
    {
      "cell_type": "markdown",
      "metadata": {
        "id": "T-GyXWX_m9e2"
      },
      "source": [
        "[1đ, 1.5p] Xây dựng model RF dự đoán dIncome1 dựa trên bộ dữ liệu data_tofit"
      ]
    },
    {
      "cell_type": "code",
      "metadata": {
        "id": "0tGwPjyanfu_"
      },
      "source": [
        "# YOUR CODE START\n",
        "\n",
        "# / END YOUR CODE"
      ],
      "execution_count": null,
      "outputs": []
    },
    {
      "cell_type": "markdown",
      "metadata": {
        "id": "PheCw_RxolWq"
      },
      "source": [
        "[1đ, 1.5p] Đánh giá trên tập validation với confusion matrix và F1 (micro average)"
      ]
    },
    {
      "cell_type": "code",
      "metadata": {
        "id": "tIfbHxZ0okUD"
      },
      "source": [
        "# YOUR CODE START\n",
        "\n",
        "# / END YOUR CODE"
      ],
      "execution_count": 42,
      "outputs": []
    },
    {
      "cell_type": "markdown",
      "metadata": {
        "id": "cFt1msBTppxe"
      },
      "source": [
        "[1đ, 2p] Train và đánh giá model tương tự RF nhưng với model SVC"
      ]
    },
    {
      "cell_type": "code",
      "metadata": {
        "id": "HL3kqQhdpkZ_"
      },
      "source": [
        "# YOUR CODE START\n",
        "\n",
        "\n",
        "# / END YOUR CODE"
      ],
      "execution_count": 43,
      "outputs": []
    },
    {
      "cell_type": "markdown",
      "metadata": {
        "id": "LJDANZGonK5S"
      },
      "source": [
        "[2đ, 5p] Xây dựng mạng DL với nhiệm vụ dự đoán tương tự RF phía trên, với ít nhất 3 loại layer Dense, BatchNormalization, Dropout sao cho phù hợp <br>\n",
        "Thực hiện đáng giá với confusion matrix và F1 (micro)"
      ]
    },
    {
      "cell_type": "code",
      "metadata": {
        "id": "yxVFfbkCnKcn"
      },
      "source": [
        "# YOUR CODE START \n",
        "\n",
        "# / END YOUR CODE"
      ],
      "execution_count": 44,
      "outputs": []
    }
  ]
}