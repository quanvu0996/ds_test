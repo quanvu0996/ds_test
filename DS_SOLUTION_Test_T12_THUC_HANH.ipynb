{
  "nbformat": 4,
  "nbformat_minor": 0,
  "metadata": {
    "colab": {
      "name": "DS_Test_T12_THUC HANH.ipynb",
      "provenance": [],
      "toc_visible": true,
      "authorship_tag": "ABX9TyPQSYw//h4By5OrxaKIICKC",
      "include_colab_link": true
    },
    "kernelspec": {
      "name": "python3",
      "display_name": "Python 3"
    },
    "language_info": {
      "name": "python"
    }
  },
  "cells": [
    {
      "cell_type": "markdown",
      "metadata": {
        "id": "view-in-github",
        "colab_type": "text"
      },
      "source": [
        "<a href=\"https://colab.research.google.com/github/quanvu0996/ds_test/blob/main/DS_SOLUTION_Test_T12_THUC_HANH.ipynb\" target=\"_parent\"><img src=\"https://colab.research.google.com/assets/colab-badge.svg\" alt=\"Open In Colab\"/></a>"
      ]
    },
    {
      "cell_type": "markdown",
      "source": [
        "## ĐÁNH GIÁ NĂNG LỰC KỸ SƯ KHOA HỌC DỮ LIỆU THÁNG 12 - 2021\n",
        "#### BÀI THỰC HÀNH\n",
        "---\n",
        "\n",
        "Ngày test: 24/12/2021\n",
        "Thời gian làm bài: 60 phút, từ 10:00 đến 11:00\n",
        "(+ 5 phút thiết lập môi trường và nộp bài)\n",
        "\n",
        "Đề thi có 12 câu, tương đương 20 điểm\n",
        "\n",
        "Quy định:\n",
        "- Không trao đổi trong suốt quá trình làm bài\n",
        "- Record màn hình làm bài và share lại cho quanvh8 sau khi kết thúc thời gian test\n",
        "- Được sử dụng tài liệu và tra cứu internet\n",
        "- Sau khi hoàn thành, tải notebook, gửi về email: quanvh8@viettel.com.vn\n",
        "\n",
        "Hướng dẫn làm bài:\n",
        "\n",
        "* Chạy toàn bộ lệnh trong phần 0. CHUẨN BỊ MÔI TRƯỜNG\n",
        "* Làm theo hướng dẫn tại các câu và CHỈ SỬA các đoạn code nằm giữa các thẻ:\n",
        "\n",
        "      # YOUR CODE START\n",
        "      # / END YOUR CODE\n",
        "\n",
        "*Lưu ý: hầu hết câu hỏi không có tính tuần tự (không cần hoàn thành câu trước để làm câu sau)*\n",
        "\n",
        "*Đề thi có một số testcase hỗ trợ DS kiểm tra kết quả, nhưng đây không phải điểm số. Điểm số được giám khảo chấm và gửi lại sau.*\n",
        "\n",
        "\n",
        "\n",
        "---\n",
        "\n"
      ],
      "metadata": {
        "id": "8RiH4g6zw91m"
      }
    },
    {
      "cell_type": "markdown",
      "source": [
        "## 0. CHUẨN BỊ MÔI TRƯỜNG \n",
        "Guide: Chạy toàn bộ các lệnh trong phần này"
      ],
      "metadata": {
        "id": "CDhM-bA7wWJ7"
      }
    },
    {
      "cell_type": "code",
      "source": [
        "!pip install pyspark==3.2.0"
      ],
      "metadata": {
        "colab": {
          "base_uri": "https://localhost:8080/"
        },
        "id": "-gkwhkLUwqKa",
        "outputId": "c7a882c4-0503-4474-e3fd-63b5573fa82a"
      },
      "execution_count": null,
      "outputs": [
        {
          "output_type": "stream",
          "name": "stdout",
          "text": [
            "Collecting pyspark==3.2.0\n",
            "  Downloading pyspark-3.2.0.tar.gz (281.3 MB)\n",
            "\u001b[K     |████████████████████████████████| 281.3 MB 44 kB/s \n",
            "\u001b[?25hCollecting py4j==0.10.9.2\n",
            "  Downloading py4j-0.10.9.2-py2.py3-none-any.whl (198 kB)\n",
            "\u001b[K     |████████████████████████████████| 198 kB 61.1 MB/s \n",
            "\u001b[?25hBuilding wheels for collected packages: pyspark\n",
            "  Building wheel for pyspark (setup.py) ... \u001b[?25l\u001b[?25hdone\n",
            "  Created wheel for pyspark: filename=pyspark-3.2.0-py2.py3-none-any.whl size=281805912 sha256=e9a1644d58471182f532955f272801e9b024b800a4badb67def955566655d24e\n",
            "  Stored in directory: /root/.cache/pip/wheels/0b/de/d2/9be5d59d7331c6c2a7c1b6d1a4f463ce107332b1ecd4e80718\n",
            "Successfully built pyspark\n",
            "Installing collected packages: py4j, pyspark\n",
            "Successfully installed py4j-0.10.9.2 pyspark-3.2.0\n"
          ]
        }
      ]
    },
    {
      "cell_type": "code",
      "execution_count": null,
      "metadata": {
        "id": "npwwh6v7wHUh"
      },
      "outputs": [],
      "source": [
        "import pandas as pd\n",
        "import numpy as np \n",
        "import tensorflow as tf\n",
        "import requests \n",
        "import seaborn as sns\n",
        "import matplotlib.pyplot as plt\n",
        "\n",
        "import pyspark\n",
        "from pyspark.sql import functions as F"
      ]
    },
    {
      "cell_type": "code",
      "source": [
        "print(pyspark.__version__)"
      ],
      "metadata": {
        "colab": {
          "base_uri": "https://localhost:8080/"
        },
        "id": "DHCy-Ih2wlSG",
        "outputId": "c3edbdea-e0cb-44af-dc86-c985354c89ca"
      },
      "execution_count": null,
      "outputs": [
        {
          "output_type": "stream",
          "name": "stdout",
          "text": [
            "3.2.0\n"
          ]
        }
      ]
    },
    {
      "cell_type": "code",
      "source": [
        "spark = pyspark.sql.SparkSession \\\n",
        "    .builder \\\n",
        "    .appName(\"DS_test\") \\\n",
        "    .getOrCreate()"
      ],
      "metadata": {
        "id": "tjwuaLZ7wnO9"
      },
      "execution_count": null,
      "outputs": []
    },
    {
      "cell_type": "markdown",
      "source": [
        "#### DATA\n",
        "Bộ dữ liệu \"Student Performance Data Set\", \n",
        "Xem thêm bộ dữ liệu này tại: [UCI Student Performance](https://archive.ics.uci.edu/ml/datasets/Student+Performance)"
      ],
      "metadata": {
        "id": "GQnACQZ61hE1"
      }
    },
    {
      "cell_type": "code",
      "source": [
        "# Tải dữ liệu về\n",
        "file_url = 'https://archive.ics.uci.edu/ml/machine-learning-databases/00320/student.zip'\n",
        "file_path = \"/content/student.zip\"\n",
        "\n",
        "r = requests.get(file_url, stream = True) \n",
        "\n",
        "with open( file_path, \"wb\") as file: \n",
        "    for block in r.iter_content(chunk_size = 1024*10): \n",
        "        if block: \n",
        "            file.write(block)"
      ],
      "metadata": {
        "id": "RZ5nZV4j10l7"
      },
      "execution_count": null,
      "outputs": []
    },
    {
      "cell_type": "code",
      "source": [
        "!unzip student.zip"
      ],
      "metadata": {
        "colab": {
          "base_uri": "https://localhost:8080/"
        },
        "id": "txRiGfot3CHD",
        "outputId": "87b1eaa7-74b2-46aa-82d8-26ce6b996629"
      },
      "execution_count": null,
      "outputs": [
        {
          "output_type": "stream",
          "name": "stdout",
          "text": [
            "Archive:  student.zip\n",
            "  inflating: student-mat.csv         \n",
            "  inflating: student-por.csv         \n",
            "  inflating: student-merge.R         \n",
            "  inflating: student.txt             \n"
          ]
        }
      ]
    },
    {
      "cell_type": "code",
      "source": [
        "# TEST CASE\n",
        "class TEST():\n",
        "  def test_1(df_math, df_por):\n",
        "    tcs = lambda df: [len(df.columns), df.count()]\n",
        "    if tcs(df_math) == [33, 395]: print('df_math: PASS') \n",
        "    else : print('df_math: FAIL')\n",
        "    if tcs(df_por) == [33, 649]: print('df_por: PASS') \n",
        "    else : print('df_por: FAIL')\n",
        "\n",
        "  def test_2(sql_text):\n",
        "    check = spark.sql(sql_text).toPandas().sort_values('sex')['student_num'].values\n",
        "    if [check.sum(), check[0]/check[1] ] == [21, 1.1]: print('PASS')\n",
        "    else: print('FAIL')"
      ],
      "metadata": {
        "id": "q7WRRcrn9dGk"
      },
      "execution_count": null,
      "outputs": []
    },
    {
      "cell_type": "markdown",
      "source": [
        "## 1. BIG DATA MANIPULATION AND ANALYSIS"
      ],
      "metadata": {
        "id": "yoFR--CUwwxx"
      }
    },
    {
      "cell_type": "markdown",
      "source": [
        "Câu 1. [2p, 1đ] Đọc dữ liệu từ file\n",
        "\n",
        "Sau khi tải về và giải nén, bộ dữ liệu gồm 2 file:\n",
        "* student-mat.csv : dữ liệu điểm môn toán\n",
        "* student-por.csv : dữ liệu điểm môn tiếng Bồ Đào Nha\n",
        "\n",
        "YC: Đọc 2 file này vào các pyspark dataframe tương ứng df_math, df_por"
      ],
      "metadata": {
        "id": "kSmvyGwW3ZDa"
      }
    },
    {
      "cell_type": "code",
      "source": [
        "file_path_math = \"/content/student-mat.csv\"\n",
        "file_path_por = \"/content/student-por.csv\"\n",
        "\n",
        "df_math = (\n",
        "    # YOUR CODE START \n",
        "    spark.read.options(header='True', inferSchema='True', delimiter=';').csv(file_path_math)\n",
        "    \n",
        "    # / END YOUR CODE\n",
        ")\n",
        "\n",
        "df_por = (\n",
        "    # YOUR CODE START \n",
        "    spark.read.options(header='True', inferSchema='True', delimiter=';').csv(file_path_por)\n",
        "    \n",
        "    # / END YOUR CODE\n",
        ")"
      ],
      "metadata": {
        "id": "de-rXtP8wtti"
      },
      "execution_count": null,
      "outputs": []
    },
    {
      "cell_type": "code",
      "source": [
        "TEST.test_1(df_math, df_por)"
      ],
      "metadata": {
        "colab": {
          "base_uri": "https://localhost:8080/"
        },
        "id": "8rIyP5hD7ILq",
        "outputId": "da9de180-936b-4381-db3d-8a026582c0ef"
      },
      "execution_count": null,
      "outputs": [
        {
          "output_type": "stream",
          "name": "stdout",
          "text": [
            "df_math: PASS\n",
            "df_por: PASS\n"
          ]
        }
      ]
    },
    {
      "cell_type": "markdown",
      "source": [
        "### 1.1. SPARK SQL\n",
        "Sử dụng SQL để thực hiện các ý sau với bảng tbl_math, và tbl_por"
      ],
      "metadata": {
        "id": "4B0_U47K7ZXD"
      }
    },
    {
      "cell_type": "code",
      "source": [
        "df_math.createOrReplaceTempView('tbl_math')\n",
        "df_math.createOrReplaceTempView('tbl_por')"
      ],
      "metadata": {
        "id": "KqltyOqK7pip"
      },
      "execution_count": null,
      "outputs": []
    },
    {
      "cell_type": "markdown",
      "source": [
        "Câu 2.[ 2p, 1 đ]\n",
        "Xác định nhóm ngành nghề của mẹ (cột Mjob) nào tương ứng với điểm số cả năm (cột g3) của người con cao nhất"
      ],
      "metadata": {
        "id": "_eUddTxG0_C-"
      }
    },
    {
      "cell_type": "code",
      "source": [
        "sql_text = (\n",
        "# YOUR CODE START \n",
        "'''\n",
        "SELECT mjob, AVG(g3) as average_score\n",
        "FROM   tbl_math\n",
        "GROUP BY mjob\n",
        "ORDER BY average_score DESC\n",
        "LIMIT 1\n",
        "'''\n",
        "# / END YOUR CODE\n",
        ")\n",
        "spark.sql(sql_text).toPandas()"
      ],
      "metadata": {
        "colab": {
          "base_uri": "https://localhost:8080/",
          "height": 81
        },
        "id": "X3ZZFDI_0-aC",
        "outputId": "fd6ef401-2288-4bfe-cb02-afbfb8a1621d"
      },
      "execution_count": null,
      "outputs": [
        {
          "output_type": "execute_result",
          "data": {
            "text/html": [
              "\n",
              "  <div id=\"df-d14aa564-8a32-4092-ace2-ff2cb55cade7\">\n",
              "    <div class=\"colab-df-container\">\n",
              "      <div>\n",
              "<style scoped>\n",
              "    .dataframe tbody tr th:only-of-type {\n",
              "        vertical-align: middle;\n",
              "    }\n",
              "\n",
              "    .dataframe tbody tr th {\n",
              "        vertical-align: top;\n",
              "    }\n",
              "\n",
              "    .dataframe thead th {\n",
              "        text-align: right;\n",
              "    }\n",
              "</style>\n",
              "<table border=\"1\" class=\"dataframe\">\n",
              "  <thead>\n",
              "    <tr style=\"text-align: right;\">\n",
              "      <th></th>\n",
              "      <th>mjob</th>\n",
              "      <th>average_score</th>\n",
              "    </tr>\n",
              "  </thead>\n",
              "  <tbody>\n",
              "    <tr>\n",
              "      <th>0</th>\n",
              "      <td>health</td>\n",
              "      <td>12.147059</td>\n",
              "    </tr>\n",
              "  </tbody>\n",
              "</table>\n",
              "</div>\n",
              "      <button class=\"colab-df-convert\" onclick=\"convertToInteractive('df-d14aa564-8a32-4092-ace2-ff2cb55cade7')\"\n",
              "              title=\"Convert this dataframe to an interactive table.\"\n",
              "              style=\"display:none;\">\n",
              "        \n",
              "  <svg xmlns=\"http://www.w3.org/2000/svg\" height=\"24px\"viewBox=\"0 0 24 24\"\n",
              "       width=\"24px\">\n",
              "    <path d=\"M0 0h24v24H0V0z\" fill=\"none\"/>\n",
              "    <path d=\"M18.56 5.44l.94 2.06.94-2.06 2.06-.94-2.06-.94-.94-2.06-.94 2.06-2.06.94zm-11 1L8.5 8.5l.94-2.06 2.06-.94-2.06-.94L8.5 2.5l-.94 2.06-2.06.94zm10 10l.94 2.06.94-2.06 2.06-.94-2.06-.94-.94-2.06-.94 2.06-2.06.94z\"/><path d=\"M17.41 7.96l-1.37-1.37c-.4-.4-.92-.59-1.43-.59-.52 0-1.04.2-1.43.59L10.3 9.45l-7.72 7.72c-.78.78-.78 2.05 0 2.83L4 21.41c.39.39.9.59 1.41.59.51 0 1.02-.2 1.41-.59l7.78-7.78 2.81-2.81c.8-.78.8-2.07 0-2.86zM5.41 20L4 18.59l7.72-7.72 1.47 1.35L5.41 20z\"/>\n",
              "  </svg>\n",
              "      </button>\n",
              "      \n",
              "  <style>\n",
              "    .colab-df-container {\n",
              "      display:flex;\n",
              "      flex-wrap:wrap;\n",
              "      gap: 12px;\n",
              "    }\n",
              "\n",
              "    .colab-df-convert {\n",
              "      background-color: #E8F0FE;\n",
              "      border: none;\n",
              "      border-radius: 50%;\n",
              "      cursor: pointer;\n",
              "      display: none;\n",
              "      fill: #1967D2;\n",
              "      height: 32px;\n",
              "      padding: 0 0 0 0;\n",
              "      width: 32px;\n",
              "    }\n",
              "\n",
              "    .colab-df-convert:hover {\n",
              "      background-color: #E2EBFA;\n",
              "      box-shadow: 0px 1px 2px rgba(60, 64, 67, 0.3), 0px 1px 3px 1px rgba(60, 64, 67, 0.15);\n",
              "      fill: #174EA6;\n",
              "    }\n",
              "\n",
              "    [theme=dark] .colab-df-convert {\n",
              "      background-color: #3B4455;\n",
              "      fill: #D2E3FC;\n",
              "    }\n",
              "\n",
              "    [theme=dark] .colab-df-convert:hover {\n",
              "      background-color: #434B5C;\n",
              "      box-shadow: 0px 1px 3px 1px rgba(0, 0, 0, 0.15);\n",
              "      filter: drop-shadow(0px 1px 2px rgba(0, 0, 0, 0.3));\n",
              "      fill: #FFFFFF;\n",
              "    }\n",
              "  </style>\n",
              "\n",
              "      <script>\n",
              "        const buttonEl =\n",
              "          document.querySelector('#df-d14aa564-8a32-4092-ace2-ff2cb55cade7 button.colab-df-convert');\n",
              "        buttonEl.style.display =\n",
              "          google.colab.kernel.accessAllowed ? 'block' : 'none';\n",
              "\n",
              "        async function convertToInteractive(key) {\n",
              "          const element = document.querySelector('#df-d14aa564-8a32-4092-ace2-ff2cb55cade7');\n",
              "          const dataTable =\n",
              "            await google.colab.kernel.invokeFunction('convertToInteractive',\n",
              "                                                     [key], {});\n",
              "          if (!dataTable) return;\n",
              "\n",
              "          const docLinkHtml = 'Like what you see? Visit the ' +\n",
              "            '<a target=\"_blank\" href=https://colab.research.google.com/notebooks/data_table.ipynb>data table notebook</a>'\n",
              "            + ' to learn more about interactive tables.';\n",
              "          element.innerHTML = '';\n",
              "          dataTable['output_type'] = 'display_data';\n",
              "          await google.colab.output.renderOutput(dataTable, element);\n",
              "          const docLink = document.createElement('div');\n",
              "          docLink.innerHTML = docLinkHtml;\n",
              "          element.appendChild(docLink);\n",
              "        }\n",
              "      </script>\n",
              "    </div>\n",
              "  </div>\n",
              "  "
            ],
            "text/plain": [
              "     mjob  average_score\n",
              "0  health      12.147059"
            ]
          },
          "metadata": {},
          "execution_count": 11
        }
      ]
    },
    {
      "cell_type": "markdown",
      "source": [
        "Câu 3. [2p, 2đ] Xác định hệ số tương quan Pearson của điểm số học kỳ 1 (cột G1) và điểm số học kỳ 2 (cột G2)"
      ],
      "metadata": {
        "id": "ghFRhgXz2KU1"
      }
    },
    {
      "cell_type": "code",
      "source": [
        "sql_text = (\n",
        "# YOUR CODE START \n",
        "'''\n",
        "SELECT  (AVG(g1 * g2) - (AVG(g1) * AVG(g2))) / (STDDEV(g1) * STDDEV(g2)) as corr\n",
        "FROM    tbl_math\n",
        "'''\n",
        "# / END YOUR CODE\n",
        ")\n",
        "spark.sql(sql_text).toPandas() "
      ],
      "metadata": {
        "colab": {
          "base_uri": "https://localhost:8080/",
          "height": 81
        },
        "id": "j7Ztcmvh2lzG",
        "outputId": "eff24477-94e0-433e-d91a-248f89d46326"
      },
      "execution_count": null,
      "outputs": [
        {
          "output_type": "execute_result",
          "data": {
            "text/html": [
              "\n",
              "  <div id=\"df-c3432de6-ad88-427a-8b4b-2fab1da7803d\">\n",
              "    <div class=\"colab-df-container\">\n",
              "      <div>\n",
              "<style scoped>\n",
              "    .dataframe tbody tr th:only-of-type {\n",
              "        vertical-align: middle;\n",
              "    }\n",
              "\n",
              "    .dataframe tbody tr th {\n",
              "        vertical-align: top;\n",
              "    }\n",
              "\n",
              "    .dataframe thead th {\n",
              "        text-align: right;\n",
              "    }\n",
              "</style>\n",
              "<table border=\"1\" class=\"dataframe\">\n",
              "  <thead>\n",
              "    <tr style=\"text-align: right;\">\n",
              "      <th></th>\n",
              "      <th>corr</th>\n",
              "    </tr>\n",
              "  </thead>\n",
              "  <tbody>\n",
              "    <tr>\n",
              "      <th>0</th>\n",
              "      <td>0.849961</td>\n",
              "    </tr>\n",
              "  </tbody>\n",
              "</table>\n",
              "</div>\n",
              "      <button class=\"colab-df-convert\" onclick=\"convertToInteractive('df-c3432de6-ad88-427a-8b4b-2fab1da7803d')\"\n",
              "              title=\"Convert this dataframe to an interactive table.\"\n",
              "              style=\"display:none;\">\n",
              "        \n",
              "  <svg xmlns=\"http://www.w3.org/2000/svg\" height=\"24px\"viewBox=\"0 0 24 24\"\n",
              "       width=\"24px\">\n",
              "    <path d=\"M0 0h24v24H0V0z\" fill=\"none\"/>\n",
              "    <path d=\"M18.56 5.44l.94 2.06.94-2.06 2.06-.94-2.06-.94-.94-2.06-.94 2.06-2.06.94zm-11 1L8.5 8.5l.94-2.06 2.06-.94-2.06-.94L8.5 2.5l-.94 2.06-2.06.94zm10 10l.94 2.06.94-2.06 2.06-.94-2.06-.94-.94-2.06-.94 2.06-2.06.94z\"/><path d=\"M17.41 7.96l-1.37-1.37c-.4-.4-.92-.59-1.43-.59-.52 0-1.04.2-1.43.59L10.3 9.45l-7.72 7.72c-.78.78-.78 2.05 0 2.83L4 21.41c.39.39.9.59 1.41.59.51 0 1.02-.2 1.41-.59l7.78-7.78 2.81-2.81c.8-.78.8-2.07 0-2.86zM5.41 20L4 18.59l7.72-7.72 1.47 1.35L5.41 20z\"/>\n",
              "  </svg>\n",
              "      </button>\n",
              "      \n",
              "  <style>\n",
              "    .colab-df-container {\n",
              "      display:flex;\n",
              "      flex-wrap:wrap;\n",
              "      gap: 12px;\n",
              "    }\n",
              "\n",
              "    .colab-df-convert {\n",
              "      background-color: #E8F0FE;\n",
              "      border: none;\n",
              "      border-radius: 50%;\n",
              "      cursor: pointer;\n",
              "      display: none;\n",
              "      fill: #1967D2;\n",
              "      height: 32px;\n",
              "      padding: 0 0 0 0;\n",
              "      width: 32px;\n",
              "    }\n",
              "\n",
              "    .colab-df-convert:hover {\n",
              "      background-color: #E2EBFA;\n",
              "      box-shadow: 0px 1px 2px rgba(60, 64, 67, 0.3), 0px 1px 3px 1px rgba(60, 64, 67, 0.15);\n",
              "      fill: #174EA6;\n",
              "    }\n",
              "\n",
              "    [theme=dark] .colab-df-convert {\n",
              "      background-color: #3B4455;\n",
              "      fill: #D2E3FC;\n",
              "    }\n",
              "\n",
              "    [theme=dark] .colab-df-convert:hover {\n",
              "      background-color: #434B5C;\n",
              "      box-shadow: 0px 1px 3px 1px rgba(0, 0, 0, 0.15);\n",
              "      filter: drop-shadow(0px 1px 2px rgba(0, 0, 0, 0.3));\n",
              "      fill: #FFFFFF;\n",
              "    }\n",
              "  </style>\n",
              "\n",
              "      <script>\n",
              "        const buttonEl =\n",
              "          document.querySelector('#df-c3432de6-ad88-427a-8b4b-2fab1da7803d button.colab-df-convert');\n",
              "        buttonEl.style.display =\n",
              "          google.colab.kernel.accessAllowed ? 'block' : 'none';\n",
              "\n",
              "        async function convertToInteractive(key) {\n",
              "          const element = document.querySelector('#df-c3432de6-ad88-427a-8b4b-2fab1da7803d');\n",
              "          const dataTable =\n",
              "            await google.colab.kernel.invokeFunction('convertToInteractive',\n",
              "                                                     [key], {});\n",
              "          if (!dataTable) return;\n",
              "\n",
              "          const docLinkHtml = 'Like what you see? Visit the ' +\n",
              "            '<a target=\"_blank\" href=https://colab.research.google.com/notebooks/data_table.ipynb>data table notebook</a>'\n",
              "            + ' to learn more about interactive tables.';\n",
              "          element.innerHTML = '';\n",
              "          dataTable['output_type'] = 'display_data';\n",
              "          await google.colab.output.renderOutput(dataTable, element);\n",
              "          const docLink = document.createElement('div');\n",
              "          docLink.innerHTML = docLinkHtml;\n",
              "          element.appendChild(docLink);\n",
              "        }\n",
              "      </script>\n",
              "    </div>\n",
              "  </div>\n",
              "  "
            ],
            "text/plain": [
              "       corr\n",
              "0  0.849961"
            ]
          },
          "metadata": {},
          "execution_count": 12
        }
      ]
    },
    {
      "cell_type": "markdown",
      "source": [
        "Câu 4.[ 10p, 2đ]\n",
        "Sở Giáo dục dự kiến cấp học bổng cho các học sinh dựa trên kết quả học tập cả năm môn toán (bảng tbl_math), sao cho:\n",
        "* Các học sinh có kết quả học tập cả năm (cột G3) cao hơn thì ưu tiên lựa chọn.\n",
        "* Tỷ trọng số lượng học sinh theo từng gới tính (cột sex) được nhận học bổng là như nhau: số học sinh nam nhận học bổng trên tổng số học sinh nam bằng số học sinh nữ nhận học bổng trên tổng số nữ.\n",
        "* Tổng số thời gian vắng mặt (cột absences) của các học sinh được nhận học bổng không quá 5% tổng thời gian vắng mặt của tất cả học sinh.\n",
        "\n",
        "YC: Viết lệnh SQL truy xuất số lượng học sinh được nhận học bổng của mỗi giới tính. Bảng đầu ra có các cột: {sex:string, student_num:int}"
      ],
      "metadata": {
        "id": "005NWyHX-6wq"
      }
    },
    {
      "cell_type": "code",
      "source": [
        "sql_text = (\n",
        "# YOUR CODE START \n",
        "'''\n",
        "WITH pct_table AS (\n",
        "  SELECT  *, ROW_NUMBER() OVER (PARTITION BY sex ORDER BY g3 DESC)\n",
        "            / COUNT(1) OVER (PARTITION BY sex) as pct\n",
        "  FROM tbl_math\n",
        ")\n",
        "SELECT sex, COUNT(1) AS student_num\n",
        "FROM  (\n",
        "        SELECT  *, SUM(absences) OVER (ORDER BY pct)/ SUM(absences) OVER () as ratio\n",
        "        FROM    pct_table\n",
        "      )\n",
        "WHERE ratio <= 0.05\n",
        "GROUP BY sex\n",
        "'''\n",
        "# / END YOUR CODE\n",
        ")\n",
        "spark.sql(sql_text).toPandas()"
      ],
      "metadata": {
        "colab": {
          "base_uri": "https://localhost:8080/",
          "height": 112
        },
        "id": "LQkqzeeH71du",
        "outputId": "af32481a-c96b-4c1e-c9c8-342f091bd4f1"
      },
      "execution_count": null,
      "outputs": [
        {
          "output_type": "execute_result",
          "data": {
            "text/html": [
              "\n",
              "  <div id=\"df-2d0927ac-82c8-4e88-b4e9-2b8121744f14\">\n",
              "    <div class=\"colab-df-container\">\n",
              "      <div>\n",
              "<style scoped>\n",
              "    .dataframe tbody tr th:only-of-type {\n",
              "        vertical-align: middle;\n",
              "    }\n",
              "\n",
              "    .dataframe tbody tr th {\n",
              "        vertical-align: top;\n",
              "    }\n",
              "\n",
              "    .dataframe thead th {\n",
              "        text-align: right;\n",
              "    }\n",
              "</style>\n",
              "<table border=\"1\" class=\"dataframe\">\n",
              "  <thead>\n",
              "    <tr style=\"text-align: right;\">\n",
              "      <th></th>\n",
              "      <th>sex</th>\n",
              "      <th>student_num</th>\n",
              "    </tr>\n",
              "  </thead>\n",
              "  <tbody>\n",
              "    <tr>\n",
              "      <th>0</th>\n",
              "      <td>F</td>\n",
              "      <td>11</td>\n",
              "    </tr>\n",
              "    <tr>\n",
              "      <th>1</th>\n",
              "      <td>M</td>\n",
              "      <td>10</td>\n",
              "    </tr>\n",
              "  </tbody>\n",
              "</table>\n",
              "</div>\n",
              "      <button class=\"colab-df-convert\" onclick=\"convertToInteractive('df-2d0927ac-82c8-4e88-b4e9-2b8121744f14')\"\n",
              "              title=\"Convert this dataframe to an interactive table.\"\n",
              "              style=\"display:none;\">\n",
              "        \n",
              "  <svg xmlns=\"http://www.w3.org/2000/svg\" height=\"24px\"viewBox=\"0 0 24 24\"\n",
              "       width=\"24px\">\n",
              "    <path d=\"M0 0h24v24H0V0z\" fill=\"none\"/>\n",
              "    <path d=\"M18.56 5.44l.94 2.06.94-2.06 2.06-.94-2.06-.94-.94-2.06-.94 2.06-2.06.94zm-11 1L8.5 8.5l.94-2.06 2.06-.94-2.06-.94L8.5 2.5l-.94 2.06-2.06.94zm10 10l.94 2.06.94-2.06 2.06-.94-2.06-.94-.94-2.06-.94 2.06-2.06.94z\"/><path d=\"M17.41 7.96l-1.37-1.37c-.4-.4-.92-.59-1.43-.59-.52 0-1.04.2-1.43.59L10.3 9.45l-7.72 7.72c-.78.78-.78 2.05 0 2.83L4 21.41c.39.39.9.59 1.41.59.51 0 1.02-.2 1.41-.59l7.78-7.78 2.81-2.81c.8-.78.8-2.07 0-2.86zM5.41 20L4 18.59l7.72-7.72 1.47 1.35L5.41 20z\"/>\n",
              "  </svg>\n",
              "      </button>\n",
              "      \n",
              "  <style>\n",
              "    .colab-df-container {\n",
              "      display:flex;\n",
              "      flex-wrap:wrap;\n",
              "      gap: 12px;\n",
              "    }\n",
              "\n",
              "    .colab-df-convert {\n",
              "      background-color: #E8F0FE;\n",
              "      border: none;\n",
              "      border-radius: 50%;\n",
              "      cursor: pointer;\n",
              "      display: none;\n",
              "      fill: #1967D2;\n",
              "      height: 32px;\n",
              "      padding: 0 0 0 0;\n",
              "      width: 32px;\n",
              "    }\n",
              "\n",
              "    .colab-df-convert:hover {\n",
              "      background-color: #E2EBFA;\n",
              "      box-shadow: 0px 1px 2px rgba(60, 64, 67, 0.3), 0px 1px 3px 1px rgba(60, 64, 67, 0.15);\n",
              "      fill: #174EA6;\n",
              "    }\n",
              "\n",
              "    [theme=dark] .colab-df-convert {\n",
              "      background-color: #3B4455;\n",
              "      fill: #D2E3FC;\n",
              "    }\n",
              "\n",
              "    [theme=dark] .colab-df-convert:hover {\n",
              "      background-color: #434B5C;\n",
              "      box-shadow: 0px 1px 3px 1px rgba(0, 0, 0, 0.15);\n",
              "      filter: drop-shadow(0px 1px 2px rgba(0, 0, 0, 0.3));\n",
              "      fill: #FFFFFF;\n",
              "    }\n",
              "  </style>\n",
              "\n",
              "      <script>\n",
              "        const buttonEl =\n",
              "          document.querySelector('#df-2d0927ac-82c8-4e88-b4e9-2b8121744f14 button.colab-df-convert');\n",
              "        buttonEl.style.display =\n",
              "          google.colab.kernel.accessAllowed ? 'block' : 'none';\n",
              "\n",
              "        async function convertToInteractive(key) {\n",
              "          const element = document.querySelector('#df-2d0927ac-82c8-4e88-b4e9-2b8121744f14');\n",
              "          const dataTable =\n",
              "            await google.colab.kernel.invokeFunction('convertToInteractive',\n",
              "                                                     [key], {});\n",
              "          if (!dataTable) return;\n",
              "\n",
              "          const docLinkHtml = 'Like what you see? Visit the ' +\n",
              "            '<a target=\"_blank\" href=https://colab.research.google.com/notebooks/data_table.ipynb>data table notebook</a>'\n",
              "            + ' to learn more about interactive tables.';\n",
              "          element.innerHTML = '';\n",
              "          dataTable['output_type'] = 'display_data';\n",
              "          await google.colab.output.renderOutput(dataTable, element);\n",
              "          const docLink = document.createElement('div');\n",
              "          docLink.innerHTML = docLinkHtml;\n",
              "          element.appendChild(docLink);\n",
              "        }\n",
              "      </script>\n",
              "    </div>\n",
              "  </div>\n",
              "  "
            ],
            "text/plain": [
              "  sex  student_num\n",
              "0   F           11\n",
              "1   M           10"
            ]
          },
          "metadata": {},
          "execution_count": 13
        }
      ]
    },
    {
      "cell_type": "code",
      "source": [
        "TEST.test_2(sql_text)"
      ],
      "metadata": {
        "colab": {
          "base_uri": "https://localhost:8080/"
        },
        "id": "m_S3M4cD0eec",
        "outputId": "15a0cbdc-a044-4379-9bf3-8f706b5abb3d"
      },
      "execution_count": null,
      "outputs": [
        {
          "output_type": "stream",
          "name": "stdout",
          "text": [
            "PASS\n"
          ]
        }
      ]
    },
    {
      "cell_type": "markdown",
      "source": [
        "### 1.2. PYSPARK\n",
        "Sử dụng pyspark và các dataframe df_math, df_por trả lời các câu hỏi sau"
      ],
      "metadata": {
        "id": "jUfEVoLe4X8k"
      }
    },
    {
      "cell_type": "markdown",
      "source": [
        "Câu 5. [2p, 1đ] Xác định số lượng học sinh vừa học môn toán, vừa học tiếng Bồ Đào Nha. Biết rằng, mỗi sinh viên được đặc trưng bởi một tổ hợp các cột: \"school\",\"sex\",\"age\",\"address\",\"famsize\",\"Pstatus\",\"Medu\",\"Fedu\",\"Mjob\",\"Fjob\",\"reason\",\"nursery\",\"internet\""
      ],
      "metadata": {
        "id": "nbDm1Z2y4g_q"
      }
    },
    {
      "cell_type": "code",
      "source": [
        "# YOUR CODE START \n",
        "student_id = [\"school\",\"sex\",\"age\",\"address\",\"famsize\",\"Pstatus\",\"Medu\",\"Fedu\",\"Mjob\",\"Fjob\",\"reason\",\"nursery\",\"internet\"]\n",
        "df_por2=df_por.withColumnRenamed('g3', 'por_g3')\n",
        "\n",
        "df_merge = df_math.join(df_por2, on = student_id)\n",
        "\n",
        "df_merge.count()\n",
        "# / END YOUR CODE"
      ],
      "metadata": {
        "id": "IqCvelRT52LV",
        "colab": {
          "base_uri": "https://localhost:8080/"
        },
        "outputId": "94a80516-c67a-42b1-bf84-7b463270c25b"
      },
      "execution_count": null,
      "outputs": [
        {
          "output_type": "execute_result",
          "data": {
            "text/plain": [
              "382"
            ]
          },
          "metadata": {},
          "execution_count": 34
        }
      ]
    },
    {
      "cell_type": "markdown",
      "source": [
        "Câu 6. [2p, 1đ]\n",
        "Xác định hệ số tương quan Pearson giữa điểm số cả năm môn toán và điểm số cả năm môn tiếng Bồ Đào Nha của các học sinh đều học 2 môn này\n"
      ],
      "metadata": {
        "id": "bEEIGB6S8TVK"
      }
    },
    {
      "cell_type": "code",
      "source": [
        "# YOUR CODE START \n",
        "\n",
        "pearson_corr = df_merge.stat.corr( 'G3', 'por_G3')\n",
        "pearson_corr\n",
        "\n",
        "# / END YOUR CODE"
      ],
      "metadata": {
        "id": "XkZyQ1QL_0AT",
        "outputId": "b43b6aa6-d9d1-48ed-f7b5-628c4789f675",
        "colab": {
          "base_uri": "https://localhost:8080/"
        }
      },
      "execution_count": null,
      "outputs": [
        {
          "output_type": "execute_result",
          "data": {
            "text/plain": [
              "0.4803493619410261"
            ]
          },
          "metadata": {},
          "execution_count": 83
        }
      ]
    },
    {
      "cell_type": "markdown",
      "source": [
        "Câu 7. [5p. 2đ] Xác định hệ số tương quan Kendall tau của điểm số học kỳ 2 học kỳ (G1 và G2) giữa môn toán và môn tiếng Bồ Đào Nha của từng học sinh (cho các học sinh học cả 2 môn này). Biết rằng pyspark không hỗ trợ , nhưng scipy có hỗ trợ tính Kendall tau tại: scipy.stats.kendalltau."
      ],
      "metadata": {
        "id": "QhXovxkv-h8B"
      }
    },
    {
      "cell_type": "code",
      "source": [
        "from scipy.stats import kendalltau\n",
        "\n",
        "# YOUR CODE START \n",
        "\n",
        "@F.pandas_udf(\"float\")\n",
        "def kendall_corr(x: pd.Series, y: pd.Series)-> float:\n",
        "    return kendalltau(x, y).correlation\n",
        "\n",
        "df_merge.select(kendall_corr(df_merge['G3'], df_merge['por_G3'])).show()\n",
        "\n",
        "# / END YOUR CODE"
      ],
      "metadata": {
        "id": "z_sRZKmrBfj8",
        "outputId": "b0cddaa1-15f9-4356-b5ee-b5ff366bec1f",
        "colab": {
          "base_uri": "https://localhost:8080/"
        }
      },
      "execution_count": null,
      "outputs": [
        {
          "output_type": "stream",
          "name": "stdout",
          "text": [
            "+------------------------+\n",
            "|kendall_corr(G3, por_G3)|\n",
            "+------------------------+\n",
            "|               0.4188197|\n",
            "+------------------------+\n",
            "\n"
          ]
        }
      ]
    },
    {
      "cell_type": "markdown",
      "source": [
        "## 2. MODELING"
      ],
      "metadata": {
        "id": "hX_vAPo5FWld"
      }
    },
    {
      "cell_type": "code",
      "source": [
        "pddf_por = pd.read_csv(file_path_por, sep=';')\n",
        "pddf_por.head()"
      ],
      "metadata": {
        "id": "ocTVLZYNEma_",
        "outputId": "a5e30d29-de85-44de-f6be-f218c19a2f2e",
        "colab": {
          "base_uri": "https://localhost:8080/",
          "height": 270
        }
      },
      "execution_count": null,
      "outputs": [
        {
          "output_type": "execute_result",
          "data": {
            "text/html": [
              "\n",
              "  <div id=\"df-3f842834-526e-47ba-9dcc-19f290214a9e\">\n",
              "    <div class=\"colab-df-container\">\n",
              "      <div>\n",
              "<style scoped>\n",
              "    .dataframe tbody tr th:only-of-type {\n",
              "        vertical-align: middle;\n",
              "    }\n",
              "\n",
              "    .dataframe tbody tr th {\n",
              "        vertical-align: top;\n",
              "    }\n",
              "\n",
              "    .dataframe thead th {\n",
              "        text-align: right;\n",
              "    }\n",
              "</style>\n",
              "<table border=\"1\" class=\"dataframe\">\n",
              "  <thead>\n",
              "    <tr style=\"text-align: right;\">\n",
              "      <th></th>\n",
              "      <th>school</th>\n",
              "      <th>sex</th>\n",
              "      <th>age</th>\n",
              "      <th>address</th>\n",
              "      <th>famsize</th>\n",
              "      <th>Pstatus</th>\n",
              "      <th>Medu</th>\n",
              "      <th>Fedu</th>\n",
              "      <th>Mjob</th>\n",
              "      <th>Fjob</th>\n",
              "      <th>reason</th>\n",
              "      <th>guardian</th>\n",
              "      <th>traveltime</th>\n",
              "      <th>studytime</th>\n",
              "      <th>failures</th>\n",
              "      <th>schoolsup</th>\n",
              "      <th>famsup</th>\n",
              "      <th>paid</th>\n",
              "      <th>activities</th>\n",
              "      <th>nursery</th>\n",
              "      <th>higher</th>\n",
              "      <th>internet</th>\n",
              "      <th>romantic</th>\n",
              "      <th>famrel</th>\n",
              "      <th>freetime</th>\n",
              "      <th>goout</th>\n",
              "      <th>Dalc</th>\n",
              "      <th>Walc</th>\n",
              "      <th>health</th>\n",
              "      <th>absences</th>\n",
              "      <th>G1</th>\n",
              "      <th>G2</th>\n",
              "      <th>G3</th>\n",
              "    </tr>\n",
              "  </thead>\n",
              "  <tbody>\n",
              "    <tr>\n",
              "      <th>0</th>\n",
              "      <td>GP</td>\n",
              "      <td>F</td>\n",
              "      <td>18</td>\n",
              "      <td>U</td>\n",
              "      <td>GT3</td>\n",
              "      <td>A</td>\n",
              "      <td>4</td>\n",
              "      <td>4</td>\n",
              "      <td>at_home</td>\n",
              "      <td>teacher</td>\n",
              "      <td>course</td>\n",
              "      <td>mother</td>\n",
              "      <td>2</td>\n",
              "      <td>2</td>\n",
              "      <td>0</td>\n",
              "      <td>yes</td>\n",
              "      <td>no</td>\n",
              "      <td>no</td>\n",
              "      <td>no</td>\n",
              "      <td>yes</td>\n",
              "      <td>yes</td>\n",
              "      <td>no</td>\n",
              "      <td>no</td>\n",
              "      <td>4</td>\n",
              "      <td>3</td>\n",
              "      <td>4</td>\n",
              "      <td>1</td>\n",
              "      <td>1</td>\n",
              "      <td>3</td>\n",
              "      <td>4</td>\n",
              "      <td>0</td>\n",
              "      <td>11</td>\n",
              "      <td>11</td>\n",
              "    </tr>\n",
              "    <tr>\n",
              "      <th>1</th>\n",
              "      <td>GP</td>\n",
              "      <td>F</td>\n",
              "      <td>17</td>\n",
              "      <td>U</td>\n",
              "      <td>GT3</td>\n",
              "      <td>T</td>\n",
              "      <td>1</td>\n",
              "      <td>1</td>\n",
              "      <td>at_home</td>\n",
              "      <td>other</td>\n",
              "      <td>course</td>\n",
              "      <td>father</td>\n",
              "      <td>1</td>\n",
              "      <td>2</td>\n",
              "      <td>0</td>\n",
              "      <td>no</td>\n",
              "      <td>yes</td>\n",
              "      <td>no</td>\n",
              "      <td>no</td>\n",
              "      <td>no</td>\n",
              "      <td>yes</td>\n",
              "      <td>yes</td>\n",
              "      <td>no</td>\n",
              "      <td>5</td>\n",
              "      <td>3</td>\n",
              "      <td>3</td>\n",
              "      <td>1</td>\n",
              "      <td>1</td>\n",
              "      <td>3</td>\n",
              "      <td>2</td>\n",
              "      <td>9</td>\n",
              "      <td>11</td>\n",
              "      <td>11</td>\n",
              "    </tr>\n",
              "    <tr>\n",
              "      <th>2</th>\n",
              "      <td>GP</td>\n",
              "      <td>F</td>\n",
              "      <td>15</td>\n",
              "      <td>U</td>\n",
              "      <td>LE3</td>\n",
              "      <td>T</td>\n",
              "      <td>1</td>\n",
              "      <td>1</td>\n",
              "      <td>at_home</td>\n",
              "      <td>other</td>\n",
              "      <td>other</td>\n",
              "      <td>mother</td>\n",
              "      <td>1</td>\n",
              "      <td>2</td>\n",
              "      <td>0</td>\n",
              "      <td>yes</td>\n",
              "      <td>no</td>\n",
              "      <td>no</td>\n",
              "      <td>no</td>\n",
              "      <td>yes</td>\n",
              "      <td>yes</td>\n",
              "      <td>yes</td>\n",
              "      <td>no</td>\n",
              "      <td>4</td>\n",
              "      <td>3</td>\n",
              "      <td>2</td>\n",
              "      <td>2</td>\n",
              "      <td>3</td>\n",
              "      <td>3</td>\n",
              "      <td>6</td>\n",
              "      <td>12</td>\n",
              "      <td>13</td>\n",
              "      <td>12</td>\n",
              "    </tr>\n",
              "    <tr>\n",
              "      <th>3</th>\n",
              "      <td>GP</td>\n",
              "      <td>F</td>\n",
              "      <td>15</td>\n",
              "      <td>U</td>\n",
              "      <td>GT3</td>\n",
              "      <td>T</td>\n",
              "      <td>4</td>\n",
              "      <td>2</td>\n",
              "      <td>health</td>\n",
              "      <td>services</td>\n",
              "      <td>home</td>\n",
              "      <td>mother</td>\n",
              "      <td>1</td>\n",
              "      <td>3</td>\n",
              "      <td>0</td>\n",
              "      <td>no</td>\n",
              "      <td>yes</td>\n",
              "      <td>no</td>\n",
              "      <td>yes</td>\n",
              "      <td>yes</td>\n",
              "      <td>yes</td>\n",
              "      <td>yes</td>\n",
              "      <td>yes</td>\n",
              "      <td>3</td>\n",
              "      <td>2</td>\n",
              "      <td>2</td>\n",
              "      <td>1</td>\n",
              "      <td>1</td>\n",
              "      <td>5</td>\n",
              "      <td>0</td>\n",
              "      <td>14</td>\n",
              "      <td>14</td>\n",
              "      <td>14</td>\n",
              "    </tr>\n",
              "    <tr>\n",
              "      <th>4</th>\n",
              "      <td>GP</td>\n",
              "      <td>F</td>\n",
              "      <td>16</td>\n",
              "      <td>U</td>\n",
              "      <td>GT3</td>\n",
              "      <td>T</td>\n",
              "      <td>3</td>\n",
              "      <td>3</td>\n",
              "      <td>other</td>\n",
              "      <td>other</td>\n",
              "      <td>home</td>\n",
              "      <td>father</td>\n",
              "      <td>1</td>\n",
              "      <td>2</td>\n",
              "      <td>0</td>\n",
              "      <td>no</td>\n",
              "      <td>yes</td>\n",
              "      <td>no</td>\n",
              "      <td>no</td>\n",
              "      <td>yes</td>\n",
              "      <td>yes</td>\n",
              "      <td>no</td>\n",
              "      <td>no</td>\n",
              "      <td>4</td>\n",
              "      <td>3</td>\n",
              "      <td>2</td>\n",
              "      <td>1</td>\n",
              "      <td>2</td>\n",
              "      <td>5</td>\n",
              "      <td>0</td>\n",
              "      <td>11</td>\n",
              "      <td>13</td>\n",
              "      <td>13</td>\n",
              "    </tr>\n",
              "  </tbody>\n",
              "</table>\n",
              "</div>\n",
              "      <button class=\"colab-df-convert\" onclick=\"convertToInteractive('df-3f842834-526e-47ba-9dcc-19f290214a9e')\"\n",
              "              title=\"Convert this dataframe to an interactive table.\"\n",
              "              style=\"display:none;\">\n",
              "        \n",
              "  <svg xmlns=\"http://www.w3.org/2000/svg\" height=\"24px\"viewBox=\"0 0 24 24\"\n",
              "       width=\"24px\">\n",
              "    <path d=\"M0 0h24v24H0V0z\" fill=\"none\"/>\n",
              "    <path d=\"M18.56 5.44l.94 2.06.94-2.06 2.06-.94-2.06-.94-.94-2.06-.94 2.06-2.06.94zm-11 1L8.5 8.5l.94-2.06 2.06-.94-2.06-.94L8.5 2.5l-.94 2.06-2.06.94zm10 10l.94 2.06.94-2.06 2.06-.94-2.06-.94-.94-2.06-.94 2.06-2.06.94z\"/><path d=\"M17.41 7.96l-1.37-1.37c-.4-.4-.92-.59-1.43-.59-.52 0-1.04.2-1.43.59L10.3 9.45l-7.72 7.72c-.78.78-.78 2.05 0 2.83L4 21.41c.39.39.9.59 1.41.59.51 0 1.02-.2 1.41-.59l7.78-7.78 2.81-2.81c.8-.78.8-2.07 0-2.86zM5.41 20L4 18.59l7.72-7.72 1.47 1.35L5.41 20z\"/>\n",
              "  </svg>\n",
              "      </button>\n",
              "      \n",
              "  <style>\n",
              "    .colab-df-container {\n",
              "      display:flex;\n",
              "      flex-wrap:wrap;\n",
              "      gap: 12px;\n",
              "    }\n",
              "\n",
              "    .colab-df-convert {\n",
              "      background-color: #E8F0FE;\n",
              "      border: none;\n",
              "      border-radius: 50%;\n",
              "      cursor: pointer;\n",
              "      display: none;\n",
              "      fill: #1967D2;\n",
              "      height: 32px;\n",
              "      padding: 0 0 0 0;\n",
              "      width: 32px;\n",
              "    }\n",
              "\n",
              "    .colab-df-convert:hover {\n",
              "      background-color: #E2EBFA;\n",
              "      box-shadow: 0px 1px 2px rgba(60, 64, 67, 0.3), 0px 1px 3px 1px rgba(60, 64, 67, 0.15);\n",
              "      fill: #174EA6;\n",
              "    }\n",
              "\n",
              "    [theme=dark] .colab-df-convert {\n",
              "      background-color: #3B4455;\n",
              "      fill: #D2E3FC;\n",
              "    }\n",
              "\n",
              "    [theme=dark] .colab-df-convert:hover {\n",
              "      background-color: #434B5C;\n",
              "      box-shadow: 0px 1px 3px 1px rgba(0, 0, 0, 0.15);\n",
              "      filter: drop-shadow(0px 1px 2px rgba(0, 0, 0, 0.3));\n",
              "      fill: #FFFFFF;\n",
              "    }\n",
              "  </style>\n",
              "\n",
              "      <script>\n",
              "        const buttonEl =\n",
              "          document.querySelector('#df-3f842834-526e-47ba-9dcc-19f290214a9e button.colab-df-convert');\n",
              "        buttonEl.style.display =\n",
              "          google.colab.kernel.accessAllowed ? 'block' : 'none';\n",
              "\n",
              "        async function convertToInteractive(key) {\n",
              "          const element = document.querySelector('#df-3f842834-526e-47ba-9dcc-19f290214a9e');\n",
              "          const dataTable =\n",
              "            await google.colab.kernel.invokeFunction('convertToInteractive',\n",
              "                                                     [key], {});\n",
              "          if (!dataTable) return;\n",
              "\n",
              "          const docLinkHtml = 'Like what you see? Visit the ' +\n",
              "            '<a target=\"_blank\" href=https://colab.research.google.com/notebooks/data_table.ipynb>data table notebook</a>'\n",
              "            + ' to learn more about interactive tables.';\n",
              "          element.innerHTML = '';\n",
              "          dataTable['output_type'] = 'display_data';\n",
              "          await google.colab.output.renderOutput(dataTable, element);\n",
              "          const docLink = document.createElement('div');\n",
              "          docLink.innerHTML = docLinkHtml;\n",
              "          element.appendChild(docLink);\n",
              "        }\n",
              "      </script>\n",
              "    </div>\n",
              "  </div>\n",
              "  "
            ],
            "text/plain": [
              "  school sex  age address famsize Pstatus  ...  Walc  health absences  G1  G2  G3\n",
              "0     GP   F   18       U     GT3       A  ...     1       3        4   0  11  11\n",
              "1     GP   F   17       U     GT3       T  ...     1       3        2   9  11  11\n",
              "2     GP   F   15       U     LE3       T  ...     3       3        6  12  13  12\n",
              "3     GP   F   15       U     GT3       T  ...     1       5        0  14  14  14\n",
              "4     GP   F   16       U     GT3       T  ...     2       5        0  11  13  13\n",
              "\n",
              "[5 rows x 33 columns]"
            ]
          },
          "metadata": {},
          "execution_count": 88
        }
      ]
    },
    {
      "cell_type": "markdown",
      "source": [
        "Câu 8. [2p, 1đ] Sử dụng pandas dataframe pddf_por, chia ngẫu nhiên thành 2 tập train, test với tỷ lệ 7:3"
      ],
      "metadata": {
        "id": "-aoxeSGhGqOl"
      }
    },
    {
      "cell_type": "code",
      "source": [
        "# YOUR CODE START \n",
        "\n",
        "from sklearn.model_selection import train_test_split\n",
        "train, test = train_test_split(pddf_por, test_size = 0.3, random_state=42)\n",
        "\n",
        "# / END YOUR CODE"
      ],
      "metadata": {
        "id": "3xp1QiouH9Z6"
      },
      "execution_count": null,
      "outputs": []
    },
    {
      "cell_type": "markdown",
      "source": [
        "Câu 9. [5p, 3đ] Tiền xử lý dữ liệu\n",
        "\n",
        "* Với các nhãn G1, G2, G3: giữ nguyên\n",
        "* Với các features (các cột còn lại): \n",
        "  * Với cột dạng số: áp dụng StandardScaler\n",
        "  * Với cột dạng yes/no: chuyển về dạng 0/1\n",
        "  * Với cột dạng biến danh mục: sử dụng onehot-encoder\n",
        "\n",
        "Fit-transform theo luồng trên cho tập train, transform cho tập test để tạo bộ feature"
      ],
      "metadata": {
        "id": "o91PLej5IBER"
      }
    },
    {
      "cell_type": "code",
      "source": [
        "# YOUR CODE START \n",
        "from sklearn.preprocessing import OneHotEncoder, StandardScaler\n",
        "from sklearn.pipeline import Pipeline\n",
        "from sklearn.compose import ColumnTransformer\n",
        "\n",
        "cat_cols = [i for i in train.select_dtypes(include='object').columns]\n",
        "num_cols = [i for i in train.select_dtypes(include='int64').columns if i not in ('G1', 'G2', 'G3')]\n",
        "\n",
        "pipe = ColumnTransformer([\n",
        "     ('cat', OneHotEncoder(), cat_cols),\n",
        "     ('num', StandardScaler() , num_cols)\n",
        "     ])\n",
        "\n",
        "train_scaled = pipe.fit_transform(train)\n",
        "test_scaled = pipe.transform(test)\n",
        "\n",
        "# / END YOUR CODE"
      ],
      "metadata": {
        "id": "PjtG9Pn4IHIw"
      },
      "execution_count": null,
      "outputs": []
    },
    {
      "cell_type": "markdown",
      "source": [
        "Câu 10. [9p, 2đ] Chọn một mô hình và huấn luyện dự đoán đồng thời 3 nhãn G1, G2, G3. Đánh giá hiệu quả model trên tập test với chỉ tiêu mean absolute error (MAE). Sao cho trung bình MAE 3 nhãn trên tập test <=1.98. \n",
        "\n",
        "Tính giá trị MAE từng nhãn khi đó."
      ],
      "metadata": {
        "id": "-vQTkmf0K91H"
      }
    },
    {
      "cell_type": "code",
      "source": [
        "# YOUR CODE START \n",
        "\n",
        "from sklearn.ensemble import RandomForestClassifier\n",
        "from sklearn.metrics import mean_absolute_error\n",
        "rf = RandomForestClassifier(n_estimators=1000, n_jobs=-1, min_samples_leaf=4, random_state=42)\n",
        "rf.fit(train_scaled, train[['G1', 'G2', 'G3']])\n",
        "\n",
        "Y_pred = rf.predict(test_scaled)\n",
        "\n",
        "print( mean_absolute_error( test[['G1', 'G2', 'G3']] ,Y_pred ))\n",
        "\n",
        "print(mean_absolute_error( test[['G1', 'G2', 'G3']] ,Y_pred , multioutput= 'raw_values'))\n",
        "\n",
        "\n",
        "\n",
        "# / END YOUR CODE"
      ],
      "metadata": {
        "id": "IFVTscXKLIf6",
        "outputId": "d14f7f1e-f02b-4726-ad64-0849dbcd79df",
        "colab": {
          "base_uri": "https://localhost:8080/"
        }
      },
      "execution_count": null,
      "outputs": [
        {
          "output_type": "stream",
          "name": "stdout",
          "text": [
            "1.953846153846154\n",
            "[2.02564103 1.74871795 2.08717949]\n"
          ]
        }
      ]
    },
    {
      "cell_type": "markdown",
      "source": [
        "Câu 11. [9p, 2đ] Xây dựng một mạng học sâu với tối thiểu 2 hidden layers với các tham số phù hợp để dự đoán các nhãn G1, G2, G3. Sao cho trung bình MAE 3 nhãn trên tập test <=1.98. \n",
        "\n",
        "Tính giá trị MAE từng nhãn khi đó."
      ],
      "metadata": {
        "id": "NfSzOsyYOFz0"
      }
    },
    {
      "cell_type": "code",
      "source": [
        "# YOUR CODE START \n",
        "model = tf.keras.Sequential([\n",
        "          tf.keras.layers.Dense(64, activation='relu'), \n",
        "          tf.keras.layers.Dropout(0.25), \n",
        "          tf.keras.layers.Dense(16, activation='relu'), \n",
        "          tf.keras.layers.Dense(3)\n",
        "])\n",
        "\n",
        "model.compile( optimizer='adam', loss='mae')\n",
        "model.fit(train_scaled, train[['G1', 'G2', 'G3']], \n",
        "          epochs=75, validation_data = [test_scaled, test[['G1', 'G2', 'G3']] ])\n",
        "\n",
        "print(mean_absolute_error( test[['G1', 'G2', 'G3']] ,model.predict(test_scaled) , multioutput= 'raw_values'))\n",
        "\n",
        "# / END YOUR CODE"
      ],
      "metadata": {
        "id": "qyQr-Bx1Lk2q",
        "outputId": "1cf17121-a37f-45aa-9d58-140fa279d877",
        "colab": {
          "base_uri": "https://localhost:8080/"
        }
      },
      "execution_count": null,
      "outputs": [
        {
          "output_type": "stream",
          "name": "stdout",
          "text": [
            "Epoch 1/75\n",
            "15/15 [==============================] - 0s 11ms/step - loss: 11.6317 - val_loss: 11.2336\n",
            "Epoch 2/75\n",
            "15/15 [==============================] - 0s 3ms/step - loss: 10.8522 - val_loss: 10.2841\n",
            "Epoch 3/75\n",
            "15/15 [==============================] - 0s 3ms/step - loss: 9.6873 - val_loss: 8.7406\n",
            "Epoch 4/75\n",
            "15/15 [==============================] - 0s 3ms/step - loss: 7.8660 - val_loss: 6.6226\n",
            "Epoch 5/75\n",
            "15/15 [==============================] - 0s 3ms/step - loss: 6.1574 - val_loss: 5.3063\n",
            "Epoch 6/75\n",
            "15/15 [==============================] - 0s 5ms/step - loss: 4.9843 - val_loss: 4.0562\n",
            "Epoch 7/75\n",
            "15/15 [==============================] - 0s 4ms/step - loss: 3.7130 - val_loss: 2.7768\n",
            "Epoch 8/75\n",
            "15/15 [==============================] - 0s 4ms/step - loss: 2.6087 - val_loss: 1.9631\n",
            "Epoch 9/75\n",
            "15/15 [==============================] - 0s 4ms/step - loss: 2.3422 - val_loss: 1.9437\n",
            "Epoch 10/75\n",
            "15/15 [==============================] - 0s 5ms/step - loss: 2.3476 - val_loss: 1.9175\n",
            "Epoch 11/75\n",
            "15/15 [==============================] - 0s 5ms/step - loss: 2.2633 - val_loss: 1.8728\n",
            "Epoch 12/75\n",
            "15/15 [==============================] - 0s 3ms/step - loss: 2.1974 - val_loss: 1.8552\n",
            "Epoch 13/75\n",
            "15/15 [==============================] - 0s 4ms/step - loss: 2.1451 - val_loss: 1.8538\n",
            "Epoch 14/75\n",
            "15/15 [==============================] - 0s 3ms/step - loss: 2.2613 - val_loss: 1.8412\n",
            "Epoch 15/75\n",
            "15/15 [==============================] - 0s 3ms/step - loss: 2.2158 - val_loss: 1.8215\n",
            "Epoch 16/75\n",
            "15/15 [==============================] - 0s 3ms/step - loss: 2.0826 - val_loss: 1.8459\n",
            "Epoch 17/75\n",
            "15/15 [==============================] - 0s 4ms/step - loss: 2.1271 - val_loss: 1.8230\n",
            "Epoch 18/75\n",
            "15/15 [==============================] - 0s 4ms/step - loss: 2.1222 - val_loss: 1.8051\n",
            "Epoch 19/75\n",
            "15/15 [==============================] - 0s 5ms/step - loss: 2.0810 - val_loss: 1.8165\n",
            "Epoch 20/75\n",
            "15/15 [==============================] - 0s 4ms/step - loss: 2.0953 - val_loss: 1.8194\n",
            "Epoch 21/75\n",
            "15/15 [==============================] - 0s 5ms/step - loss: 2.0952 - val_loss: 1.8056\n",
            "Epoch 22/75\n",
            "15/15 [==============================] - 0s 4ms/step - loss: 2.0279 - val_loss: 1.8015\n",
            "Epoch 23/75\n",
            "15/15 [==============================] - 0s 3ms/step - loss: 2.0596 - val_loss: 1.8045\n",
            "Epoch 24/75\n",
            "15/15 [==============================] - 0s 5ms/step - loss: 2.0472 - val_loss: 1.8359\n",
            "Epoch 25/75\n",
            "15/15 [==============================] - 0s 4ms/step - loss: 2.0713 - val_loss: 1.8027\n",
            "Epoch 26/75\n",
            "15/15 [==============================] - 0s 3ms/step - loss: 2.0732 - val_loss: 1.8279\n",
            "Epoch 27/75\n",
            "15/15 [==============================] - 0s 4ms/step - loss: 2.0911 - val_loss: 1.7973\n",
            "Epoch 28/75\n",
            "15/15 [==============================] - 0s 5ms/step - loss: 2.1329 - val_loss: 1.8173\n",
            "Epoch 29/75\n",
            "15/15 [==============================] - 0s 5ms/step - loss: 2.0347 - val_loss: 1.8007\n",
            "Epoch 30/75\n",
            "15/15 [==============================] - 0s 5ms/step - loss: 2.0331 - val_loss: 1.8102\n",
            "Epoch 31/75\n",
            "15/15 [==============================] - 0s 4ms/step - loss: 2.0384 - val_loss: 1.8181\n",
            "Epoch 32/75\n",
            "15/15 [==============================] - 0s 4ms/step - loss: 1.9160 - val_loss: 1.7991\n",
            "Epoch 33/75\n",
            "15/15 [==============================] - 0s 4ms/step - loss: 2.0468 - val_loss: 1.8214\n",
            "Epoch 34/75\n",
            "15/15 [==============================] - 0s 4ms/step - loss: 2.0270 - val_loss: 1.7924\n",
            "Epoch 35/75\n",
            "15/15 [==============================] - 0s 5ms/step - loss: 2.0743 - val_loss: 1.7955\n",
            "Epoch 36/75\n",
            "15/15 [==============================] - 0s 3ms/step - loss: 2.0199 - val_loss: 1.7951\n",
            "Epoch 37/75\n",
            "15/15 [==============================] - 0s 4ms/step - loss: 1.9674 - val_loss: 1.7796\n",
            "Epoch 38/75\n",
            "15/15 [==============================] - 0s 5ms/step - loss: 1.9480 - val_loss: 1.7839\n",
            "Epoch 39/75\n",
            "15/15 [==============================] - 0s 3ms/step - loss: 1.9393 - val_loss: 1.7895\n",
            "Epoch 40/75\n",
            "15/15 [==============================] - 0s 3ms/step - loss: 1.9340 - val_loss: 1.8014\n",
            "Epoch 41/75\n",
            "15/15 [==============================] - 0s 4ms/step - loss: 1.8647 - val_loss: 1.7797\n",
            "Epoch 42/75\n",
            "15/15 [==============================] - 0s 5ms/step - loss: 2.0424 - val_loss: 1.8312\n",
            "Epoch 43/75\n",
            "15/15 [==============================] - 0s 4ms/step - loss: 1.9406 - val_loss: 1.7967\n",
            "Epoch 44/75\n",
            "15/15 [==============================] - 0s 3ms/step - loss: 1.9218 - val_loss: 1.7897\n",
            "Epoch 45/75\n",
            "15/15 [==============================] - 0s 4ms/step - loss: 1.9403 - val_loss: 1.8197\n",
            "Epoch 46/75\n",
            "15/15 [==============================] - 0s 3ms/step - loss: 1.9478 - val_loss: 1.7909\n",
            "Epoch 47/75\n",
            "15/15 [==============================] - 0s 5ms/step - loss: 1.9428 - val_loss: 1.7937\n",
            "Epoch 48/75\n",
            "15/15 [==============================] - 0s 4ms/step - loss: 1.9329 - val_loss: 1.7972\n",
            "Epoch 49/75\n",
            "15/15 [==============================] - 0s 5ms/step - loss: 1.9377 - val_loss: 1.7990\n",
            "Epoch 50/75\n",
            "15/15 [==============================] - 0s 4ms/step - loss: 1.9290 - val_loss: 1.8441\n",
            "Epoch 51/75\n",
            "15/15 [==============================] - 0s 4ms/step - loss: 1.9241 - val_loss: 1.7967\n",
            "Epoch 52/75\n",
            "15/15 [==============================] - 0s 3ms/step - loss: 1.8993 - val_loss: 1.8028\n",
            "Epoch 53/75\n",
            "15/15 [==============================] - 0s 3ms/step - loss: 1.8978 - val_loss: 1.7867\n",
            "Epoch 54/75\n",
            "15/15 [==============================] - 0s 3ms/step - loss: 1.8804 - val_loss: 1.8298\n",
            "Epoch 55/75\n",
            "15/15 [==============================] - 0s 4ms/step - loss: 1.8748 - val_loss: 1.7887\n",
            "Epoch 56/75\n",
            "15/15 [==============================] - 0s 3ms/step - loss: 1.9046 - val_loss: 1.8396\n",
            "Epoch 57/75\n",
            "15/15 [==============================] - 0s 4ms/step - loss: 1.8944 - val_loss: 1.7867\n",
            "Epoch 58/75\n",
            "15/15 [==============================] - 0s 5ms/step - loss: 1.8312 - val_loss: 1.8001\n",
            "Epoch 59/75\n",
            "15/15 [==============================] - 0s 4ms/step - loss: 1.8504 - val_loss: 1.7778\n",
            "Epoch 60/75\n",
            "15/15 [==============================] - 0s 3ms/step - loss: 1.9029 - val_loss: 1.8223\n",
            "Epoch 61/75\n",
            "15/15 [==============================] - 0s 3ms/step - loss: 1.7719 - val_loss: 1.7861\n",
            "Epoch 62/75\n",
            "15/15 [==============================] - 0s 3ms/step - loss: 1.8835 - val_loss: 1.7839\n",
            "Epoch 63/75\n",
            "15/15 [==============================] - 0s 3ms/step - loss: 1.8141 - val_loss: 1.7958\n",
            "Epoch 64/75\n",
            "15/15 [==============================] - 0s 3ms/step - loss: 1.8092 - val_loss: 1.7979\n",
            "Epoch 65/75\n",
            "15/15 [==============================] - 0s 4ms/step - loss: 1.8352 - val_loss: 1.8000\n",
            "Epoch 66/75\n",
            "15/15 [==============================] - 0s 4ms/step - loss: 1.8987 - val_loss: 1.8296\n",
            "Epoch 67/75\n",
            "15/15 [==============================] - 0s 4ms/step - loss: 1.8371 - val_loss: 1.8247\n",
            "Epoch 68/75\n",
            "15/15 [==============================] - 0s 3ms/step - loss: 1.7786 - val_loss: 1.8081\n",
            "Epoch 69/75\n",
            "15/15 [==============================] - 0s 3ms/step - loss: 1.7793 - val_loss: 1.7923\n",
            "Epoch 70/75\n",
            "15/15 [==============================] - 0s 4ms/step - loss: 1.8122 - val_loss: 1.8076\n",
            "Epoch 71/75\n",
            "15/15 [==============================] - 0s 4ms/step - loss: 1.8327 - val_loss: 1.7730\n",
            "Epoch 72/75\n",
            "15/15 [==============================] - 0s 3ms/step - loss: 1.8427 - val_loss: 1.9405\n",
            "Epoch 73/75\n",
            "15/15 [==============================] - 0s 4ms/step - loss: 1.8069 - val_loss: 1.7905\n",
            "Epoch 74/75\n",
            "15/15 [==============================] - 0s 5ms/step - loss: 1.8068 - val_loss: 1.8177\n",
            "Epoch 75/75\n",
            "15/15 [==============================] - 0s 5ms/step - loss: 1.7657 - val_loss: 1.8035\n",
            "[1.85806829 1.71590128 1.83665351]\n"
          ]
        }
      ]
    },
    {
      "cell_type": "markdown",
      "source": [
        "Câu 12. [10p, 2đ] Áp dụng transfer learning, hãy sử dụng mạng vừa tạo để xây dựng mô hình dự đoán điểm môn toán.\n",
        "1. Tiền xử lý dữ liệu tương tự như với bộ pddf_por\n",
        "2. Đóng băng 2 layer đầu của model đã huấn luyện trên bộ Tiếng Bồ Đào Nha, bổ sung thêm ít nhất 2 layer phía sau tạo thành mô hình dự đoán 3 đầu ra môn Toán.\n",
        "3. Huấn luyện mô hình dự đoán 3 điểm số môn toán (G1, G2, G3) và đánh giá bằng chỉ tiêu mean square error (MAE).Sao cho trung bình MAE 3 nhãn trên tập test <= 3.0\n",
        "4. Khi đó, MAE của từng nhãn G1, G2, G3 môn toán là bao nhiêu?"
      ],
      "metadata": {
        "id": "SQbasQnwRz3d"
      }
    },
    {
      "cell_type": "code",
      "source": [
        "pddf_math = pd.read_csv(file_path_math, sep=';')\n",
        "# YOUR CODE START \n",
        "\n",
        "train_math, test_math = train_test_split(pddf_math, test_size = 0.3, random_state=42)\n",
        "pipe_math = ColumnTransformer([\n",
        "     ('cat', OneHotEncoder(), cat_cols),\n",
        "     ('num', StandardScaler() , num_cols)\n",
        "     ])\n",
        "\n",
        "train_math_scaled = pipe_math.fit_transform(train_math)\n",
        "test_math_scaled = pipe_math.transform(test_math)\n",
        "\n",
        "# Por model layes\n",
        "layer_1 = model.layers[0]\n",
        "layer_2 = model.layers[2]\n",
        "\n",
        "layer_1.trainable=False\n",
        "layer_2.trainable=False\n",
        "print( len(layer_1.trainable_weights), len(layer_2.trainable_weights))\n",
        "\n",
        "# Math model\n",
        "model_math = tf.keras.Sequential([\n",
        "          layer_1, layer_2,\n",
        "          tf.keras.layers.Dense(8, activation='relu'),\n",
        "          tf.keras.layers.Dense(3)\n",
        "])\n",
        "\n",
        "model_math.compile( optimizer='adam', loss='mae')\n",
        "model_math.fit(train_math_scaled, train_math[['G1', 'G2', 'G3']], \n",
        "          epochs=75, validation_data = [test_math_scaled, test_math[['G1', 'G2', 'G3']] ])\n",
        "\n",
        "print(mean_absolute_error(test_math[['G1', 'G2', 'G3']] ,\n",
        "                          model_math.predict(test_math_scaled) , \n",
        "                          multioutput= 'raw_values'))\n",
        "\n",
        "\n",
        "# / END YOUR CODE"
      ],
      "metadata": {
        "id": "MABb49CyRjju",
        "outputId": "aa8e2c6b-2e80-4f9c-80f2-178c23b1665f",
        "colab": {
          "base_uri": "https://localhost:8080/"
        }
      },
      "execution_count": null,
      "outputs": [
        {
          "output_type": "stream",
          "name": "stdout",
          "text": [
            "0 0\n",
            "Epoch 1/75\n",
            "9/9 [==============================] - 0s 16ms/step - loss: 11.3193 - val_loss: 10.6546\n",
            "Epoch 2/75\n",
            "9/9 [==============================] - 0s 7ms/step - loss: 10.5420 - val_loss: 9.9492\n",
            "Epoch 3/75\n",
            "9/9 [==============================] - 0s 7ms/step - loss: 9.8465 - val_loss: 9.3351\n",
            "Epoch 4/75\n",
            "9/9 [==============================] - 0s 5ms/step - loss: 9.2374 - val_loss: 8.7984\n",
            "Epoch 5/75\n",
            "9/9 [==============================] - 0s 4ms/step - loss: 8.6979 - val_loss: 8.2835\n",
            "Epoch 6/75\n",
            "9/9 [==============================] - 0s 7ms/step - loss: 8.1987 - val_loss: 7.7949\n",
            "Epoch 7/75\n",
            "9/9 [==============================] - 0s 4ms/step - loss: 7.7239 - val_loss: 7.3337\n",
            "Epoch 8/75\n",
            "9/9 [==============================] - 0s 4ms/step - loss: 7.2727 - val_loss: 6.8904\n",
            "Epoch 9/75\n",
            "9/9 [==============================] - 0s 4ms/step - loss: 6.8332 - val_loss: 6.4547\n",
            "Epoch 10/75\n",
            "9/9 [==============================] - 0s 4ms/step - loss: 6.4034 - val_loss: 6.0227\n",
            "Epoch 11/75\n",
            "9/9 [==============================] - 0s 5ms/step - loss: 5.9889 - val_loss: 5.6456\n",
            "Epoch 12/75\n",
            "9/9 [==============================] - 0s 5ms/step - loss: 5.6189 - val_loss: 5.2891\n",
            "Epoch 13/75\n",
            "9/9 [==============================] - 0s 7ms/step - loss: 5.2779 - val_loss: 4.9295\n",
            "Epoch 14/75\n",
            "9/9 [==============================] - 0s 5ms/step - loss: 4.9054 - val_loss: 4.5826\n",
            "Epoch 15/75\n",
            "9/9 [==============================] - 0s 7ms/step - loss: 4.5550 - val_loss: 4.2279\n",
            "Epoch 16/75\n",
            "9/9 [==============================] - 0s 7ms/step - loss: 4.1961 - val_loss: 3.8707\n",
            "Epoch 17/75\n",
            "9/9 [==============================] - 0s 5ms/step - loss: 3.8388 - val_loss: 3.5449\n",
            "Epoch 18/75\n",
            "9/9 [==============================] - 0s 8ms/step - loss: 3.4874 - val_loss: 3.2742\n",
            "Epoch 19/75\n",
            "9/9 [==============================] - 0s 5ms/step - loss: 3.1884 - val_loss: 3.0649\n",
            "Epoch 20/75\n",
            "9/9 [==============================] - 0s 6ms/step - loss: 2.9564 - val_loss: 2.9260\n",
            "Epoch 21/75\n",
            "9/9 [==============================] - 0s 4ms/step - loss: 2.8031 - val_loss: 2.8567\n",
            "Epoch 22/75\n",
            "9/9 [==============================] - 0s 6ms/step - loss: 2.7165 - val_loss: 2.8239\n",
            "Epoch 23/75\n",
            "9/9 [==============================] - 0s 5ms/step - loss: 2.6756 - val_loss: 2.8092\n",
            "Epoch 24/75\n",
            "9/9 [==============================] - 0s 7ms/step - loss: 2.6595 - val_loss: 2.8036\n",
            "Epoch 25/75\n",
            "9/9 [==============================] - 0s 7ms/step - loss: 2.6550 - val_loss: 2.8021\n",
            "Epoch 26/75\n",
            "9/9 [==============================] - 0s 6ms/step - loss: 2.6526 - val_loss: 2.8023\n",
            "Epoch 27/75\n",
            "9/9 [==============================] - 0s 7ms/step - loss: 2.6533 - val_loss: 2.8023\n",
            "Epoch 28/75\n",
            "9/9 [==============================] - 0s 4ms/step - loss: 2.6522 - val_loss: 2.8024\n",
            "Epoch 29/75\n",
            "9/9 [==============================] - 0s 7ms/step - loss: 2.6520 - val_loss: 2.8020\n",
            "Epoch 30/75\n",
            "9/9 [==============================] - 0s 7ms/step - loss: 2.6516 - val_loss: 2.8020\n",
            "Epoch 31/75\n",
            "9/9 [==============================] - 0s 5ms/step - loss: 2.6517 - val_loss: 2.8017\n",
            "Epoch 32/75\n",
            "9/9 [==============================] - 0s 5ms/step - loss: 2.6513 - val_loss: 2.8022\n",
            "Epoch 33/75\n",
            "9/9 [==============================] - 0s 5ms/step - loss: 2.6537 - val_loss: 2.8023\n",
            "Epoch 34/75\n",
            "9/9 [==============================] - 0s 7ms/step - loss: 2.6544 - val_loss: 2.8026\n",
            "Epoch 35/75\n",
            "9/9 [==============================] - 0s 5ms/step - loss: 2.6511 - val_loss: 2.8021\n",
            "Epoch 36/75\n",
            "9/9 [==============================] - 0s 4ms/step - loss: 2.6513 - val_loss: 2.8021\n",
            "Epoch 37/75\n",
            "9/9 [==============================] - 0s 7ms/step - loss: 2.6507 - val_loss: 2.8026\n",
            "Epoch 38/75\n",
            "9/9 [==============================] - 0s 7ms/step - loss: 2.6527 - val_loss: 2.8027\n",
            "Epoch 39/75\n",
            "9/9 [==============================] - 0s 7ms/step - loss: 2.6522 - val_loss: 2.8023\n",
            "Epoch 40/75\n",
            "9/9 [==============================] - 0s 4ms/step - loss: 2.6516 - val_loss: 2.8018\n",
            "Epoch 41/75\n",
            "9/9 [==============================] - 0s 4ms/step - loss: 2.6526 - val_loss: 2.8027\n",
            "Epoch 42/75\n",
            "9/9 [==============================] - 0s 4ms/step - loss: 2.6494 - val_loss: 2.8017\n",
            "Epoch 43/75\n",
            "9/9 [==============================] - 0s 6ms/step - loss: 2.6501 - val_loss: 2.8017\n",
            "Epoch 44/75\n",
            "9/9 [==============================] - 0s 6ms/step - loss: 2.6497 - val_loss: 2.8020\n",
            "Epoch 45/75\n",
            "9/9 [==============================] - 0s 7ms/step - loss: 2.6515 - val_loss: 2.8018\n",
            "Epoch 46/75\n",
            "9/9 [==============================] - 0s 5ms/step - loss: 2.6508 - val_loss: 2.8022\n",
            "Epoch 47/75\n",
            "9/9 [==============================] - 0s 4ms/step - loss: 2.6497 - val_loss: 2.8026\n",
            "Epoch 48/75\n",
            "9/9 [==============================] - 0s 7ms/step - loss: 2.6500 - val_loss: 2.8019\n",
            "Epoch 49/75\n",
            "9/9 [==============================] - 0s 5ms/step - loss: 2.6496 - val_loss: 2.8024\n",
            "Epoch 50/75\n",
            "9/9 [==============================] - 0s 5ms/step - loss: 2.6508 - val_loss: 2.8019\n",
            "Epoch 51/75\n",
            "9/9 [==============================] - 0s 6ms/step - loss: 2.6495 - val_loss: 2.8019\n",
            "Epoch 52/75\n",
            "9/9 [==============================] - 0s 5ms/step - loss: 2.6510 - val_loss: 2.8016\n",
            "Epoch 53/75\n",
            "9/9 [==============================] - 0s 7ms/step - loss: 2.6499 - val_loss: 2.8029\n",
            "Epoch 54/75\n",
            "9/9 [==============================] - 0s 4ms/step - loss: 2.6507 - val_loss: 2.8026\n",
            "Epoch 55/75\n",
            "9/9 [==============================] - 0s 5ms/step - loss: 2.6503 - val_loss: 2.8027\n",
            "Epoch 56/75\n",
            "9/9 [==============================] - 0s 6ms/step - loss: 2.6507 - val_loss: 2.8025\n",
            "Epoch 57/75\n",
            "9/9 [==============================] - 0s 5ms/step - loss: 2.6499 - val_loss: 2.8021\n",
            "Epoch 58/75\n",
            "9/9 [==============================] - 0s 7ms/step - loss: 2.6503 - val_loss: 2.8027\n",
            "Epoch 59/75\n",
            "9/9 [==============================] - 0s 5ms/step - loss: 2.6495 - val_loss: 2.8017\n",
            "Epoch 60/75\n",
            "9/9 [==============================] - 0s 7ms/step - loss: 2.6477 - val_loss: 2.8018\n",
            "Epoch 61/75\n",
            "9/9 [==============================] - 0s 6ms/step - loss: 2.6477 - val_loss: 2.8027\n",
            "Epoch 62/75\n",
            "9/9 [==============================] - 0s 4ms/step - loss: 2.6489 - val_loss: 2.8029\n",
            "Epoch 63/75\n",
            "9/9 [==============================] - 0s 5ms/step - loss: 2.6487 - val_loss: 2.8020\n",
            "Epoch 64/75\n",
            "9/9 [==============================] - 0s 5ms/step - loss: 2.6480 - val_loss: 2.8020\n",
            "Epoch 65/75\n",
            "9/9 [==============================] - 0s 5ms/step - loss: 2.6483 - val_loss: 2.8016\n",
            "Epoch 66/75\n",
            "9/9 [==============================] - 0s 5ms/step - loss: 2.6473 - val_loss: 2.8022\n",
            "Epoch 67/75\n",
            "9/9 [==============================] - 0s 4ms/step - loss: 2.6475 - val_loss: 2.8020\n",
            "Epoch 68/75\n",
            "9/9 [==============================] - 0s 5ms/step - loss: 2.6471 - val_loss: 2.8016\n",
            "Epoch 69/75\n",
            "9/9 [==============================] - 0s 7ms/step - loss: 2.6481 - val_loss: 2.8026\n",
            "Epoch 70/75\n",
            "9/9 [==============================] - 0s 5ms/step - loss: 2.6483 - val_loss: 2.8013\n",
            "Epoch 71/75\n",
            "9/9 [==============================] - 0s 7ms/step - loss: 2.6471 - val_loss: 2.8017\n",
            "Epoch 72/75\n",
            "9/9 [==============================] - 0s 4ms/step - loss: 2.6474 - val_loss: 2.8022\n",
            "Epoch 73/75\n",
            "9/9 [==============================] - 0s 5ms/step - loss: 2.6484 - val_loss: 2.8029\n",
            "Epoch 74/75\n",
            "9/9 [==============================] - 0s 5ms/step - loss: 2.6464 - val_loss: 2.8015\n",
            "Epoch 75/75\n",
            "9/9 [==============================] - 0s 6ms/step - loss: 2.6466 - val_loss: 2.8012\n",
            "[2.54116496 2.66805628 3.19429953]\n"
          ]
        }
      ]
    }
  ]
}