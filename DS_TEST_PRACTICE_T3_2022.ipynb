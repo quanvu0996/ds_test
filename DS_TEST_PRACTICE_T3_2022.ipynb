{
  "cells": [
    {
      "cell_type": "markdown",
      "metadata": {
        "id": "view-in-github",
        "colab_type": "text"
      },
      "source": [
        "<a href=\"https://colab.research.google.com/github/quanvu0996/ds_test/blob/main/DS_TEST_PRACTICE_T3_2022.ipynb\" target=\"_parent\"><img src=\"https://colab.research.google.com/assets/colab-badge.svg\" alt=\"Open In Colab\"/></a>"
      ]
    },
    {
      "cell_type": "markdown",
      "source": [
        "## ĐÁNH GIÁ NĂNG LỰC KỸ SƯ KHOA HỌC DỮ LIỆU THÁNG 03 - 2022\n",
        "#### BÀI THỰC HÀNH\n",
        "---\n",
        "\n",
        "Ngày test: 25/03/2022\n",
        "Thời gian làm bài: 85 phút, từ 10:00 đến 11:25\n",
        "(+ 5 phút thiết lập môi trường và nộp bài)\n",
        "\n",
        "\n",
        "**Quy định:**\n",
        "- Không trao đổi trong suốt quá trình làm bài\n",
        "- Record màn hình làm bài và share lại cho quanvh8 sau khi kết thúc thời gian test\n",
        "- Được sử dụng tài liệu và tra cứu internet\n",
        "- Sau khi hoàn thành, tải notebook, gửi về email: quanvh8@viettel.com.vn\n",
        "\n",
        "**Hướng dẫn làm bài:**\n",
        "\n",
        "* Chạy toàn bộ lệnh trong phần 0. CHUẨN BỊ MÔI TRƯỜNG\n",
        "* Làm theo hướng dẫn tại các câu và CHỈ SỬA các đoạn code nằm giữa các thẻ:\n",
        "\n",
        "      # YOUR CODE START\n",
        "      # / END YOUR CODE\n",
        "\n",
        "*Lưu ý: hầu hết câu hỏi không có tính tuần tự (không cần hoàn thành câu trước để làm câu sau)*\n",
        "\n",
        "*Đề thi có một số testcase hỗ trợ DS kiểm tra kết quả, nhưng đây không phải điểm số. Điểm số được giám khảo chấm và gửi lại sau.*\n",
        "\n",
        "\n",
        "\n",
        "---"
      ],
      "metadata": {
        "id": "wXZRPwolwz2R"
      }
    },
    {
      "cell_type": "markdown",
      "metadata": {
        "id": "j-4dViMswxFM"
      },
      "source": [
        "### 0. CÀI ĐẶT MÔI TRƯỜNG\n",
        "Guide: Chạy toàn bộ các lệnh trong phần này <br>\n",
        "KHÔNG SỬA CÁC CÂU LỆNH TRONG PHẦN NÀY"
      ]
    },
    {
      "cell_type": "code",
      "source": [
        "!pip install pyspark"
      ],
      "metadata": {
        "colab": {
          "base_uri": "https://localhost:8080/"
        },
        "id": "voGA97cu5oBJ",
        "outputId": "47be3d3a-31ca-4bab-d3c5-49ec6a0d5dae",
        "collapsed": true
      },
      "execution_count": 21,
      "outputs": [
        {
          "output_type": "stream",
          "name": "stdout",
          "text": [
            "Requirement already satisfied: pyspark in /usr/local/lib/python3.7/dist-packages (3.2.1)\n",
            "Requirement already satisfied: py4j==0.10.9.3 in /usr/local/lib/python3.7/dist-packages (from pyspark) (0.10.9.3)\n"
          ]
        }
      ]
    },
    {
      "cell_type": "code",
      "execution_count": 22,
      "metadata": {
        "id": "jnRQOyNiwxFQ"
      },
      "outputs": [],
      "source": [
        "import pandas as pd\n",
        "import numpy as np \n",
        "import tensorflow as tf\n",
        "import gzip\n",
        "import shutil\n",
        "import requests \n",
        "import seaborn as sns\n",
        "import matplotlib.pyplot as plt\n",
        "\n",
        "import pyspark\n",
        "from pyspark.sql import functions as F\n",
        "from pyspark.mllib.evaluation import BinaryClassificationMetrics"
      ]
    },
    {
      "cell_type": "code",
      "execution_count": 23,
      "metadata": {
        "id": "Q27LBDnlwxFS"
      },
      "outputs": [],
      "source": [
        "def data_downloader(file_name):\n",
        "    file_url = 'https://datasets.imdbws.com/'+file_name\n",
        "    file_path = \"/content/\"+file_name\n",
        "    \n",
        "    r = requests.get(file_url, stream = True, verify=False) \n",
        "    \n",
        "    with open( file_path, \"wb\") as file: \n",
        "        for block in r.iter_content(chunk_size = 1024*10): \n",
        "            if block: \n",
        "                file.write(block)\n",
        "    print(\"Loaded \"+file_name+\" to local path: \"+file_path)\n",
        "\n",
        "# TEST CASE\n",
        "class TEST():\n",
        "    def test_1(df):\n",
        "        tc1 = (df.columns ==['tconst', 'averageRating', 'numVotes'])\n",
        "        tc2 = (df.count() >= 1227518)\n",
        "        if (tc1 and tc2): print(\"PASS\")\n",
        "        else: print('FAIL')\n",
        "\n",
        "    def test_2(df):\n",
        "        tc1 = (df.columns == ['titleId','ordering','title','region','language','types','attributes','isOriginalTitle'])\n",
        "        tc2 = (df.count() >= 31450282)\n",
        "        if (tc1 and tc2): print(\"PASS\")\n",
        "        else: print('FAIL')\n",
        "\n",
        "    def iia_schema(df_pred):\n",
        "      tc1 = (df_pred.columns == ['tconst', 'pred'])\n",
        "      tc2 = (df_pred.count() == 53956 )\n",
        "      if tc1 and tc2 :\n",
        "        print(\"PASS: dataframe đầu ra đúng định dạng\")\n",
        "      else:\n",
        "        print(\"FAIL: dataframe đầu ra không đúng định dạng, đ/c kiểm tra lại\")\n",
        "      \n",
        "      tc3 = (df_pred.join(test_ratings, on = 'tconst').count() == 53956)\n",
        "      \n",
        "      if tc3 :\n",
        "        print(\"PASS: dataframe đầu ra đúng số lượng bản ghi\")\n",
        "      else:\n",
        "        print(\"FAIL: dataframe đầu ra không đúng số lượng bản ghi, đ/c kiểm tra lại\")\n",
        "        \n",
        "    def mae_iia(df_pred):\n",
        "      result = df_pred.join(test_ratings, on = 'tconst')\n",
        "      result = result.withColumn('ae', F.abs(F.col(\"pred\")-F.col(\"averageRating\")))\n",
        "      result.selectExpr(\"avg(ae) AS mae\").show()\n",
        "\n",
        "    def iib_schema(df_pred):\n",
        "      tc1 = ( list(df_pred.columns) == ['tconst', 'pred'])\n",
        "      tc2 = (df_pred.count()['tconst'] == 104488 )\n",
        "      if tc1 and tc2 :\n",
        "        print(\"PASS: dataframe đầu ra đúng định dạng\")\n",
        "      else:\n",
        "        print(\"FAIL: dataframe đầu ra không đúng định dạng, đ/c kiểm tra lại\")\n",
        "      \n",
        "      tc3 = ( pd.merge(df_pred, test, how='inner', on = 'tconst')['tconst'].count() == 104488)\n",
        "      \n",
        "      if tc3 :\n",
        "        print(\"PASS: dataframe đầu ra đúng số lượng bản ghi\")\n",
        "      else:\n",
        "        print(\"FAIL: dataframe đầu ra không đúng số lượng bản ghi, đ/c kiểm tra lại\")\n",
        "        \n",
        "    def score_iib(df_pred):\n",
        "      eval = pd.merge(df_pred, test, how='inner', on = 'tconst' )\n",
        "      print( roc_auc_score( eval['isAdult'], eval['pred'] ))\n",
        "    "
      ]
    },
    {
      "cell_type": "code",
      "execution_count": 24,
      "metadata": {
        "id": "cBcsFagBwxFT"
      },
      "outputs": [],
      "source": [
        "spark = pyspark.sql.SparkSession \\\n",
        "    .builder \\\n",
        "    .appName(\"DS_test\") \\\n",
        "    .getOrCreate()"
      ]
    },
    {
      "cell_type": "markdown",
      "metadata": {
        "id": "k_n6D2uOwxFU"
      },
      "source": [
        "#### DATA: Bộ IMDb"
      ]
    },
    {
      "cell_type": "markdown",
      "metadata": {
        "id": "WzjBmmazwxFV"
      },
      "source": [
        "Thông tin bộ dữ liệu IMDb: https://www.imdb.com/interfaces/"
      ]
    },
    {
      "cell_type": "markdown",
      "metadata": {
        "id": "ftYhrrfqwxFW"
      },
      "source": [
        "Each dataset is contained in a gzipped, tab-separated-values (TSV) formatted file in the UTF-8 character set. The first line in each file contains headers that describe what is in each column. A ‘\\N’ is used to denote that a particular field is missing or null for that title/name"
      ]
    },
    {
      "cell_type": "markdown",
      "metadata": {
        "id": "YgbxWLJKwxFW"
      },
      "source": [
        "![Alt text](https://relational.fit.cvut.cz/assets/img/datasets-generated/imdb_ijs.svg \"Schema bộ dữ liệu\")"
      ]
    },
    {
      "cell_type": "code",
      "execution_count": 25,
      "metadata": {
        "scrolled": true,
        "colab": {
          "base_uri": "https://localhost:8080/"
        },
        "id": "tPMkN_muwxFX",
        "outputId": "7b1a42cd-b243-4a20-df70-cc3cd588430d"
      },
      "outputs": [
        {
          "output_type": "stream",
          "name": "stderr",
          "text": [
            "/usr/local/lib/python3.7/dist-packages/urllib3/connectionpool.py:847: InsecureRequestWarning: Unverified HTTPS request is being made. Adding certificate verification is strongly advised. See: https://urllib3.readthedocs.io/en/latest/advanced-usage.html#ssl-warnings\n",
            "  InsecureRequestWarning)\n"
          ]
        },
        {
          "output_type": "stream",
          "name": "stdout",
          "text": [
            "Loaded title.akas.tsv.gz to local path: /content/title.akas.tsv.gz\n"
          ]
        },
        {
          "output_type": "stream",
          "name": "stderr",
          "text": [
            "/usr/local/lib/python3.7/dist-packages/urllib3/connectionpool.py:847: InsecureRequestWarning: Unverified HTTPS request is being made. Adding certificate verification is strongly advised. See: https://urllib3.readthedocs.io/en/latest/advanced-usage.html#ssl-warnings\n",
            "  InsecureRequestWarning)\n"
          ]
        },
        {
          "output_type": "stream",
          "name": "stdout",
          "text": [
            "Loaded title.ratings.tsv.gz to local path: /content/title.ratings.tsv.gz\n"
          ]
        },
        {
          "output_type": "stream",
          "name": "stderr",
          "text": [
            "/usr/local/lib/python3.7/dist-packages/urllib3/connectionpool.py:847: InsecureRequestWarning: Unverified HTTPS request is being made. Adding certificate verification is strongly advised. See: https://urllib3.readthedocs.io/en/latest/advanced-usage.html#ssl-warnings\n",
            "  InsecureRequestWarning)\n"
          ]
        },
        {
          "output_type": "stream",
          "name": "stdout",
          "text": [
            "Loaded title.basics.tsv.gz to local path: /content/title.basics.tsv.gz\n"
          ]
        },
        {
          "output_type": "stream",
          "name": "stderr",
          "text": [
            "/usr/local/lib/python3.7/dist-packages/urllib3/connectionpool.py:847: InsecureRequestWarning: Unverified HTTPS request is being made. Adding certificate verification is strongly advised. See: https://urllib3.readthedocs.io/en/latest/advanced-usage.html#ssl-warnings\n",
            "  InsecureRequestWarning)\n"
          ]
        },
        {
          "output_type": "stream",
          "name": "stdout",
          "text": [
            "Loaded title.basics.tsv.gz to local path: /content/title.basics.tsv.gz\n"
          ]
        },
        {
          "output_type": "stream",
          "name": "stderr",
          "text": [
            "/usr/local/lib/python3.7/dist-packages/urllib3/connectionpool.py:847: InsecureRequestWarning: Unverified HTTPS request is being made. Adding certificate verification is strongly advised. See: https://urllib3.readthedocs.io/en/latest/advanced-usage.html#ssl-warnings\n",
            "  InsecureRequestWarning)\n"
          ]
        },
        {
          "output_type": "stream",
          "name": "stdout",
          "text": [
            "Loaded title.crew.tsv.gz to local path: /content/title.crew.tsv.gz\n"
          ]
        },
        {
          "output_type": "stream",
          "name": "stderr",
          "text": [
            "/usr/local/lib/python3.7/dist-packages/urllib3/connectionpool.py:847: InsecureRequestWarning: Unverified HTTPS request is being made. Adding certificate verification is strongly advised. See: https://urllib3.readthedocs.io/en/latest/advanced-usage.html#ssl-warnings\n",
            "  InsecureRequestWarning)\n"
          ]
        },
        {
          "output_type": "stream",
          "name": "stdout",
          "text": [
            "Loaded title.principals.tsv.gz to local path: /content/title.principals.tsv.gz\n"
          ]
        },
        {
          "output_type": "stream",
          "name": "stderr",
          "text": [
            "/usr/local/lib/python3.7/dist-packages/urllib3/connectionpool.py:847: InsecureRequestWarning: Unverified HTTPS request is being made. Adding certificate verification is strongly advised. See: https://urllib3.readthedocs.io/en/latest/advanced-usage.html#ssl-warnings\n",
            "  InsecureRequestWarning)\n"
          ]
        },
        {
          "output_type": "stream",
          "name": "stdout",
          "text": [
            "Loaded name.basics.tsv.gz to local path: /content/name.basics.tsv.gz\n"
          ]
        }
      ],
      "source": [
        "# Tải dữ liệu về\n",
        "file_list = [\"title.akas.tsv.gz\", \"title.ratings.tsv.gz\", \n",
        "             \"title.basics.tsv.gz\", \"title.basics.tsv.gz\", \"title.crew.tsv.gz\", \"title.principals.tsv.gz\",\n",
        "            \"name.basics.tsv.gz\" ]\n",
        "      \n",
        "for i in file_list:\n",
        "    data_downloader(i)"
      ]
    },
    {
      "cell_type": "markdown",
      "metadata": {
        "id": "muScjCy_wxFY"
      },
      "source": [
        "## PHẦN I. CHUNG\n",
        "[ 10 điểm ] <br>\n",
        "Guide: Sử dụng pyspark hoặc spark-SQL thực hiện tất cả các câu thuộc phần này."
      ]
    },
    {
      "cell_type": "markdown",
      "metadata": {
        "id": "IB5z9y7awxFZ"
      },
      "source": [
        "**Câu 1**. [1đ] Đọc các file vào pyspark dataframe, biết rằng các cột trong các file dữ liệu đều phân cách nhau bởi dấu tab (\\t). Lưu tương ứng các dataframe với các file dữ liệu:\n",
        "- df_rating : \"title.ratings.tsv.gz\"\n",
        "- df_akas  :\"title.akas.tsv.gz\"\n",
        "- df_basics  :\"title.basics.tsv.gz\"\n",
        "- df_crew  :\"title.crew.tsv.gz\"\n",
        "- df_principals :\"title.principals.tsv.gz\"\n",
        "- df_person  : \"name.basics.tsv.gz\"\n",
        "\n",
        "(Xem mô tả quan trọng của dữ liệu phía trên)"
      ]
    },
    {
      "cell_type": "code",
      "execution_count": 26,
      "metadata": {
        "id": "qEkvX1pHwxFZ"
      },
      "outputs": [],
      "source": [
        "df_ratings = (\n",
        "    # YOUR CODE START \n",
        "        \n",
        "    # / END YOUR CODE\n",
        ")\n",
        "\n",
        "df_akas= (\n",
        "    # YOUR CODE START \n",
        "        \n",
        "    # / END YOUR CODE\n",
        ")\n",
        "\n",
        "df_basics = (\n",
        "    # YOUR CODE START \n",
        "        \n",
        "    # / END YOUR CODE\n",
        ")\n",
        "\n",
        "df_crew = (\n",
        "    # YOUR CODE START \n",
        "        \n",
        "    # / END YOUR CODE\n",
        ")\n",
        "\n",
        "df_principals = (\n",
        "    # YOUR CODE START \n",
        "        \n",
        "    # / END YOUR CODE\n",
        ")\n",
        "\n",
        "df_person = (\n",
        "    # YOUR CODE START \n",
        "        \n",
        "    # / END YOUR CODE\n",
        ")"
      ]
    },
    {
      "cell_type": "code",
      "execution_count": 28,
      "metadata": {
        "id": "6eCbt1p6wxFa"
      },
      "outputs": [],
      "source": [
        "TEST.test_1(df_ratings)\n",
        "TEST.test_2(df_akas)"
      ]
    },
    {
      "cell_type": "markdown",
      "metadata": {
        "id": "-v4AoLZRwxFa"
      },
      "source": [
        "**Câu 2**. [1đ] Tìm top 3 ngôn ngữ có nhiều nội dung ( bao gồm tất cả nội dung movie, tv show,...) nhất trong bộ dataset này"
      ]
    },
    {
      "cell_type": "code",
      "execution_count": null,
      "metadata": {
        "id": "llIen6GCwxFb"
      },
      "outputs": [],
      "source": [
        "# YOUR CODE START \n",
        "\n",
        "# / END YOUR CODE"
      ]
    },
    {
      "cell_type": "markdown",
      "metadata": {
        "id": "G5rrypjYwxFb"
      },
      "source": [
        "**Câu 3**. [2đ]\n",
        "Trong các bộ phim Mỹ (region=\"US\", titleType=\"movie\") được công chiếu giai đoạn 2010-2015, tìm top 5 thể loại phim có bình quân rating điểm cao nhất."
      ]
    },
    {
      "cell_type": "code",
      "execution_count": null,
      "metadata": {
        "id": "4MXPzExqwxFb"
      },
      "outputs": [],
      "source": [
        "# YOUR CODE START \n",
        "\n",
        "# / END YOUR CODE"
      ]
    },
    {
      "cell_type": "markdown",
      "metadata": {
        "id": "n_hYq0-zwxFb"
      },
      "source": [
        "**Câu 4**. [3đ] Bạn đặt ra một giả thuyết rằng một đạo diễn có xu hướng hợp tác với các diễn viên thân thuộc với họ, hơn là liên tục tìm kiếm các diễn viên mới cho các phim khác nhau. <br>\n",
        "Hãy lựa chọn các metrics phù hợp, phân tích từ bộ dữ liệu thực tế và rút ra kết luận cho giả thuyết trên có đúng hay không? <br>\n",
        "( Phân tích trên thể loại phim titleType=\"movie\", region=\"US\",  thời gian công chiếu trong khoảng 2000-2020)"
      ]
    },
    {
      "cell_type": "code",
      "execution_count": null,
      "metadata": {
        "id": "pYz6LlD6wxFc"
      },
      "outputs": [],
      "source": [
        "# YOUR CODE START \n",
        "\n",
        "# / END YOUR CODE"
      ]
    },
    {
      "cell_type": "code",
      "execution_count": null,
      "metadata": {
        "id": "0FA-MN3DwxFc"
      },
      "outputs": [],
      "source": [
        "your_conclusion = ('''\n",
        "# YOUR CONCLUSION HERE\n",
        "\n",
        "\n",
        "''')"
      ]
    },
    {
      "cell_type": "markdown",
      "metadata": {
        "id": "nfiEFrBqwxFc"
      },
      "source": [
        "**Câu 5**. [3đ] Một giải thưởng về phim (titleType = 'movie') được trao cho các đạo diễn. Danh sách đề cử là các đạo diễn thỏa mãn các điều kiện: <br>\n",
        "1. Đạo diễn vẫn còn sống\n",
        "2. Có trên 5 bộ phim hay (phim hay là phim được chấm điểm averageRating >7.5).\n",
        "3. Tỷ trọng phim tệ (phim tệ là phim có averageRating <= 4) chiếm không quá 20% tổng số phim của đạo diễn đó và không quá 10 bộ phim.\n",
        "\n",
        "Trong đó, averageRating chỉ được tính khi có trên 200 phiếu bầu. <br>\n",
        "Giải thưởng được trao cho 3 trong số các đạo diễn thuộc danh sách đề cử. <br>\n",
        "Đặt p (float) là xác suất để đạo diễn trúng cử đồng thời có kiêm biên kịch (writer, xác định bởi primaryProfession).  <br>\n",
        "Hãy tính p."
      ]
    },
    {
      "cell_type": "code",
      "execution_count": null,
      "metadata": {
        "id": "6xuPBfn2wxFc"
      },
      "outputs": [],
      "source": [
        "# YOUR CODE START \n",
        "\n",
        "\n",
        "# / END YOUR CODE"
      ]
    },
    {
      "cell_type": "markdown",
      "metadata": {
        "id": "cdIs0bhuwxFd"
      },
      "source": [
        "### PHẦN II. TỰ CHỌN\n",
        "[ 10 điểm ] <br>\n",
        "DS chọn 1 trong 2 câu II.a hoặc II.b\n",
        "**Chỉ sử dụng dữ liệu train đã được chia sẵn để huấn luyện model, không sử dụng tập test.** <br>\n",
        "Có thể sử dụng tập test để đánh giá độ chính xác của model.\n",
        "\n",
        "Điểm số được chấm dựa trên độ chính xác của model trên tập test."
      ]
    },
    {
      "cell_type": "markdown",
      "metadata": {
        "id": "dWBLe9_wwxFd"
      },
      "source": [
        "**Câu II.a**. Trên môi trường pyspark, hãy tổng hợp dữ liệu và huấn luyện một mô hình dùng pyspark MLlib dự đoán averageRating"
      ]
    },
    {
      "cell_type": "code",
      "source": [
        "# CHẠY ĐOẠN CODE SAU | DO NOT MODIFY\n",
        "train_film = df_basics.filter((F.col(\"titleType\")==\"movie\") & (F.col(\"startYear\")>=2000) & (F.col(\"startYear\")<=2015) ).select(\"tconst\")\n",
        "test_film  = df_basics.filter((F.col(\"titleType\")==\"movie\") & (F.col(\"startYear\")> 2015) & (F.col(\"startYear\")<=2021) ).select(\"tconst\")\n",
        "\n",
        "train_ratings = df_ratings.join( train_film, on = 'tconst')\n",
        "test_ratings = df_ratings.join( test_film, on = 'tconst')"
      ],
      "metadata": {
        "id": "KjwQme1yINxE"
      },
      "execution_count": null,
      "outputs": []
    },
    {
      "cell_type": "code",
      "source": [
        "train_ratings.count()"
      ],
      "metadata": {
        "id": "zSDSmsQpI7U8"
      },
      "execution_count": null,
      "outputs": []
    },
    {
      "cell_type": "markdown",
      "source": [
        "Chỉ sử dụng thông tin của các bộ phim trong train_film (và nhãn là averageRating trong train_ratings) để xây dựng model. <br>\n",
        "Có thể join thêm với các thông tin ở các bảng khác không giới hạn để bổ sung feature. <br>\n",
        "Metric đánh giá là MAE\n",
        "\n",
        "**YÊU CẦU ĐẦU RA** <br>\n",
        "Dataframe: df_pred {tconst: string, pred: float}, trong đó tconst là các mã bộ phim tương ứng với các bộ phim trong test_film, pred là dự đoán averageRating của model."
      ],
      "metadata": {
        "id": "WXgOpyu4JJYe"
      }
    },
    {
      "cell_type": "code",
      "execution_count": null,
      "metadata": {
        "id": "FOFdTppEwxFd"
      },
      "outputs": [],
      "source": [
        "# YOUR CODE START \n",
        "\n",
        "#...BUILD YOUR MODEL...\n",
        "\n",
        "df_pred = \n",
        "# / END YOUR CODE"
      ]
    },
    {
      "cell_type": "code",
      "source": [
        "# df_pred hợp lệ khi testcase báo 2 thông báo PASS như sau:\n",
        "#>> PASS: dataframe đầu ra đúng định dạng\n",
        "#>> PASS: dataframe đầu ra đúng số lượng bản ghi\n",
        "TEST.iia_schema( df_pred )"
      ],
      "metadata": {
        "id": "jhi--L3dNM9X"
      },
      "execution_count": null,
      "outputs": []
    },
    {
      "cell_type": "code",
      "source": [
        "# Tính MAE\n",
        "TEST.mae_iia( df_pred )"
      ],
      "metadata": {
        "id": "IjQgvkOzNuJG"
      },
      "execution_count": null,
      "outputs": []
    },
    {
      "cell_type": "markdown",
      "metadata": {
        "id": "RDZ5dXJlwxFd"
      },
      "source": [
        "**Câu II.b**. Bạn đưa ra giả thuyết thông tin về tiêu đề phim có thể giúp phân loại phim đó có phải là phim không dành cho trẻ nhỏ hay không. <br>\n",
        "Chỉ sử dụng thông tin từ bảng title.basics.tsv.gz, hãy xây dựng mô hình dự đoán nhãn isAdult. Trong đó, bắt buộc có sử dụng xử lý chuỗi thông tin tiêu đề phim originalTitle.\n",
        "\n",
        "(Mô hình có thể được xây dựng bằng pyspark hoặc python)"
      ]
    },
    {
      "cell_type": "code",
      "source": [
        "# CHẠY ĐOẠN CODE SAU | DO NOT MODIFY\n",
        "train = df_basics.filter((F.col(\"titleType\")==\"movie\") & (F.col(\"startYear\")>=2000) & (F.col(\"startYear\")<=2015) ).toPandas()\n",
        "test = df_basics.filter((F.col(\"titleType\")==\"movie\") & (F.col(\"startYear\")> 2015) & (F.col(\"startYear\")<=2021) ).toPandas()"
      ],
      "metadata": {
        "id": "4yuJ8XRnQ9Hi"
      },
      "execution_count": null,
      "outputs": []
    },
    {
      "cell_type": "code",
      "source": [
        "train['tconst'].count()"
      ],
      "metadata": {
        "id": "PtzB7iBcRN-2"
      },
      "execution_count": null,
      "outputs": []
    },
    {
      "cell_type": "markdown",
      "source": [
        "Có thể sử dụng model pyspark hoặc python. <br>\n",
        "Metric đánh giá là accuracy\n",
        "\n",
        "**YÊU CẦU ĐẦU RA** <br>\n",
        "- Mô hình: có các bước biến đổi dữ liệu và xử lý text\n",
        "- Dữ liệu: pandas dataframe df_pred {tconst: string, pred: int}, trong đó tconst là các mã bộ phim tương ứng với các bộ phim trong test, pred là dự đoán isAdult của model, pred phải mang giá trị 0 hoặc 1."
      ],
      "metadata": {
        "id": "rLM2_KJfRV40"
      }
    },
    {
      "cell_type": "code",
      "execution_count": null,
      "metadata": {
        "id": "3h0XhPuNwxFd"
      },
      "outputs": [],
      "source": [
        "# YOUR CODE START \n",
        "\n",
        "df_pred = \n",
        "# / END YOUR CODE"
      ]
    },
    {
      "cell_type": "code",
      "source": [
        "# df_pred hợp lệ khi testcase báo 2 thông báo PASS như sau:\n",
        "#>> PASS: dataframe đầu ra đúng định dạng\n",
        "#>> PASS: dataframe đầu ra đúng số lượng bản ghi\n",
        "TEST.iib_schema(df_pred)"
      ],
      "metadata": {
        "id": "JlF22orjTL2W"
      },
      "execution_count": null,
      "outputs": []
    },
    {
      "cell_type": "code",
      "source": [
        "# Tính AUC\n",
        "TEST.score_iib(df_pred)"
      ],
      "metadata": {
        "id": "-FF0rPAWYQnE"
      },
      "execution_count": null,
      "outputs": []
    },
    {
      "cell_type": "markdown",
      "source": [
        "**--- YOUR TEST END HERE ---**"
      ],
      "metadata": {
        "id": "XyK-H1ZVYg1D"
      }
    }
  ],
  "metadata": {
    "kernelspec": {
      "display_name": "Python 3",
      "language": "python",
      "name": "python3"
    },
    "language_info": {
      "codemirror_mode": {
        "name": "ipython",
        "version": 3
      },
      "file_extension": ".py",
      "mimetype": "text/x-python",
      "name": "python",
      "nbconvert_exporter": "python",
      "pygments_lexer": "ipython3",
      "version": "3.7.4"
    },
    "colab": {
      "name": "SOLUTION_DS_TEST_PRACTICE_T3_2022.ipynb",
      "provenance": [],
      "collapsed_sections": [],
      "include_colab_link": true
    }
  },
  "nbformat": 4,
  "nbformat_minor": 0
}