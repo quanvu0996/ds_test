{
  "cells": [
    {
      "cell_type": "markdown",
      "metadata": {
        "id": "view-in-github",
        "colab_type": "text"
      },
      "source": [
        "<a href=\"https://colab.research.google.com/github/quanvu0996/ds_test/blob/main/DS_TEST_PRACTICE_T6_2022.ipynb\" target=\"_parent\"><img src=\"https://colab.research.google.com/assets/colab-badge.svg\" alt=\"Open In Colab\"/></a>"
      ]
    },
    {
      "cell_type": "markdown",
      "source": [
        "## ĐÁNH GIÁ NĂNG LỰC KỸ SƯ KHOA HỌC DỮ LIỆU THÁNG 06 - 2022\n",
        "#### BÀI THỰC HÀNH (ĐỀ CHÍNH THỨC)\n",
        "\n",
        "---\n",
        "\n",
        "Ngày test: 27/06/2022\n",
        "Thời gian làm bài: 40 phút, từ 17:00 đến 17:40\n",
        "(+ 5 phút thiết lập môi trường và nộp bài)\n",
        "\n",
        "\n",
        "**Quy định:**\n",
        "- Không trao đổi trong suốt quá trình làm bài\n",
        "- Record màn hình làm bài và share lại cho quanvh8 sau khi kết thúc thời gian test\n",
        "- **ĐƯỢC** sử dụng tài liệu và tra cứu internet\n",
        "- Sau khi hoàn thành, tải notebook, gửi về email: quanvh8@viettel.com.vn\n",
        "\n",
        "**Hướng dẫn làm bài:**\n",
        "\n",
        "* Chạy toàn bộ lệnh trong phần 0. CHUẨN BỊ MÔI TRƯỜNG\n",
        "* Làm theo hướng dẫn tại các câu và **CHỈ SỬA** các đoạn code nằm giữa các thẻ:\n",
        "\n",
        "      # YOUR CODE START\n",
        "      # / END YOUR CODE\n",
        "\n",
        "*Lưu ý: hầu hết câu hỏi không có tính tuần tự (không cần hoàn thành câu trước để làm câu sau)*\n",
        "\n",
        "*Đề thi có một số testcase hỗ trợ DS kiểm tra kết quả, nhưng đây không phải điểm số. Điểm số được giám khảo chấm và gửi lại sau.*\n",
        "\n",
        "\n",
        "\n",
        "---"
      ],
      "metadata": {
        "id": "wXZRPwolwz2R",
        "pycharm": {
          "name": "#%% md\n"
        }
      }
    },
    {
      "cell_type": "markdown",
      "metadata": {
        "id": "j-4dViMswxFM",
        "pycharm": {
          "name": "#%% md\n"
        }
      },
      "source": [
        "### 0. CÀI ĐẶT MÔI TRƯỜNG\n",
        "Guide: Chạy toàn bộ các lệnh trong phần này"
      ]
    },
    {
      "cell_type": "code",
      "source": [
        "!pip install pyspark"
      ],
      "metadata": {
        "colab": {
          "base_uri": "https://localhost:8080/"
        },
        "id": "voGA97cu5oBJ",
        "outputId": "397549ca-af37-4988-8b27-78db2a46232c",
        "pycharm": {
          "name": "#%%\n"
        }
      },
      "execution_count": null,
      "outputs": [
        {
          "output_type": "stream",
          "name": "stdout",
          "text": [
            "Looking in indexes: https://pypi.org/simple, https://us-python.pkg.dev/colab-wheels/public/simple/\n",
            "Collecting pyspark\n",
            "  Downloading pyspark-3.3.0.tar.gz (281.3 MB)\n",
            "\u001b[K     |████████████████████████████████| 281.3 MB 46 kB/s \n",
            "\u001b[?25hCollecting py4j==0.10.9.5\n",
            "  Downloading py4j-0.10.9.5-py2.py3-none-any.whl (199 kB)\n",
            "\u001b[K     |████████████████████████████████| 199 kB 48.2 MB/s \n",
            "\u001b[?25hBuilding wheels for collected packages: pyspark\n",
            "  Building wheel for pyspark (setup.py) ... \u001b[?25l\u001b[?25hdone\n",
            "  Created wheel for pyspark: filename=pyspark-3.3.0-py2.py3-none-any.whl size=281764026 sha256=cbe03fdbc7add3d76ed916929b19f835dba71c2ce0231bf4fed26dc9e5893abc\n",
            "  Stored in directory: /root/.cache/pip/wheels/7a/8e/1b/f73a52650d2e5f337708d9f6a1750d451a7349a867f928b885\n",
            "Successfully built pyspark\n",
            "Installing collected packages: py4j, pyspark\n",
            "Successfully installed py4j-0.10.9.5 pyspark-3.3.0\n"
          ]
        }
      ]
    },
    {
      "cell_type": "code",
      "execution_count": null,
      "metadata": {
        "id": "jnRQOyNiwxFQ",
        "pycharm": {
          "name": "#%%\n"
        }
      },
      "outputs": [],
      "source": [
        "import pandas as pd\n",
        "import numpy as np \n",
        "import tensorflow as tf\n",
        "import gzip\n",
        "import shutil\n",
        "import requests \n",
        "import seaborn as sns\n",
        "import matplotlib.pyplot as plt\n",
        "from sklearn.metrics import roc_auc_score\n",
        "\n",
        "import pyspark\n",
        "from pyspark.sql import functions as F"
      ]
    },
    {
      "cell_type": "code",
      "execution_count": null,
      "metadata": {
        "id": "Q27LBDnlwxFS",
        "pycharm": {
          "name": "#%%\n"
        }
      },
      "outputs": [],
      "source": [
        "def data_downloader(file_name):\n",
        "    file_url = 'https://web.archive.org/web/20070214120527/http://lisp.vse.cz/pkdd99/DATA/'+file_name\n",
        "    file_path = \"/content/\"+file_name\n",
        "    \n",
        "    r = requests.get(file_url, stream = True, verify=False) \n",
        "    \n",
        "    with open( file_path, \"wb\") as file: \n",
        "        for block in r.iter_content(chunk_size = 1024*10): \n",
        "            if block: \n",
        "                file.write(block)\n",
        "    print(\"Loaded \"+file_name+\" to local path: \"+file_path)\n",
        "    "
      ]
    },
    {
      "cell_type": "code",
      "execution_count": null,
      "metadata": {
        "id": "cBcsFagBwxFT",
        "pycharm": {
          "name": "#%%\n"
        }
      },
      "outputs": [],
      "source": [
        "spark = pyspark.sql.SparkSession \\\n",
        "    .builder \\\n",
        "    .appName(\"DS_test\") \\\n",
        "    .getOrCreate()"
      ]
    },
    {
      "cell_type": "markdown",
      "metadata": {
        "id": "k_n6D2uOwxFU",
        "pycharm": {
          "name": "#%% md\n"
        }
      },
      "source": [
        "#### DATA: PKDD'99 Financial dataset"
      ]
    },
    {
      "cell_type": "markdown",
      "metadata": {
        "id": "WzjBmmazwxFV",
        "pycharm": {
          "name": "#%% md\n"
        }
      },
      "source": [
        "Thông tin bộ dữ liệu: https://relational.fit.cvut.cz/dataset/Financial"
      ]
    },
    {
      "cell_type": "markdown",
      "metadata": {
        "id": "ftYhrrfqwxFW",
        "pycharm": {
          "name": "#%% md\n"
        }
      },
      "source": [
        "PKDD'99 Financial dataset contains 606 successful and 76 not successful loans along with their information and transactions."
      ]
    },
    {
      "cell_type": "markdown",
      "metadata": {
        "id": "YgbxWLJKwxFW",
        "pycharm": {
          "name": "#%% md\n"
        }
      },
      "source": [
        "![Alt text](https://relational.fit.cvut.cz/assets/img/datasets-generated/financial.svg \"Schema bộ dữ liệu\")"
      ]
    },
    {
      "cell_type": "code",
      "execution_count": null,
      "metadata": {
        "scrolled": true,
        "colab": {
          "base_uri": "https://localhost:8080/"
        },
        "id": "tPMkN_muwxFX",
        "outputId": "c6fd982d-a603-4e41-d5b5-95ac458b29af",
        "pycharm": {
          "name": "#%%\n"
        }
      },
      "outputs": [
        {
          "output_type": "stream",
          "name": "stderr",
          "text": [
            "/usr/local/lib/python3.7/dist-packages/urllib3/connectionpool.py:847: InsecureRequestWarning: Unverified HTTPS request is being made. Adding certificate verification is strongly advised. See: https://urllib3.readthedocs.io/en/latest/advanced-usage.html#ssl-warnings\n",
            "  InsecureRequestWarning)\n"
          ]
        },
        {
          "output_type": "stream",
          "name": "stdout",
          "text": [
            "Loaded data_berka.zip to local path: /content/data_berka.zip\n"
          ]
        }
      ],
      "source": [
        "# Tải dữ liệu về\n",
        "data_downloader(\"data_berka.zip\")"
      ]
    },
    {
      "cell_type": "code",
      "source": [
        "!unzip /content/data_berka.zip"
      ],
      "metadata": {
        "colab": {
          "base_uri": "https://localhost:8080/"
        },
        "id": "pDLjvWXpbhjH",
        "outputId": "1aebbf5b-ba97-498b-ce1e-26a53772f386",
        "pycharm": {
          "name": "#%%\n"
        }
      },
      "execution_count": null,
      "outputs": [
        {
          "output_type": "stream",
          "name": "stdout",
          "text": [
            "Archive:  /content/data_berka.zip\n",
            "  inflating: trans.asc               \n",
            "  inflating: order.asc               \n",
            "  inflating: loan.asc                \n",
            "  inflating: district.asc            \n",
            "  inflating: disp.asc                \n",
            "  inflating: client.asc              \n",
            "  inflating: card.asc                \n",
            "  inflating: account.asc             \n"
          ]
        }
      ]
    },
    {
      "cell_type": "markdown",
      "source": [
        "Dữ liệu đã được tải về colab, mở tab \"Files\" bên trái màn hình để kiếm tra"
      ],
      "metadata": {
        "id": "DrAFedA1bujO",
        "pycharm": {
          "name": "#%% md\n"
        }
      }
    },
    {
      "cell_type": "code",
      "source": [
        "# Setting to speed up \n",
        "spark.sql(\"set spark.sql.shuffle.partitions=1\")"
      ],
      "metadata": {
        "colab": {
          "base_uri": "https://localhost:8080/"
        },
        "id": "XFjGlvw53ZLV",
        "outputId": "0042e9f2-2432-44c6-89e2-306693fbb94b",
        "pycharm": {
          "name": "#%%\n"
        }
      },
      "execution_count": null,
      "outputs": [
        {
          "output_type": "execute_result",
          "data": {
            "text/plain": [
              "DataFrame[key: string, value: string]"
            ]
          },
          "metadata": {},
          "execution_count": 7
        }
      ]
    },
    {
      "cell_type": "markdown",
      "source": [
        "## PHẦN I. PYTHON PROGRAMMING\n",
        "[4 điểm]\n",
        "Guide: Sử dụng python thực hiện các yêu cầu sau"
      ],
      "metadata": {
        "id": "unnuN-iZhHiw"
      }
    },
    {
      "cell_type": "markdown",
      "source": [
        "**Câu 1**. [2đ] Cho $A$ là một chuỗi thời gian (kiểu dữ liệu numpy array hoặc list), xây dựng thuật toán tìm ra chuỗi con $a \\in A$ sao cho $S = a[-1] - a[0]$ (hiệu số phần tử cuối cùng và phần tử đầu tiên) là tối đa và độ phức tạp của thuật toán là $O(n)$\n"
      ],
      "metadata": {
        "id": "fFhSJetOhb54"
      }
    },
    {
      "cell_type": "code",
      "source": [
        "%%time\n",
        "def get_subseq(A):\n",
        "  # YOUR CODE START \n",
        "\n",
        "  a = \n",
        "  # / END YOUR CODE\n",
        "  return a"
      ],
      "metadata": {
        "id": "mLA29MhUiiGf"
      },
      "execution_count": null,
      "outputs": []
    },
    {
      "cell_type": "markdown",
      "source": [
        "**Câu 2**. [2đ] Vẫn thực hiện yêu cầu của Câu 1 với điều kiện độ dài tối đa của chuỗi $a$ là $k$"
      ],
      "metadata": {
        "id": "TzJuBlLJijkw"
      }
    },
    {
      "cell_type": "code",
      "source": [
        "%%time\n",
        "def get_subseq(A, k):\n",
        "  # YOUR CODE START \n",
        "\n",
        "  a = \n",
        "  # / END YOUR CODE\n",
        "  return a"
      ],
      "metadata": {
        "id": "at3FSs2ljBRX"
      },
      "execution_count": null,
      "outputs": []
    },
    {
      "cell_type": "markdown",
      "metadata": {
        "id": "muScjCy_wxFY",
        "pycharm": {
          "name": "#%% md\n"
        }
      },
      "source": [
        "## PHẦN II. DATA MANIPULATION AND ANALYSIS\n",
        "[ 10 điểm ] <br>\n",
        "Guide: Sử dụng pyspark hoặc spark-SQL thực hiện tất cả các câu thuộc phần này."
      ]
    },
    {
      "cell_type": "markdown",
      "metadata": {
        "id": "IB5z9y7awxFZ",
        "pycharm": {
          "name": "#%% md\n"
        }
      },
      "source": [
        "**Câu 3**. [2đ] Đọc các file vào pyspark dataframe, biết rằng các cột trong các file dữ liệu đều phân cách nhau bởi dấu chấm phấy (;). Lưu tương ứng các dataframe với các file dữ liệu:\n",
        "- df_loan : \"loan.asc\"\n",
        "- df_trans  :\"trans.asc\"\n",
        "- df_order  :\"order.asc\"\n",
        "- df_account  :\"account.asc\"\n",
        "\n",
        "(Xem mô tả quan trọng của dữ liệu phía trên)"
      ]
    },
    {
      "cell_type": "code",
      "execution_count": null,
      "metadata": {
        "id": "qEkvX1pHwxFZ",
        "pycharm": {
          "name": "#%%\n"
        }
      },
      "outputs": [],
      "source": [
        "df_loan = (\n",
        "    # YOUR CODE START \n",
        "    \n",
        "    # / END YOUR CODE\n",
        ")\n",
        "\n",
        "df_trans = (\n",
        "    # YOUR CODE START \n",
        "    \n",
        "    # / END YOUR CODE\n",
        ")\n",
        "\n",
        "df_order = (\n",
        "    # YOUR CODE START \n",
        "    \n",
        "    # / END YOUR CODE\n",
        ")\n",
        "\n",
        "df_account = (\n",
        "    # YOUR CODE START \n",
        "    \n",
        "    # / END YOUR CODE\n",
        ")"
      ]
    },
    {
      "cell_type": "markdown",
      "metadata": {
        "id": "-v4AoLZRwxFa",
        "pycharm": {
          "name": "#%% md\n"
        }
      },
      "source": [
        "**Câu 4**. [2đ] Truy xuất top 10 quận (district_id) có số lượng account_id phát hành hàng tháng (tương ứng frequency là POPLATEK MESICNE) là lớn nhất"
      ]
    },
    {
      "cell_type": "code",
      "execution_count": null,
      "metadata": {
        "id": "llIen6GCwxFb",
        "pycharm": {
          "name": "#%%\n"
        }
      },
      "outputs": [],
      "source": [
        "%%time\n",
        "# YOUR CODE START \n",
        "\n",
        "\n",
        "# / END YOUR CODE"
      ]
    },
    {
      "cell_type": "markdown",
      "metadata": {
        "id": "G5rrypjYwxFb",
        "pycharm": {
          "name": "#%% md\n"
        }
      },
      "source": [
        "**Câu 5**. [3đ]\n",
        "Xây dựng ma trận tỷ lệ % loại nợ là A (df_loan.status) tương ứng với loại tài khoản (df_account.frequency) và thời hạn khoản vay (df_loan.duration).\n",
        "\n",
        "Yêu cầu ma trận: cột: loại tài khoản frequency, hàng: thời hạn khoản vay duration, giá trị: tỷ lệ số lượng nợ A/ tổng số lượng khoản nợ"
      ]
    },
    {
      "cell_type": "code",
      "execution_count": null,
      "metadata": {
        "id": "4MXPzExqwxFb",
        "pycharm": {
          "name": "#%%\n"
        }
      },
      "outputs": [],
      "source": [
        "%%time\n",
        "# YOUR CODE START \n",
        "\n",
        "\n",
        "# / END YOUR CODE"
      ]
    },
    {
      "cell_type": "markdown",
      "metadata": {
        "id": "n_hYq0-zwxFb",
        "pycharm": {
          "name": "#%% md\n"
        }
      },
      "source": [
        "**Câu 6**. [3đ] Ngân hàng quen thuộc của một account_id được định nghĩa là ngân hàng (df_order.bank_to) mà có tổng số giá trị giao dịch (df_order.amount) mà người account_id đó giao dịch nhiều nhất. Trong số các account_id phát hành hàng tháng (POPLATEK MESICNE), người dùng của ngân hàng quen thuộc nào có tỷ lệ nợ loại A thấp nhất?"
      ]
    },
    {
      "cell_type": "code",
      "execution_count": null,
      "metadata": {
        "id": "pYz6LlD6wxFc",
        "pycharm": {
          "name": "#%%\n"
        }
      },
      "outputs": [],
      "source": [
        "%%time\n",
        "# YOUR CODE START \n",
        "\n",
        "\n",
        "# / END YOUR CODE"
      ]
    },
    {
      "cell_type": "markdown",
      "metadata": {
        "id": "cdIs0bhuwxFd",
        "pycharm": {
          "name": "#%% md\n"
        }
      },
      "source": [
        "### PHẦN III. MODELING\n",
        "TỰ CHỌN <br>\n",
        "[ 6 điểm ] <br>\n",
        "DS chọn 1 trong 2 câu II.a hoặc II.b\n",
        "**Chỉ sử dụng dữ liệu train đã được chia sẵn để huấn luyện model, không sử dụng tập test.** <br>\n",
        "Có thể sử dụng tập test để đánh giá độ chính xác của model.\n",
        "\n",
        "Điểm số được chấm dựa trên độ chính xác của model trên tập test.\n",
        "\n",
        "**Yêu cầu**: xây dựng mô hình học máy phân loại loại nợ (df_loan.status) dựa trên thông tin từ các bảng dữ liệu đã có (trừ trường nhãn df_loan.status, được sử dụng tất cả các trường còn lại)"
      ]
    },
    {
      "cell_type": "markdown",
      "metadata": {
        "id": "dWBLe9_wwxFd",
        "pycharm": {
          "name": "#%% md\n"
        }
      },
      "source": [
        "**Câu III.a**. Xây dựng mô hình trên môi trường pyspark"
      ]
    },
    {
      "cell_type": "code",
      "source": [
        "# CHẠY ĐOẠN CODE SAU\n",
        "train_label, test_label = df_loan.randomSplit([0.7, 0.3], seed=12345)"
      ],
      "metadata": {
        "id": "KjwQme1yINxE",
        "pycharm": {
          "name": "#%%\n"
        }
      },
      "execution_count": null,
      "outputs": []
    },
    {
      "cell_type": "markdown",
      "source": [
        "Chỉ sử dụng các loan_id trong tập train và huấn luyện model\n",
        "\n",
        "**YÊU CẦU ĐẦU RA** <br>\n",
        "Dataframe: df_pred {loan_id: int, status: varchar}, trong đó loan_id là các id tương ứng trong bộ test_label"
      ],
      "metadata": {
        "id": "WXgOpyu4JJYe",
        "pycharm": {
          "name": "#%% md\n"
        }
      }
    },
    {
      "cell_type": "code",
      "execution_count": null,
      "metadata": {
        "id": "FOFdTppEwxFd",
        "pycharm": {
          "name": "#%%\n"
        }
      },
      "outputs": [],
      "source": [
        "# YOUR CODE START \n",
        "\n",
        "\n",
        "\n",
        "# / END YOUR CODE"
      ]
    },
    {
      "cell_type": "markdown",
      "metadata": {
        "id": "RDZ5dXJlwxFd",
        "pycharm": {
          "name": "#%% md\n"
        }
      },
      "source": [
        "**Câu III.b**. Xây dựng mô hình với pandas (sklearn hoặc tensorflow)"
      ]
    },
    {
      "cell_type": "code",
      "source": [
        "# CHẠY ĐOẠN CODE SAU\n",
        "train_label, test_label = df_loan.randomSplit([0.7, 0.3], seed=12345)\n",
        "train_label = train_label.toPandas()\n",
        "test_label = test_label.toPandas()"
      ],
      "metadata": {
        "id": "4yuJ8XRnQ9Hi",
        "pycharm": {
          "name": "#%%\n"
        }
      },
      "execution_count": null,
      "outputs": []
    },
    {
      "cell_type": "markdown",
      "source": [
        "Chỉ sử dụng các loan_id trong tập train và huấn luyện model\n",
        "\n",
        "**YÊU CẦU ĐẦU RA** <br>\n",
        "Dataframe: df_pred {loan_id: int, status: varchar}, trong đó loan_id là các id tương ứng trong bộ test_label"
      ],
      "metadata": {
        "id": "rLM2_KJfRV40",
        "pycharm": {
          "name": "#%% md\n"
        }
      }
    },
    {
      "cell_type": "code",
      "execution_count": null,
      "metadata": {
        "id": "3h0XhPuNwxFd",
        "pycharm": {
          "name": "#%%\n"
        }
      },
      "outputs": [],
      "source": [
        "# YOUR CODE START \n",
        "\n",
        "\n",
        "# / END YOUR CODE"
      ]
    },
    {
      "cell_type": "markdown",
      "source": [
        "--- YOUR TEST END HERE ---"
      ],
      "metadata": {
        "id": "XyK-H1ZVYg1D",
        "pycharm": {
          "name": "#%% md\n"
        }
      }
    }
  ],
  "metadata": {
    "kernelspec": {
      "display_name": "Python 3",
      "language": "python",
      "name": "python3"
    },
    "language_info": {
      "codemirror_mode": {
        "name": "ipython",
        "version": 3
      },
      "file_extension": ".py",
      "mimetype": "text/x-python",
      "name": "python",
      "nbconvert_exporter": "python",
      "pygments_lexer": "ipython3",
      "version": "3.7.4"
    },
    "colab": {
      "name": "DS_TEST_PRACTICE_T6_2022.ipynb",
      "provenance": [],
      "collapsed_sections": [],
      "include_colab_link": true
    }
  },
  "nbformat": 4,
  "nbformat_minor": 0
}