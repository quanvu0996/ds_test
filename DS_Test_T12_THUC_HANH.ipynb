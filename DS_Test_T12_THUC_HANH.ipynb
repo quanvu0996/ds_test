{
  "nbformat": 4,
  "nbformat_minor": 0,
  "metadata": {
    "colab": {
      "name": "DS_Test_T12_THUC HANH.ipynb",
      "provenance": [],
      "toc_visible": true,
      "authorship_tag": "ABX9TyNRwhV5H37buaRAJacdmHH9",
      "include_colab_link": true
    },
    "kernelspec": {
      "name": "python3",
      "display_name": "Python 3"
    },
    "language_info": {
      "name": "python"
    }
  },
  "cells": [
    {
      "cell_type": "markdown",
      "metadata": {
        "id": "view-in-github",
        "colab_type": "text"
      },
      "source": [
        "<a href=\"https://colab.research.google.com/github/quanvu0996/ds_test/blob/main/DS_Test_T12_THUC_HANH.ipynb\" target=\"_parent\"><img src=\"https://colab.research.google.com/assets/colab-badge.svg\" alt=\"Open In Colab\"/></a>"
      ]
    },
    {
      "cell_type": "markdown",
      "source": [
        "## ĐÁNH GIÁ NĂNG LỰC KỸ SƯ KHOA HỌC DỮ LIỆU THÁNG 12 - 2021\n",
        "#### BÀI THỰC HÀNH\n",
        "---\n",
        "\n",
        "Ngày test: 24/12/2021\n",
        "Thời gian làm bài: 60 phút, từ 10:00 đến 11:00\n",
        "(+ 5 phút thiết lập môi trường và nộp bài)\n",
        "\n",
        "Đề thi có 12 câu, tương đương 20 điểm\n",
        "\n",
        "Quy định:\n",
        "- Không trao đổi trong suốt quá trình làm bài\n",
        "- Record màn hình làm bài và share lại cho quanvh8 sau khi kết thúc thời gian test\n",
        "- Được sử dụng tài liệu và tra cứu internet\n",
        "- Sau khi hoàn thành, tải notebook, gửi về email: quanvh8@viettel.com.vn\n",
        "\n",
        "Hướng dẫn làm bài:\n",
        "\n",
        "* Chạy toàn bộ lệnh trong phần 0. CHUẨN BỊ MÔI TRƯỜNG\n",
        "* Làm theo hướng dẫn tại các câu và CHỈ SỬA các đoạn code nằm giữa các thẻ:\n",
        "\n",
        "      # YOUR CODE START\n",
        "      # / END YOUR CODE\n",
        "\n",
        "*Lưu ý: hầu hết câu hỏi không có tính tuần tự (không cần hoàn thành câu trước để làm câu sau)*\n",
        "\n",
        "*Đề thi có một số testcase hỗ trợ DS kiểm tra kết quả, nhưng đây không phải điểm số. Điểm số được giám khảo chấm và gửi lại sau.*\n",
        "\n",
        "\n",
        "\n",
        "---\n",
        "\n"
      ],
      "metadata": {
        "id": "8RiH4g6zw91m"
      }
    },
    {
      "cell_type": "markdown",
      "source": [
        "## 0. CHUẨN BỊ MÔI TRƯỜNG \n",
        "Guide: Chạy toàn bộ các lệnh trong phần này"
      ],
      "metadata": {
        "id": "CDhM-bA7wWJ7"
      }
    },
    {
      "cell_type": "code",
      "source": [
        "!pip install pyspark==3.2.0"
      ],
      "metadata": {
        "colab": {
          "base_uri": "https://localhost:8080/"
        },
        "id": "-gkwhkLUwqKa",
        "outputId": "c7a882c4-0503-4474-e3fd-63b5573fa82a"
      },
      "execution_count": 1,
      "outputs": [
        {
          "output_type": "stream",
          "name": "stdout",
          "text": [
            "Collecting pyspark==3.2.0\n",
            "  Downloading pyspark-3.2.0.tar.gz (281.3 MB)\n",
            "\u001b[K     |████████████████████████████████| 281.3 MB 44 kB/s \n",
            "\u001b[?25hCollecting py4j==0.10.9.2\n",
            "  Downloading py4j-0.10.9.2-py2.py3-none-any.whl (198 kB)\n",
            "\u001b[K     |████████████████████████████████| 198 kB 61.1 MB/s \n",
            "\u001b[?25hBuilding wheels for collected packages: pyspark\n",
            "  Building wheel for pyspark (setup.py) ... \u001b[?25l\u001b[?25hdone\n",
            "  Created wheel for pyspark: filename=pyspark-3.2.0-py2.py3-none-any.whl size=281805912 sha256=e9a1644d58471182f532955f272801e9b024b800a4badb67def955566655d24e\n",
            "  Stored in directory: /root/.cache/pip/wheels/0b/de/d2/9be5d59d7331c6c2a7c1b6d1a4f463ce107332b1ecd4e80718\n",
            "Successfully built pyspark\n",
            "Installing collected packages: py4j, pyspark\n",
            "Successfully installed py4j-0.10.9.2 pyspark-3.2.0\n"
          ]
        }
      ]
    },
    {
      "cell_type": "code",
      "execution_count": 2,
      "metadata": {
        "id": "npwwh6v7wHUh"
      },
      "outputs": [],
      "source": [
        "import pandas as pd\n",
        "import numpy as np \n",
        "import tensorflow as tf\n",
        "import requests \n",
        "import seaborn as sns\n",
        "import matplotlib.pyplot as plt\n",
        "\n",
        "import pyspark\n",
        "from pyspark.sql import functions as F"
      ]
    },
    {
      "cell_type": "code",
      "source": [
        "print(pyspark.__version__)"
      ],
      "metadata": {
        "colab": {
          "base_uri": "https://localhost:8080/"
        },
        "id": "DHCy-Ih2wlSG",
        "outputId": "c3edbdea-e0cb-44af-dc86-c985354c89ca"
      },
      "execution_count": 3,
      "outputs": [
        {
          "output_type": "stream",
          "name": "stdout",
          "text": [
            "3.2.0\n"
          ]
        }
      ]
    },
    {
      "cell_type": "code",
      "source": [
        "spark = pyspark.sql.SparkSession \\\n",
        "    .builder \\\n",
        "    .appName(\"DS_test\") \\\n",
        "    .getOrCreate()"
      ],
      "metadata": {
        "id": "tjwuaLZ7wnO9"
      },
      "execution_count": 4,
      "outputs": []
    },
    {
      "cell_type": "markdown",
      "source": [
        "#### DATA\n",
        "Bộ dữ liệu \"Student Performance Data Set\", \n",
        "Xem thêm bộ dữ liệu này tại: [UCI Student Performance](https://archive.ics.uci.edu/ml/datasets/Student+Performance)"
      ],
      "metadata": {
        "id": "GQnACQZ61hE1"
      }
    },
    {
      "cell_type": "code",
      "source": [
        "# Tải dữ liệu về\n",
        "file_url = 'https://archive.ics.uci.edu/ml/machine-learning-databases/00320/student.zip'\n",
        "file_path = \"/content/student.zip\"\n",
        "\n",
        "r = requests.get(file_url, stream = True) \n",
        "\n",
        "with open( file_path, \"wb\") as file: \n",
        "    for block in r.iter_content(chunk_size = 1024*10): \n",
        "        if block: \n",
        "            file.write(block)"
      ],
      "metadata": {
        "id": "RZ5nZV4j10l7"
      },
      "execution_count": 5,
      "outputs": []
    },
    {
      "cell_type": "code",
      "source": [
        "!unzip student.zip"
      ],
      "metadata": {
        "colab": {
          "base_uri": "https://localhost:8080/"
        },
        "id": "txRiGfot3CHD",
        "outputId": "87b1eaa7-74b2-46aa-82d8-26ce6b996629"
      },
      "execution_count": 6,
      "outputs": [
        {
          "output_type": "stream",
          "name": "stdout",
          "text": [
            "Archive:  student.zip\n",
            "  inflating: student-mat.csv         \n",
            "  inflating: student-por.csv         \n",
            "  inflating: student-merge.R         \n",
            "  inflating: student.txt             \n"
          ]
        }
      ]
    },
    {
      "cell_type": "code",
      "source": [
        "# TEST CASE\n",
        "class TEST():\n",
        "  def test_1(df_math, df_por):\n",
        "    tcs = lambda df: [len(df.columns), df.count()]\n",
        "    if tcs(df_math) == [33, 395]: print('df_math: PASS') \n",
        "    else : print('df_math: FAIL')\n",
        "    if tcs(df_por) == [33, 649]: print('df_por: PASS') \n",
        "    else : print('df_por: FAIL')\n",
        "\n",
        "  def test_2(sql_text):\n",
        "    check = spark.sql(sql_text).toPandas().sort_values('sex')['student_num'].values\n",
        "    if [check.sum(), check[0]/check[1] ] == [21, 1.1]: print('PASS')\n",
        "    else: print('FAIL')"
      ],
      "metadata": {
        "id": "q7WRRcrn9dGk"
      },
      "execution_count": 7,
      "outputs": []
    },
    {
      "cell_type": "markdown",
      "source": [
        "## 1. BIG DATA MANIPULATION AND ANALYSIS"
      ],
      "metadata": {
        "id": "yoFR--CUwwxx"
      }
    },
    {
      "cell_type": "markdown",
      "source": [
        "Câu 1. [2p, 1đ] Đọc dữ liệu từ file\n",
        "\n",
        "Sau khi tải về và giải nén, bộ dữ liệu gồm 2 file:\n",
        "* student-mat.csv : dữ liệu điểm môn toán\n",
        "* student-por.csv : dữ liệu điểm môn tiếng Bồ Đào Nha\n",
        "\n",
        "YC: Đọc 2 file này vào các pyspark dataframe tương ứng df_math, df_por"
      ],
      "metadata": {
        "id": "kSmvyGwW3ZDa"
      }
    },
    {
      "cell_type": "code",
      "source": [
        "file_path_math = \"/content/student-mat.csv\"\n",
        "file_path_por = \"/content/student-por.csv\"\n",
        "\n",
        "df_math = (\n",
        "    # YOUR CODE START \n",
        "    \n",
        "    \n",
        "    # / END YOUR CODE\n",
        ")\n",
        "\n",
        "df_por = (\n",
        "    # YOUR CODE START \n",
        "    \n",
        "    \n",
        "    # / END YOUR CODE\n",
        ")"
      ],
      "metadata": {
        "id": "de-rXtP8wtti"
      },
      "execution_count": 8,
      "outputs": []
    },
    {
      "cell_type": "code",
      "source": [
        "TEST.test_1(df_math, df_por)"
      ],
      "metadata": {
        "id": "8rIyP5hD7ILq"
      },
      "execution_count": null,
      "outputs": []
    },
    {
      "cell_type": "markdown",
      "source": [
        "### 1.1. SPARK SQL\n",
        "Sử dụng SQL để thực hiện các ý sau với bảng tbl_math, và tbl_por"
      ],
      "metadata": {
        "id": "4B0_U47K7ZXD"
      }
    },
    {
      "cell_type": "code",
      "source": [
        "df_math.createOrReplaceTempView('tbl_math')\n",
        "df_math.createOrReplaceTempView('tbl_por')"
      ],
      "metadata": {
        "id": "KqltyOqK7pip"
      },
      "execution_count": 10,
      "outputs": []
    },
    {
      "cell_type": "markdown",
      "source": [
        "Câu 2.[ 2p, 1 đ]\n",
        "Xác định nhóm ngành nghề của mẹ (cột Mjob) nào tương ứng với điểm số cả năm (cột g3) của người con cao nhất"
      ],
      "metadata": {
        "id": "_eUddTxG0_C-"
      }
    },
    {
      "cell_type": "code",
      "source": [
        "sql_text = (\n",
        "# YOUR CODE START \n",
        "'''\n",
        "\n",
        "'''\n",
        "# / END YOUR CODE\n",
        ")\n",
        "spark.sql(sql_text).toPandas()"
      ],
      "metadata": {
        "id": "X3ZZFDI_0-aC"
      },
      "execution_count": null,
      "outputs": []
    },
    {
      "cell_type": "markdown",
      "source": [
        "Câu 3. [2p, 2đ] Xác định hệ số tương quan Pearson của điểm số học kỳ 1 (cột G1) và điểm số học kỳ 2 (cột G2)"
      ],
      "metadata": {
        "id": "ghFRhgXz2KU1"
      }
    },
    {
      "cell_type": "code",
      "source": [
        "sql_text = (\n",
        "# YOUR CODE START \n",
        "'''\n",
        "\n",
        "'''\n",
        "# / END YOUR CODE\n",
        ")\n",
        "spark.sql(sql_text).toPandas() "
      ],
      "metadata": {
        "id": "j7Ztcmvh2lzG"
      },
      "execution_count": null,
      "outputs": []
    },
    {
      "cell_type": "markdown",
      "source": [
        "Câu 4.[ 10p, 2đ]\n",
        "Sở Giáo dục dự kiến cấp học bổng cho các học sinh dựa trên kết quả học tập cả năm môn toán (bảng tbl_math), sao cho:\n",
        "* Các học sinh có kết quả học tập cả năm (cột G3) cao hơn thì ưu tiên lựa chọn.\n",
        "* Tỷ trọng số lượng học sinh theo từng gới tính (cột sex) được nhận học bổng là như nhau: số học sinh nam nhận học bổng trên tổng số học sinh nam bằng số học sinh nữ nhận học bổng trên tổng số nữ.\n",
        "* Tổng số thời gian vắng mặt (cột absences) của các học sinh được nhận học bổng không quá 5% tổng thời gian vắng mặt của tất cả học sinh.\n",
        "\n",
        "YC: Viết lệnh SQL truy xuất số lượng học sinh được nhận học bổng của mỗi giới tính. Bảng đầu ra có các cột: {sex:string, student_num:int}"
      ],
      "metadata": {
        "id": "005NWyHX-6wq"
      }
    },
    {
      "cell_type": "code",
      "source": [
        "sql_text = (\n",
        "# YOUR CODE START \n",
        "'''\n",
        "\n",
        "'''\n",
        "# / END YOUR CODE\n",
        ")\n",
        "spark.sql(sql_text).toPandas()"
      ],
      "metadata": {
        "id": "LQkqzeeH71du"
      },
      "execution_count": null,
      "outputs": []
    },
    {
      "cell_type": "code",
      "source": [
        "TEST.test_2(sql_text)"
      ],
      "metadata": {
        "id": "m_S3M4cD0eec"
      },
      "execution_count": null,
      "outputs": []
    },
    {
      "cell_type": "markdown",
      "source": [
        "### 1.2. PYSPARK\n",
        "Sử dụng pyspark và các dataframe df_math, df_por trả lời các câu hỏi sau"
      ],
      "metadata": {
        "id": "jUfEVoLe4X8k"
      }
    },
    {
      "cell_type": "markdown",
      "source": [
        "Câu 5. [2p, 1đ] Xác định số lượng học sinh vừa học môn toán, vừa học tiếng Bồ Đào Nha. Biết rằng, mỗi sinh viên được đặc trưng bởi một tổ hợp các cột: \"school\",\"sex\",\"age\",\"address\",\"famsize\",\"Pstatus\",\"Medu\",\"Fedu\",\"Mjob\",\"Fjob\",\"reason\",\"nursery\",\"internet\""
      ],
      "metadata": {
        "id": "nbDm1Z2y4g_q"
      }
    },
    {
      "cell_type": "code",
      "source": [
        "# YOUR CODE START \n",
        "\n",
        "# / END YOUR CODE"
      ],
      "metadata": {
        "id": "IqCvelRT52LV"
      },
      "execution_count": null,
      "outputs": []
    },
    {
      "cell_type": "markdown",
      "source": [
        "Câu 6. [2p, 1đ]\n",
        "Xác định hệ số tương quan Pearson giữa điểm số cả năm môn toán và điểm số cả năm môn tiếng Bồ Đào Nha của các học sinh đều học 2 môn này\n"
      ],
      "metadata": {
        "id": "bEEIGB6S8TVK"
      }
    },
    {
      "cell_type": "code",
      "source": [
        "# YOUR CODE START \n",
        "\n",
        "# / END YOUR CODE"
      ],
      "metadata": {
        "id": "XkZyQ1QL_0AT"
      },
      "execution_count": null,
      "outputs": []
    },
    {
      "cell_type": "markdown",
      "source": [
        "Câu 7. [5p. 2đ] Xác định hệ số tương quan Kendall tau của điểm số học kỳ 2 học kỳ (G1 và G2) giữa môn toán và môn tiếng Bồ Đào Nha của từng học sinh (cho các học sinh học cả 2 môn này). Biết rằng pyspark không hỗ trợ , nhưng scipy có hỗ trợ tính Kendall tau tại: scipy.stats.kendalltau."
      ],
      "metadata": {
        "id": "QhXovxkv-h8B"
      }
    },
    {
      "cell_type": "code",
      "source": [
        "from scipy.stats import kendalltau\n",
        "\n",
        "# YOUR CODE START \n",
        "\n",
        "# / END YOUR CODE"
      ],
      "metadata": {
        "id": "z_sRZKmrBfj8"
      },
      "execution_count": null,
      "outputs": []
    },
    {
      "cell_type": "markdown",
      "source": [
        "## 2. MODELING"
      ],
      "metadata": {
        "id": "hX_vAPo5FWld"
      }
    },
    {
      "cell_type": "code",
      "source": [
        "pddf_por = pd.read_csv(file_path_por, sep=';')\n",
        "pddf_por.head()"
      ],
      "metadata": {
        "colab": {
          "base_uri": "https://localhost:8080/",
          "height": 270
        },
        "id": "ocTVLZYNEma_",
        "outputId": "3f654db2-f554-4069-a89e-8b43462c957f"
      },
      "execution_count": 192,
      "outputs": [
        {
          "output_type": "execute_result",
          "data": {
            "text/html": [
              "\n",
              "  <div id=\"df-9aa6c7ca-cf73-4a52-b250-f4393efb96bd\">\n",
              "    <div class=\"colab-df-container\">\n",
              "      <div>\n",
              "<style scoped>\n",
              "    .dataframe tbody tr th:only-of-type {\n",
              "        vertical-align: middle;\n",
              "    }\n",
              "\n",
              "    .dataframe tbody tr th {\n",
              "        vertical-align: top;\n",
              "    }\n",
              "\n",
              "    .dataframe thead th {\n",
              "        text-align: right;\n",
              "    }\n",
              "</style>\n",
              "<table border=\"1\" class=\"dataframe\">\n",
              "  <thead>\n",
              "    <tr style=\"text-align: right;\">\n",
              "      <th></th>\n",
              "      <th>school</th>\n",
              "      <th>sex</th>\n",
              "      <th>age</th>\n",
              "      <th>address</th>\n",
              "      <th>famsize</th>\n",
              "      <th>Pstatus</th>\n",
              "      <th>Medu</th>\n",
              "      <th>Fedu</th>\n",
              "      <th>Mjob</th>\n",
              "      <th>Fjob</th>\n",
              "      <th>reason</th>\n",
              "      <th>guardian</th>\n",
              "      <th>traveltime</th>\n",
              "      <th>studytime</th>\n",
              "      <th>failures</th>\n",
              "      <th>schoolsup</th>\n",
              "      <th>famsup</th>\n",
              "      <th>paid</th>\n",
              "      <th>activities</th>\n",
              "      <th>nursery</th>\n",
              "      <th>higher</th>\n",
              "      <th>internet</th>\n",
              "      <th>romantic</th>\n",
              "      <th>famrel</th>\n",
              "      <th>freetime</th>\n",
              "      <th>goout</th>\n",
              "      <th>Dalc</th>\n",
              "      <th>Walc</th>\n",
              "      <th>health</th>\n",
              "      <th>absences</th>\n",
              "      <th>G1</th>\n",
              "      <th>G2</th>\n",
              "      <th>G3</th>\n",
              "    </tr>\n",
              "  </thead>\n",
              "  <tbody>\n",
              "    <tr>\n",
              "      <th>0</th>\n",
              "      <td>GP</td>\n",
              "      <td>F</td>\n",
              "      <td>18</td>\n",
              "      <td>U</td>\n",
              "      <td>GT3</td>\n",
              "      <td>A</td>\n",
              "      <td>4</td>\n",
              "      <td>4</td>\n",
              "      <td>at_home</td>\n",
              "      <td>teacher</td>\n",
              "      <td>course</td>\n",
              "      <td>mother</td>\n",
              "      <td>2</td>\n",
              "      <td>2</td>\n",
              "      <td>0</td>\n",
              "      <td>yes</td>\n",
              "      <td>no</td>\n",
              "      <td>no</td>\n",
              "      <td>no</td>\n",
              "      <td>yes</td>\n",
              "      <td>yes</td>\n",
              "      <td>no</td>\n",
              "      <td>no</td>\n",
              "      <td>4</td>\n",
              "      <td>3</td>\n",
              "      <td>4</td>\n",
              "      <td>1</td>\n",
              "      <td>1</td>\n",
              "      <td>3</td>\n",
              "      <td>4</td>\n",
              "      <td>0</td>\n",
              "      <td>11</td>\n",
              "      <td>11</td>\n",
              "    </tr>\n",
              "    <tr>\n",
              "      <th>1</th>\n",
              "      <td>GP</td>\n",
              "      <td>F</td>\n",
              "      <td>17</td>\n",
              "      <td>U</td>\n",
              "      <td>GT3</td>\n",
              "      <td>T</td>\n",
              "      <td>1</td>\n",
              "      <td>1</td>\n",
              "      <td>at_home</td>\n",
              "      <td>other</td>\n",
              "      <td>course</td>\n",
              "      <td>father</td>\n",
              "      <td>1</td>\n",
              "      <td>2</td>\n",
              "      <td>0</td>\n",
              "      <td>no</td>\n",
              "      <td>yes</td>\n",
              "      <td>no</td>\n",
              "      <td>no</td>\n",
              "      <td>no</td>\n",
              "      <td>yes</td>\n",
              "      <td>yes</td>\n",
              "      <td>no</td>\n",
              "      <td>5</td>\n",
              "      <td>3</td>\n",
              "      <td>3</td>\n",
              "      <td>1</td>\n",
              "      <td>1</td>\n",
              "      <td>3</td>\n",
              "      <td>2</td>\n",
              "      <td>9</td>\n",
              "      <td>11</td>\n",
              "      <td>11</td>\n",
              "    </tr>\n",
              "    <tr>\n",
              "      <th>2</th>\n",
              "      <td>GP</td>\n",
              "      <td>F</td>\n",
              "      <td>15</td>\n",
              "      <td>U</td>\n",
              "      <td>LE3</td>\n",
              "      <td>T</td>\n",
              "      <td>1</td>\n",
              "      <td>1</td>\n",
              "      <td>at_home</td>\n",
              "      <td>other</td>\n",
              "      <td>other</td>\n",
              "      <td>mother</td>\n",
              "      <td>1</td>\n",
              "      <td>2</td>\n",
              "      <td>0</td>\n",
              "      <td>yes</td>\n",
              "      <td>no</td>\n",
              "      <td>no</td>\n",
              "      <td>no</td>\n",
              "      <td>yes</td>\n",
              "      <td>yes</td>\n",
              "      <td>yes</td>\n",
              "      <td>no</td>\n",
              "      <td>4</td>\n",
              "      <td>3</td>\n",
              "      <td>2</td>\n",
              "      <td>2</td>\n",
              "      <td>3</td>\n",
              "      <td>3</td>\n",
              "      <td>6</td>\n",
              "      <td>12</td>\n",
              "      <td>13</td>\n",
              "      <td>12</td>\n",
              "    </tr>\n",
              "    <tr>\n",
              "      <th>3</th>\n",
              "      <td>GP</td>\n",
              "      <td>F</td>\n",
              "      <td>15</td>\n",
              "      <td>U</td>\n",
              "      <td>GT3</td>\n",
              "      <td>T</td>\n",
              "      <td>4</td>\n",
              "      <td>2</td>\n",
              "      <td>health</td>\n",
              "      <td>services</td>\n",
              "      <td>home</td>\n",
              "      <td>mother</td>\n",
              "      <td>1</td>\n",
              "      <td>3</td>\n",
              "      <td>0</td>\n",
              "      <td>no</td>\n",
              "      <td>yes</td>\n",
              "      <td>no</td>\n",
              "      <td>yes</td>\n",
              "      <td>yes</td>\n",
              "      <td>yes</td>\n",
              "      <td>yes</td>\n",
              "      <td>yes</td>\n",
              "      <td>3</td>\n",
              "      <td>2</td>\n",
              "      <td>2</td>\n",
              "      <td>1</td>\n",
              "      <td>1</td>\n",
              "      <td>5</td>\n",
              "      <td>0</td>\n",
              "      <td>14</td>\n",
              "      <td>14</td>\n",
              "      <td>14</td>\n",
              "    </tr>\n",
              "    <tr>\n",
              "      <th>4</th>\n",
              "      <td>GP</td>\n",
              "      <td>F</td>\n",
              "      <td>16</td>\n",
              "      <td>U</td>\n",
              "      <td>GT3</td>\n",
              "      <td>T</td>\n",
              "      <td>3</td>\n",
              "      <td>3</td>\n",
              "      <td>other</td>\n",
              "      <td>other</td>\n",
              "      <td>home</td>\n",
              "      <td>father</td>\n",
              "      <td>1</td>\n",
              "      <td>2</td>\n",
              "      <td>0</td>\n",
              "      <td>no</td>\n",
              "      <td>yes</td>\n",
              "      <td>no</td>\n",
              "      <td>no</td>\n",
              "      <td>yes</td>\n",
              "      <td>yes</td>\n",
              "      <td>no</td>\n",
              "      <td>no</td>\n",
              "      <td>4</td>\n",
              "      <td>3</td>\n",
              "      <td>2</td>\n",
              "      <td>1</td>\n",
              "      <td>2</td>\n",
              "      <td>5</td>\n",
              "      <td>0</td>\n",
              "      <td>11</td>\n",
              "      <td>13</td>\n",
              "      <td>13</td>\n",
              "    </tr>\n",
              "  </tbody>\n",
              "</table>\n",
              "</div>\n",
              "      <button class=\"colab-df-convert\" onclick=\"convertToInteractive('df-9aa6c7ca-cf73-4a52-b250-f4393efb96bd')\"\n",
              "              title=\"Convert this dataframe to an interactive table.\"\n",
              "              style=\"display:none;\">\n",
              "        \n",
              "  <svg xmlns=\"http://www.w3.org/2000/svg\" height=\"24px\"viewBox=\"0 0 24 24\"\n",
              "       width=\"24px\">\n",
              "    <path d=\"M0 0h24v24H0V0z\" fill=\"none\"/>\n",
              "    <path d=\"M18.56 5.44l.94 2.06.94-2.06 2.06-.94-2.06-.94-.94-2.06-.94 2.06-2.06.94zm-11 1L8.5 8.5l.94-2.06 2.06-.94-2.06-.94L8.5 2.5l-.94 2.06-2.06.94zm10 10l.94 2.06.94-2.06 2.06-.94-2.06-.94-.94-2.06-.94 2.06-2.06.94z\"/><path d=\"M17.41 7.96l-1.37-1.37c-.4-.4-.92-.59-1.43-.59-.52 0-1.04.2-1.43.59L10.3 9.45l-7.72 7.72c-.78.78-.78 2.05 0 2.83L4 21.41c.39.39.9.59 1.41.59.51 0 1.02-.2 1.41-.59l7.78-7.78 2.81-2.81c.8-.78.8-2.07 0-2.86zM5.41 20L4 18.59l7.72-7.72 1.47 1.35L5.41 20z\"/>\n",
              "  </svg>\n",
              "      </button>\n",
              "      \n",
              "  <style>\n",
              "    .colab-df-container {\n",
              "      display:flex;\n",
              "      flex-wrap:wrap;\n",
              "      gap: 12px;\n",
              "    }\n",
              "\n",
              "    .colab-df-convert {\n",
              "      background-color: #E8F0FE;\n",
              "      border: none;\n",
              "      border-radius: 50%;\n",
              "      cursor: pointer;\n",
              "      display: none;\n",
              "      fill: #1967D2;\n",
              "      height: 32px;\n",
              "      padding: 0 0 0 0;\n",
              "      width: 32px;\n",
              "    }\n",
              "\n",
              "    .colab-df-convert:hover {\n",
              "      background-color: #E2EBFA;\n",
              "      box-shadow: 0px 1px 2px rgba(60, 64, 67, 0.3), 0px 1px 3px 1px rgba(60, 64, 67, 0.15);\n",
              "      fill: #174EA6;\n",
              "    }\n",
              "\n",
              "    [theme=dark] .colab-df-convert {\n",
              "      background-color: #3B4455;\n",
              "      fill: #D2E3FC;\n",
              "    }\n",
              "\n",
              "    [theme=dark] .colab-df-convert:hover {\n",
              "      background-color: #434B5C;\n",
              "      box-shadow: 0px 1px 3px 1px rgba(0, 0, 0, 0.15);\n",
              "      filter: drop-shadow(0px 1px 2px rgba(0, 0, 0, 0.3));\n",
              "      fill: #FFFFFF;\n",
              "    }\n",
              "  </style>\n",
              "\n",
              "      <script>\n",
              "        const buttonEl =\n",
              "          document.querySelector('#df-9aa6c7ca-cf73-4a52-b250-f4393efb96bd button.colab-df-convert');\n",
              "        buttonEl.style.display =\n",
              "          google.colab.kernel.accessAllowed ? 'block' : 'none';\n",
              "\n",
              "        async function convertToInteractive(key) {\n",
              "          const element = document.querySelector('#df-9aa6c7ca-cf73-4a52-b250-f4393efb96bd');\n",
              "          const dataTable =\n",
              "            await google.colab.kernel.invokeFunction('convertToInteractive',\n",
              "                                                     [key], {});\n",
              "          if (!dataTable) return;\n",
              "\n",
              "          const docLinkHtml = 'Like what you see? Visit the ' +\n",
              "            '<a target=\"_blank\" href=https://colab.research.google.com/notebooks/data_table.ipynb>data table notebook</a>'\n",
              "            + ' to learn more about interactive tables.';\n",
              "          element.innerHTML = '';\n",
              "          dataTable['output_type'] = 'display_data';\n",
              "          await google.colab.output.renderOutput(dataTable, element);\n",
              "          const docLink = document.createElement('div');\n",
              "          docLink.innerHTML = docLinkHtml;\n",
              "          element.appendChild(docLink);\n",
              "        }\n",
              "      </script>\n",
              "    </div>\n",
              "  </div>\n",
              "  "
            ],
            "text/plain": [
              "  school sex  age address famsize Pstatus  ...  Walc  health absences  G1  G2  G3\n",
              "0     GP   F   18       U     GT3       A  ...     1       3        4   0  11  11\n",
              "1     GP   F   17       U     GT3       T  ...     1       3        2   9  11  11\n",
              "2     GP   F   15       U     LE3       T  ...     3       3        6  12  13  12\n",
              "3     GP   F   15       U     GT3       T  ...     1       5        0  14  14  14\n",
              "4     GP   F   16       U     GT3       T  ...     2       5        0  11  13  13\n",
              "\n",
              "[5 rows x 33 columns]"
            ]
          },
          "metadata": {},
          "execution_count": 192
        }
      ]
    },
    {
      "cell_type": "markdown",
      "source": [
        "Câu 8. [2p, 1đ] Sử dụng pandas dataframe pddf_por, chia ngẫu nhiên thành 2 tập train, test với tỷ lệ 7:3"
      ],
      "metadata": {
        "id": "-aoxeSGhGqOl"
      }
    },
    {
      "cell_type": "code",
      "source": [
        "# YOUR CODE START \n",
        "\n",
        "\n",
        "# / END YOUR CODE"
      ],
      "metadata": {
        "id": "3xp1QiouH9Z6"
      },
      "execution_count": null,
      "outputs": []
    },
    {
      "cell_type": "markdown",
      "source": [
        "Câu 9. [5p, 3đ] Tiền xử lý dữ liệu\n",
        "\n",
        "* Với các nhãn G1, G2, G3: giữ nguyên\n",
        "* Với các features (các cột còn lại): \n",
        "  * Với cột dạng số: áp dụng StandardScaler\n",
        "  * Với cột dạng yes/no: chuyển về dạng 0/1\n",
        "  * Với cột dạng biến danh mục: sử dụng onehot-encoder\n",
        "\n",
        "Fit-transform theo luồng trên cho tập train, transform cho tập test để tạo bộ feature"
      ],
      "metadata": {
        "id": "o91PLej5IBER"
      }
    },
    {
      "cell_type": "code",
      "source": [
        "# YOUR CODE START \n",
        "\n",
        "# / END YOUR CODE"
      ],
      "metadata": {
        "id": "PjtG9Pn4IHIw"
      },
      "execution_count": 101,
      "outputs": []
    },
    {
      "cell_type": "markdown",
      "source": [
        "Câu 10. [9p, 2đ] Chọn một mô hình và huấn luyện dự đoán đồng thời 3 nhãn G1, G2, G3. Đánh giá hiệu quả model trên tập test với chỉ tiêu mean absolute error (MAE). Sao cho trung bình MAE 3 nhãn trên tập test <=1.98. \n",
        "\n",
        "Tính giá trị MAE từng nhãn khi đó."
      ],
      "metadata": {
        "id": "-vQTkmf0K91H"
      }
    },
    {
      "cell_type": "code",
      "source": [
        "# YOUR CODE START \n",
        "\n",
        "# / END YOUR CODE"
      ],
      "metadata": {
        "id": "IFVTscXKLIf6"
      },
      "execution_count": null,
      "outputs": []
    },
    {
      "cell_type": "markdown",
      "source": [
        "Câu 11. [9p, 2đ] Xây dựng một mạng học sâu với tối thiểu 2 hidden layers với các tham số phù hợp để dự đoán các nhãn G1, G2, G3. Sao cho trung bình MAE 3 nhãn trên tập test <=1.98. \n",
        "\n",
        "Tính giá trị MAE từng nhãn khi đó."
      ],
      "metadata": {
        "id": "NfSzOsyYOFz0"
      }
    },
    {
      "cell_type": "code",
      "source": [
        "# YOUR CODE START \n",
        "\n",
        "# / END YOUR CODE"
      ],
      "metadata": {
        "id": "qyQr-Bx1Lk2q"
      },
      "execution_count": null,
      "outputs": []
    },
    {
      "cell_type": "markdown",
      "source": [
        "Câu 12. [10p, 2đ] Áp dụng transfer learning, hãy sử dụng mạng vừa tạo để xây dựng mô hình dự đoán điểm môn toán.\n",
        "1. Tiền xử lý dữ liệu tương tự như với bộ pddf_por\n",
        "2. Đóng băng 2 layer đầu của model đã huấn luyện trên bộ Tiếng Bồ Đào Nha, bổ sung thêm ít nhất 2 layer phía sau tạo thành mô hình dự đoán 3 đầu ra môn Toán.\n",
        "3. Huấn luyện mô hình dự đoán 3 điểm số môn toán (G1, G2, G3) và đánh giá bằng chỉ tiêu mean square error (MAE).Sao cho trung bình MAE 3 nhãn trên tập test <= 3.0\n",
        "4. Khi đó, MAE của từng nhãn G1, G2, G3 môn toán là bao nhiêu?"
      ],
      "metadata": {
        "id": "SQbasQnwRz3d"
      }
    },
    {
      "cell_type": "code",
      "source": [
        "pddf_math = pd.read_csv(file_path_math, sep=';')\n",
        "# YOUR CODE START \n",
        "\n",
        "# / END YOUR CODE"
      ],
      "metadata": {
        "id": "MABb49CyRjju"
      },
      "execution_count": null,
      "outputs": []
    }
  ]
}