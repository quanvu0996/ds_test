{
  "cells": [
    {
      "cell_type": "markdown",
      "metadata": {
        "id": "view-in-github",
        "colab_type": "text"
      },
      "source": [
        "<a href=\"https://colab.research.google.com/github/quanvu0996/ds_test/blob/main/SOLUTION_DS_TEST_PRACTICE_T3_2022.ipynb\" target=\"_parent\"><img src=\"https://colab.research.google.com/assets/colab-badge.svg\" alt=\"Open In Colab\"/></a>"
      ]
    },
    {
      "cell_type": "markdown",
      "source": [
        "## ĐÁNH GIÁ NĂNG LỰC KỸ SƯ KHOA HỌC DỮ LIỆU THÁNG 03 - 2022\n",
        "#### BÀI THỰC HÀNH (ĐÁP ÁN THAM KHẢO)\n",
        "\n",
        "---\n",
        "\n",
        "Ngày test: 25/03/2022\n",
        "Thời gian làm bài: 75 phút, từ 10:00 đến 11:15\n",
        "(+ 5 phút thiết lập môi trường và nộp bài)\n",
        "\n",
        "\n",
        "**Quy định:**\n",
        "- Không trao đổi trong suốt quá trình làm bài\n",
        "- Record màn hình làm bài và share lại cho quanvh8 sau khi kết thúc thời gian test\n",
        "- Được sử dụng tài liệu và tra cứu internet\n",
        "- Sau khi hoàn thành, tải notebook, gửi về email: quanvh8@viettel.com.vn\n",
        "\n",
        "**Hướng dẫn làm bài:**\n",
        "\n",
        "* Chạy toàn bộ lệnh trong phần 0. CHUẨN BỊ MÔI TRƯỜNG\n",
        "* Làm theo hướng dẫn tại các câu và CHỈ SỬA các đoạn code nằm giữa các thẻ:\n",
        "\n",
        "      # YOUR CODE START\n",
        "      # / END YOUR CODE\n",
        "\n",
        "*Lưu ý: hầu hết câu hỏi không có tính tuần tự (không cần hoàn thành câu trước để làm câu sau)*\n",
        "\n",
        "*Đề thi có một số testcase hỗ trợ DS kiểm tra kết quả, nhưng đây không phải điểm số. Điểm số được giám khảo chấm và gửi lại sau.*\n",
        "\n",
        "\n",
        "\n",
        "---"
      ],
      "metadata": {
        "id": "wXZRPwolwz2R"
      }
    },
    {
      "cell_type": "markdown",
      "metadata": {
        "id": "j-4dViMswxFM"
      },
      "source": [
        "### 0. CÀI ĐẶT MÔI TRƯỜNG\n",
        "Guide: Chạy toàn bộ các lệnh trong phần này"
      ]
    },
    {
      "cell_type": "code",
      "source": [
        "!pip install pyspark"
      ],
      "metadata": {
        "colab": {
          "base_uri": "https://localhost:8080/"
        },
        "id": "voGA97cu5oBJ",
        "outputId": "c7539c2f-d217-482c-dabb-9f4a0e8ab75d"
      },
      "execution_count": null,
      "outputs": [
        {
          "output_type": "stream",
          "name": "stdout",
          "text": [
            "Requirement already satisfied: pyspark in /usr/local/lib/python3.7/dist-packages (3.2.1)\n",
            "Requirement already satisfied: py4j==0.10.9.3 in /usr/local/lib/python3.7/dist-packages (from pyspark) (0.10.9.3)\n"
          ]
        }
      ]
    },
    {
      "cell_type": "code",
      "execution_count": null,
      "metadata": {
        "id": "jnRQOyNiwxFQ"
      },
      "outputs": [],
      "source": [
        "import pandas as pd\n",
        "import numpy as np \n",
        "import tensorflow as tf\n",
        "import gzip\n",
        "import shutil\n",
        "import requests \n",
        "import seaborn as sns\n",
        "import matplotlib.pyplot as plt\n",
        "from sklearn.metrics import roc_auc_score\n",
        "\n",
        "import pyspark\n",
        "from pyspark.sql import functions as F"
      ]
    },
    {
      "cell_type": "code",
      "execution_count": null,
      "metadata": {
        "id": "Q27LBDnlwxFS"
      },
      "outputs": [],
      "source": [
        "def data_downloader(file_name):\n",
        "    file_url = 'https://datasets.imdbws.com/'+file_name\n",
        "    file_path = \"/content/\"+file_name\n",
        "    \n",
        "    r = requests.get(file_url, stream = True, verify=False) \n",
        "    \n",
        "    with open( file_path, \"wb\") as file: \n",
        "        for block in r.iter_content(chunk_size = 1024*10): \n",
        "            if block: \n",
        "                file.write(block)\n",
        "    print(\"Loaded \"+file_name+\" to local path: \"+file_path)\n",
        "\n",
        "# TEST CASE\n",
        "class TEST():\n",
        "    def test_1(df):\n",
        "        tc1 = (df.columns ==['tconst', 'averageRating', 'numVotes'])\n",
        "        tc2 = (df.count() >= 1227518)\n",
        "        if (tc1 and tc2): print(\"PASS\")\n",
        "        else: print('FAIL')\n",
        "\n",
        "    def test_2(df):\n",
        "        tc1 = (df.columns == ['titleId','ordering','title','region','language','types','attributes','isOriginalTitle'])\n",
        "        tc2 = (df.count() >= 31450282)\n",
        "        if (tc1 and tc2): print(\"PASS\")\n",
        "        else: print('FAIL')\n",
        "\n",
        "    def iia_schema(df_pred):\n",
        "      tc1 = (df_pred.columns == ['tconst', 'pred'])\n",
        "      tc2 = (df_pred.count() == test_ratings.count() )\n",
        "      if tc1 and tc2 :\n",
        "        print(\"PASS: dataframe đầu ra đúng định dạng\")\n",
        "      else:\n",
        "        print(\"FAIL: dataframe đầu ra không đúng định dạng, đ/c kiểm tra lại\")\n",
        "      \n",
        "      tc3 = (df_pred.join(test_ratings, on = 'tconst').count() == test_ratings.count())\n",
        "      \n",
        "      if tc3 :\n",
        "        print(\"PASS: dataframe đầu ra đúng số lượng bản ghi\")\n",
        "      else:\n",
        "        print(\"FAIL: dataframe đầu ra không đúng số lượng bản ghi, đ/c kiểm tra lại\")\n",
        "        \n",
        "    def mae_iia(df_pred):\n",
        "      result = df_pred.join(test_ratings, on = 'tconst')\n",
        "      result = result.withColumn('ae', F.abs(F.col(\"pred\")-F.col(\"averageRating\")))\n",
        "      result.selectExpr(\"avg(ae) AS mae\").show()\n",
        "\n",
        "    def iib_schema(df_pred):\n",
        "      tc1 = ( list(df_pred.columns) == ['tconst', 'pred'])\n",
        "      tc2 = (df_pred.count()['tconst'] == test.count()['tconst'] )\n",
        "      if tc1 and tc2 :\n",
        "        print(\"PASS: dataframe đầu ra đúng định dạng\")\n",
        "      else:\n",
        "        print(\"FAIL: dataframe đầu ra không đúng định dạng, đ/c kiểm tra lại\")\n",
        "      \n",
        "      tc3 = ( pd.merge(df_pred, test, how='inner', on = 'tconst')['tconst'].count() == test.count()['tconst'])\n",
        "      \n",
        "      if tc3 :\n",
        "        print(\"PASS: dataframe đầu ra đúng số lượng bản ghi\")\n",
        "      else:\n",
        "        print(\"FAIL: dataframe đầu ra không đúng số lượng bản ghi, đ/c kiểm tra lại\")\n",
        "        \n",
        "    def score_iib(df_pred):\n",
        "      eval = pd.merge(df_pred, test, how='inner', on = 'tconst' )\n",
        "      print( roc_auc_score( eval['isAdult'], eval['pred'] ))\n",
        "    "
      ]
    },
    {
      "cell_type": "code",
      "execution_count": null,
      "metadata": {
        "id": "cBcsFagBwxFT"
      },
      "outputs": [],
      "source": [
        "spark = pyspark.sql.SparkSession \\\n",
        "    .builder \\\n",
        "    .appName(\"DS_test\") \\\n",
        "    .getOrCreate()"
      ]
    },
    {
      "cell_type": "markdown",
      "metadata": {
        "id": "k_n6D2uOwxFU"
      },
      "source": [
        "#### DATA: Bộ IMDb"
      ]
    },
    {
      "cell_type": "markdown",
      "metadata": {
        "id": "WzjBmmazwxFV"
      },
      "source": [
        "Thông tin bộ dữ liệu IMDb: https://www.imdb.com/interfaces/"
      ]
    },
    {
      "cell_type": "markdown",
      "metadata": {
        "id": "ftYhrrfqwxFW"
      },
      "source": [
        "Each dataset is contained in a gzipped, tab-separated-values (TSV) formatted file in the UTF-8 character set. The first line in each file contains headers that describe what is in each column. A ‘\\N’ is used to denote that a particular field is missing or null for that title/name"
      ]
    },
    {
      "cell_type": "markdown",
      "metadata": {
        "id": "YgbxWLJKwxFW"
      },
      "source": [
        "![Alt text](https://relational.fit.cvut.cz/assets/img/datasets-generated/imdb_ijs.svg \"Schema bộ dữ liệu\")"
      ]
    },
    {
      "cell_type": "code",
      "execution_count": null,
      "metadata": {
        "scrolled": true,
        "colab": {
          "base_uri": "https://localhost:8080/"
        },
        "id": "tPMkN_muwxFX",
        "outputId": "1e4e7d12-69a1-42ef-97fa-a2fe4eef96ba"
      },
      "outputs": [
        {
          "output_type": "stream",
          "name": "stderr",
          "text": [
            "/usr/local/lib/python3.7/dist-packages/urllib3/connectionpool.py:847: InsecureRequestWarning: Unverified HTTPS request is being made. Adding certificate verification is strongly advised. See: https://urllib3.readthedocs.io/en/latest/advanced-usage.html#ssl-warnings\n",
            "  InsecureRequestWarning)\n"
          ]
        },
        {
          "output_type": "stream",
          "name": "stdout",
          "text": [
            "Loaded title.akas.tsv.gz to local path: /content/title.akas.tsv.gz\n"
          ]
        },
        {
          "output_type": "stream",
          "name": "stderr",
          "text": [
            "/usr/local/lib/python3.7/dist-packages/urllib3/connectionpool.py:847: InsecureRequestWarning: Unverified HTTPS request is being made. Adding certificate verification is strongly advised. See: https://urllib3.readthedocs.io/en/latest/advanced-usage.html#ssl-warnings\n",
            "  InsecureRequestWarning)\n",
            "/usr/local/lib/python3.7/dist-packages/urllib3/connectionpool.py:847: InsecureRequestWarning: Unverified HTTPS request is being made. Adding certificate verification is strongly advised. See: https://urllib3.readthedocs.io/en/latest/advanced-usage.html#ssl-warnings\n",
            "  InsecureRequestWarning)\n"
          ]
        },
        {
          "output_type": "stream",
          "name": "stdout",
          "text": [
            "Loaded title.ratings.tsv.gz to local path: /content/title.ratings.tsv.gz\n",
            "Loaded title.basics.tsv.gz to local path: /content/title.basics.tsv.gz\n"
          ]
        },
        {
          "output_type": "stream",
          "name": "stderr",
          "text": [
            "/usr/local/lib/python3.7/dist-packages/urllib3/connectionpool.py:847: InsecureRequestWarning: Unverified HTTPS request is being made. Adding certificate verification is strongly advised. See: https://urllib3.readthedocs.io/en/latest/advanced-usage.html#ssl-warnings\n",
            "  InsecureRequestWarning)\n"
          ]
        },
        {
          "output_type": "stream",
          "name": "stdout",
          "text": [
            "Loaded title.basics.tsv.gz to local path: /content/title.basics.tsv.gz\n"
          ]
        },
        {
          "output_type": "stream",
          "name": "stderr",
          "text": [
            "/usr/local/lib/python3.7/dist-packages/urllib3/connectionpool.py:847: InsecureRequestWarning: Unverified HTTPS request is being made. Adding certificate verification is strongly advised. See: https://urllib3.readthedocs.io/en/latest/advanced-usage.html#ssl-warnings\n",
            "  InsecureRequestWarning)\n"
          ]
        },
        {
          "output_type": "stream",
          "name": "stdout",
          "text": [
            "Loaded title.crew.tsv.gz to local path: /content/title.crew.tsv.gz\n"
          ]
        },
        {
          "output_type": "stream",
          "name": "stderr",
          "text": [
            "/usr/local/lib/python3.7/dist-packages/urllib3/connectionpool.py:847: InsecureRequestWarning: Unverified HTTPS request is being made. Adding certificate verification is strongly advised. See: https://urllib3.readthedocs.io/en/latest/advanced-usage.html#ssl-warnings\n",
            "  InsecureRequestWarning)\n"
          ]
        },
        {
          "output_type": "stream",
          "name": "stdout",
          "text": [
            "Loaded title.principals.tsv.gz to local path: /content/title.principals.tsv.gz\n"
          ]
        },
        {
          "output_type": "stream",
          "name": "stderr",
          "text": [
            "/usr/local/lib/python3.7/dist-packages/urllib3/connectionpool.py:847: InsecureRequestWarning: Unverified HTTPS request is being made. Adding certificate verification is strongly advised. See: https://urllib3.readthedocs.io/en/latest/advanced-usage.html#ssl-warnings\n",
            "  InsecureRequestWarning)\n"
          ]
        },
        {
          "output_type": "stream",
          "name": "stdout",
          "text": [
            "Loaded name.basics.tsv.gz to local path: /content/name.basics.tsv.gz\n"
          ]
        }
      ],
      "source": [
        "# Tải dữ liệu về\n",
        "file_list = [\"title.akas.tsv.gz\", \"title.ratings.tsv.gz\", \n",
        "             \"title.basics.tsv.gz\", \"title.basics.tsv.gz\", \"title.crew.tsv.gz\", \"title.principals.tsv.gz\",\n",
        "            \"name.basics.tsv.gz\" ]\n",
        "      \n",
        "for i in file_list:\n",
        "    data_downloader(i)"
      ]
    },
    {
      "cell_type": "code",
      "source": [
        "# Setting to speed up \n",
        "spark.sql(\"set spark.sql.shuffle.partitions=1\")"
      ],
      "metadata": {
        "colab": {
          "base_uri": "https://localhost:8080/"
        },
        "id": "XFjGlvw53ZLV",
        "outputId": "db74a076-fdb3-4f3b-a082-fea33af1b342"
      },
      "execution_count": null,
      "outputs": [
        {
          "output_type": "execute_result",
          "data": {
            "text/plain": [
              "DataFrame[key: string, value: string]"
            ]
          },
          "metadata": {},
          "execution_count": 6
        }
      ]
    },
    {
      "cell_type": "markdown",
      "metadata": {
        "id": "muScjCy_wxFY"
      },
      "source": [
        "## PHẦN I. CHUNG\n",
        "[ 10 điểm ] <br>\n",
        "Guide: Sử dụng pyspark hoặc spark-SQL thực hiện tất cả các câu thuộc phần này."
      ]
    },
    {
      "cell_type": "markdown",
      "metadata": {
        "id": "IB5z9y7awxFZ"
      },
      "source": [
        "**Câu 1**. [1đ] Đọc các file vào pyspark dataframe, biết rằng các cột trong các file dữ liệu đều phân cách nhau bởi dấu tab (\\t). Lưu tương ứng các dataframe với các file dữ liệu:\n",
        "- df_rating : \"title.ratings.tsv.gz\"\n",
        "- df_akas  :\"title.akas.tsv.gz\"\n",
        "- df_basics  :\"title.basics.tsv.gz\"\n",
        "- df_crew  :\"title.crew.tsv.gz\"\n",
        "- df_principals :\"title.principals.tsv.gz\"\n",
        "- df_person  : \"name.basics.tsv.gz\"\n",
        "\n",
        "(Xem mô tả quan trọng của dữ liệu phía trên)"
      ]
    },
    {
      "cell_type": "code",
      "execution_count": null,
      "metadata": {
        "id": "qEkvX1pHwxFZ"
      },
      "outputs": [],
      "source": [
        "df_ratings = (\n",
        "    # YOUR CODE START \n",
        "    spark.read.options(header='True', delimiter='\\t', nullValue = r'\\N').csv(\"/content/title.ratings.tsv.gz\")\n",
        "    \n",
        "    # / END YOUR CODE\n",
        ")\n",
        "\n",
        "df_akas= (\n",
        "    # YOUR CODE START \n",
        "    spark.read.options(header='True', delimiter='\\t', nullValue = r'\\N').csv(\"/content/title.akas.tsv.gz\")\n",
        "    \n",
        "    # / END YOUR CODE\n",
        ")\n",
        "\n",
        "df_basics = (\n",
        "    # YOUR CODE START \n",
        "    spark.read.options(header='True', delimiter='\\t', nullValue = r'\\N').csv(\"/content/title.basics.tsv.gz\")\n",
        "    \n",
        "    # / END YOUR CODE\n",
        ")\n",
        "\n",
        "df_crew = (\n",
        "    # YOUR CODE START \n",
        "    spark.read.options(header='True', delimiter='\\t', nullValue = r'\\N').csv(\"/content/title.crew.tsv.gz\")\n",
        "    \n",
        "    # / END YOUR CODE\n",
        ")\n",
        "\n",
        "df_principals = (\n",
        "    # YOUR CODE START \n",
        "    spark.read.options(header='True', delimiter='\\t', nullValue = r'\\N').csv(\"/content/title.principals.tsv.gz\")\n",
        "    \n",
        "    # / END YOUR CODE\n",
        ")\n",
        "\n",
        "df_person = (\n",
        "    # YOUR CODE START \n",
        "    spark.read.options(header='True', delimiter='\\t', nullValue = r'\\N').csv(\"/content/name.basics.tsv.gz\")\n",
        "    \n",
        "    # / END YOUR CODE\n",
        ")"
      ]
    },
    {
      "cell_type": "code",
      "execution_count": null,
      "metadata": {
        "colab": {
          "base_uri": "https://localhost:8080/"
        },
        "id": "6eCbt1p6wxFa",
        "outputId": "6e4689b8-7a76-4b92-bf1f-78d3d548e4f0"
      },
      "outputs": [
        {
          "output_type": "stream",
          "name": "stdout",
          "text": [
            "PASS\n",
            "PASS\n",
            "CPU times: user 128 ms, sys: 20.3 ms, total: 148 ms\n",
            "Wall time: 22.1 s\n"
          ]
        }
      ],
      "source": [
        "%%time\n",
        "TEST.test_1(df_ratings)\n",
        "TEST.test_2(df_akas)"
      ]
    },
    {
      "cell_type": "markdown",
      "metadata": {
        "id": "-v4AoLZRwxFa"
      },
      "source": [
        "**Câu 2**. [1đ] Tìm top 3 ngôn ngữ có nhiều bộ phim (tất cả nội dung movie, tv show,...) nhất trong bộ dataset này"
      ]
    },
    {
      "cell_type": "code",
      "execution_count": null,
      "metadata": {
        "colab": {
          "base_uri": "https://localhost:8080/"
        },
        "id": "llIen6GCwxFb",
        "outputId": "4b113543-b8a8-4b40-c0d5-80f963639184"
      },
      "outputs": [
        {
          "output_type": "stream",
          "name": "stdout",
          "text": [
            "+--------+-------+\n",
            "|language|  count|\n",
            "+--------+-------+\n",
            "|      ja|3626718|\n",
            "|      fr|3594465|\n",
            "|      hi|3563670|\n",
            "+--------+-------+\n",
            "only showing top 3 rows\n",
            "\n",
            "CPU times: user 232 ms, sys: 35.5 ms, total: 267 ms\n",
            "Wall time: 48 s\n"
          ]
        }
      ],
      "source": [
        "%%time\n",
        "# YOUR CODE START \n",
        "df_akas.filter(F.col(\"language\").isNotNull()).groupby(\"language\").count()\\\n",
        "       .orderBy(\"count\", ascending=False)\\\n",
        "       .show(3)\n",
        "# / END YOUR CODE"
      ]
    },
    {
      "cell_type": "markdown",
      "metadata": {
        "id": "G5rrypjYwxFb"
      },
      "source": [
        "**Câu 3**. [2đ]\n",
        "Trong các bộ phim Mỹ (region=\"US\", titleType=\"movie\") được công chiếu giai đoạn 2010-2015, tìm top 5 thể loại phim có bình quân rating điểm cao nhất."
      ]
    },
    {
      "cell_type": "code",
      "execution_count": null,
      "metadata": {
        "colab": {
          "base_uri": "https://localhost:8080/"
        },
        "id": "4MXPzExqwxFb",
        "outputId": "86a4f7e8-9acf-4660-8255-4cef0d890b76"
      },
      "outputs": [
        {
          "output_type": "stream",
          "name": "stdout",
          "text": [
            "+-----------+-----------------+\n",
            "|      genre|           rating|\n",
            "+-----------+-----------------+\n",
            "|  Game-Show|              8.9|\n",
            "|      Short|7.339999999999999|\n",
            "|       News|7.282631578947371|\n",
            "|Documentary|7.231346309813465|\n",
            "|  Biography|7.140000000000006|\n",
            "+-----------+-----------------+\n",
            "only showing top 5 rows\n",
            "\n",
            "CPU times: user 388 ms, sys: 71.9 ms, total: 460 ms\n",
            "Wall time: 1min 23s\n"
          ]
        }
      ],
      "source": [
        "%%time\n",
        "# YOUR CODE START \n",
        "df_genre_pick = df_basics.filter((F.col(\"titleType\")==\"movie\") & (F.col(\"startYear\")>=2010) & (F.col(\"startYear\")<=2015) )\\\n",
        "         .withColumn(\"arr_genres\", F.split(\"genres\", \",\"))\\\n",
        "         .select(\"tconst\", F.explode(\"arr_genres\").alias(\"genre\"))\n",
        "         \n",
        "df_film_pick = df_akas.filter(F.col(\"region\")==\"US\").withColumn('tconst', F.col('titleId'))\n",
        "\n",
        "\n",
        "df_ratings.join(df_genre_pick, on='tconst').join(df_film_pick, on=\"tconst\")\\\n",
        "    .groupby(\"genre\").agg(F.avg(\"averageRating\").alias(\"rating\"))\\\n",
        "    .orderBy(\"rating\", ascending=False)\\\n",
        "    .show(5)\n",
        "# / END YOUR CODE"
      ]
    },
    {
      "cell_type": "markdown",
      "metadata": {
        "id": "n_hYq0-zwxFb"
      },
      "source": [
        "**Câu 4**. [3đ] Bạn đặt ra một giả thuyết rằng một đạo diễn có xu hướng hợp tác với các diễn viên thân thuộc với họ, hơn là liên tục tìm kiếm các diễn viên mới cho các phim khác nhau. <br>\n",
        "Hãy lựa chọn các metrics phù hợp, phân tích từ bộ dữ liệu thực tế và rút ra kết luận cho giả thuyết trên có đúng hay không? <br>\n",
        "( Phân tích trên thể loại phim titleType=\"movie\", region=\"US\",  thời gian công chiếu trong khoảng 2000-2020)"
      ]
    },
    {
      "cell_type": "code",
      "execution_count": null,
      "metadata": {
        "id": "pYz6LlD6wxFc",
        "colab": {
          "base_uri": "https://localhost:8080/"
        },
        "outputId": "a09993f6-b314-4632-f83d-e33f3155abff"
      },
      "outputs": [
        {
          "output_type": "stream",
          "name": "stdout",
          "text": [
            "Số bộ phim:  [Row(count(DISTINCT tconst)=29258)]\n",
            "Số lần hợp tác:\n",
            "+--------+------+\n",
            "|is_1time| count|\n",
            "+--------+------+\n",
            "|       1|116545|\n",
            "|       0| 12365|\n",
            "+--------+------+\n",
            "\n",
            "CPU times: user 1.89 s, sys: 332 ms, total: 2.22 s\n",
            "Wall time: 6min 38s\n"
          ]
        }
      ],
      "source": [
        "%%time\n",
        "# YOUR CODE START \n",
        "\n",
        "\"\"\"Nhận xét: nếu các đạo diễn có xu hướng lựa chọn diễn viên thân thuộc là đúng, sẽ có rất nhiều bộ phim có sự hợp tác của họ\n",
        "=> Vẽ phân phối số lần hợp tác sẽ đánh giá được giả thiết\n",
        "\"\"\"\n",
        "# Lấy tập data theo yêu cầu đề bài\n",
        "movie = df_basics.filter((F.col(\"titleType\")==\"movie\") &  F.col(\"startYear\").between(2010, 2015) )\n",
        "us = df_akas.filter(F.col(\"region\")==\"US\").selectExpr('titleId AS tconst')\n",
        "\n",
        "principals = df_principals.filter( F.col('category').isin('actor', 'actress', 'director') )\\\n",
        "                .join(movie, on='tconst').join(us, on='tconst')\n",
        "\n",
        "# Đếm số lần hợp tác\n",
        "actor = principals.filter(F.col('category').isin('actor', 'actress')).withColumn('actor', F.col('nconst'))\n",
        "director = principals.filter(F.col('category')=='director').withColumn('director', F.col('nconst'))\n",
        "\n",
        "colaboration = actor.join(director, on='tconst').groupby('actor', 'director').agg(F.count('tconst').alias('movie_num'))\\\n",
        "                .withColumn('is_1time', F.when(F.col('movie_num')==1, 1).otherwise(0))\n",
        "\n",
        "his = colaboration.groupby('is_1time').count()\n",
        "print('Số bộ phim: ', actor.join(director, on='tconst').select(F.countDistinct('tconst')).collect())\n",
        "print('Số lần hợp tác:')\n",
        "his.show()\n",
        "# / END YOUR CODE"
      ]
    },
    {
      "cell_type": "code",
      "execution_count": null,
      "metadata": {
        "id": "0FA-MN3DwxFc"
      },
      "outputs": [],
      "source": [
        "your_conclusion = ('''\n",
        "# YOUR CONCLUSION HERE\n",
        "Trung bình 1 bộ phim có 100 diễn viên thì sẽ có khoảng 11 diễn viên cũ (từng hợp tác với đạo diễn)\n",
        "=> Các diễn viên và đạo diễn có xu hướng hợp tác với nhau nhiều lần\n",
        "\n",
        "''')"
      ]
    },
    {
      "cell_type": "markdown",
      "metadata": {
        "id": "nfiEFrBqwxFc"
      },
      "source": [
        "**Câu 5**. [3đ] Một giải thưởng về phim (titleType = 'movie') được trao cho các đạo diễn. Danh sách đề cử là các đạo diễn thỏa mãn các điều kiện: <br>\n",
        "1. Đạo diễn vẫn còn sống\n",
        "2. Có trên 5 bộ phim hay (phim hay là phim được chấm điểm averageRating >7.5).\n",
        "3. Tỷ trọng phim tệ (phim tệ là phim có averageRating <= 4) chiếm không quá 20% tổng số phim của đạo diễn đó và không quá 10 bộ phim.\n",
        "\n",
        "Trong đó, averageRating chỉ được tính khi có trên 200 phiếu bầu. <br>\n",
        "Giải thưởng được trao cho 3 trong số các đạo diễn thuộc danh sách đề cử. <br>\n",
        "Đặt p (float) là xác suất để đạo diễn trúng cử đồng thời có kiêm biên kịch (writer, xác định bởi primaryProfession).  <br>\n",
        "Hãy tính p."
      ]
    },
    {
      "cell_type": "code",
      "source": [
        "%%time\n",
        "# YOUR CODE START \n",
        "film = df_basics.filter(F.col(\"titleType\")==\"movie\").select(\"tconst\")\n",
        "director = df_person.filter(F.col(\"deathYear\").isNull()).select('nconst', 'primaryProfession')\n",
        "ratings = df_ratings.filter(F.col(\"numVotes\")>200)\n",
        "\n",
        "principals = df_principals.filter( F.col('category')=='director' ).select('nconst', 'tconst')\n",
        "\n",
        "matched = ratings.join(film, on='tconst')\\\n",
        "                .join(principals, on='tconst')\\\n",
        "                .join(director, on='nconst')\\\n",
        "                .withColumn('is_bad', F.when(F.col('averageRating') <=4, 1).otherwise(0))\\\n",
        "                .withColumn('is_good', F.when(F.col('averageRating') >7.5, 1).otherwise(0))\\\n",
        "                .withColumn('is_writer', F.when(F.col('primaryProfession').contains('writer'), 1).otherwise(0) ).persist()\n",
        "\n",
        "smr_by_director = matched.groupby(\"nconst\", \"is_writer\").agg(\n",
        "    F.sum(\"is_bad\").alias('bad'),\n",
        "    F.sum(\"is_good\").alias('good'),\n",
        "    F.count(\"tconst\").alias('total'),\n",
        "    (F.sum(\"is_bad\")/F.count(\"tconst\")).alias(\"bad_ratio\")\n",
        ")\n",
        "smr = smr_by_director.filter(\n",
        "    (F.col('bad')<=10 ) &\n",
        "    (F.col('good')>5) &\n",
        "    (F.col('bad_ratio')<=0.2)\n",
        ").selectExpr(\"COUNT(1) AS dir_num\", \n",
        "             \"SUM(is_writer) AS writer\", \n",
        "             \"SUM(is_writer)/COUNT(1) AS pct\" \n",
        "             ).collect()\n",
        "writer_num = smr[0].writer\n",
        "dir_num = smr[0].dir_num\n",
        "\n",
        "\n",
        "\"\"\"Với số đạo diễn đề cử là dir_num, số đạo diễn có kiêm biên kịch là writer_num\n",
        "Số cách chọn 3 đạo diễn từ writer_num là x = C(writer_num, 3)\n",
        "Số cách chọn 3 đạo diễn từ dir_num là y = C(dir_num, 3)\n",
        "Xác suất để 3 đạo diễn là đồng thời là biên kịch là: p = x/y\n",
        "\"\"\"\n",
        "\n",
        "import math\n",
        "\n",
        "def comb(n,r):\n",
        "    f = math.factorial\n",
        "    return f(n) / f(r) / f(n-r)\n",
        "\n",
        "p = comb(writer_num, 3)/ comb(dir_num,3)\n",
        "\n",
        "print(p)\n",
        "\n",
        "# / END YOUR CODE"
      ],
      "metadata": {
        "colab": {
          "base_uri": "https://localhost:8080/"
        },
        "id": "UE-EXW2a0oja",
        "outputId": "f2bb820a-04ac-4127-f316-e6b3ebbd9530"
      },
      "execution_count": null,
      "outputs": [
        {
          "output_type": "stream",
          "name": "stdout",
          "text": [
            "0.49418604651162795\n",
            "CPU times: user 604 ms, sys: 98.6 ms, total: 703 ms\n",
            "Wall time: 2min 5s\n"
          ]
        }
      ]
    },
    {
      "cell_type": "markdown",
      "metadata": {
        "id": "cdIs0bhuwxFd"
      },
      "source": [
        "### PHẦN II. TỰ CHỌN\n",
        "[ 10 điểm ] <br>\n",
        "DS chọn 1 trong 2 câu II.a hoặc II.b\n",
        "**Chỉ sử dụng dữ liệu train đã được chia sẵn để huấn luyện model, không sử dụng tập test.** <br>\n",
        "Có thể sử dụng tập test để đánh giá độ chính xác của model.\n",
        "\n",
        "Điểm số được chấm dựa trên độ chính xác của model trên tập test."
      ]
    },
    {
      "cell_type": "markdown",
      "metadata": {
        "id": "dWBLe9_wwxFd"
      },
      "source": [
        "**Câu II.a**. Trên môi trường pyspark, hãy tổng hợp dữ liệu và huấn luyện một mô hình dùng pyspark MLlib dự đoán averageRating"
      ]
    },
    {
      "cell_type": "code",
      "source": [
        "# CHẠY ĐOẠN CODE SAU\n",
        "train_film = df_basics.filter((F.col(\"titleType\")==\"movie\") & (F.col(\"startYear\")>=2000) & (F.col(\"startYear\")<=2015) ).select(\"tconst\")\n",
        "test_film  = df_basics.filter((F.col(\"titleType\")==\"movie\") & (F.col(\"startYear\")> 2015) & (F.col(\"startYear\")<=2021) ).select(\"tconst\")\n",
        "\n",
        "train_ratings = df_ratings.join( train_film, on = 'tconst')\n",
        "test_ratings = df_ratings.join( test_film, on = 'tconst')"
      ],
      "metadata": {
        "id": "KjwQme1yINxE"
      },
      "execution_count": null,
      "outputs": []
    },
    {
      "cell_type": "markdown",
      "source": [
        "Chỉ sử dụng thông tin của các bộ phim trong train_film (và nhãn là averageRating trong train_ratings) để xây dựng model. <br>\n",
        "Có thể join thêm với các thông tin ở các bảng khác không giới hạn để bổ sung feature. <br>\n",
        "Metric đánh giá là MAE\n",
        "\n",
        "**YÊU CẦU ĐẦU RA** <br>\n",
        "Dataframe: df_pred {tconst: string, pred: float}, trong đó tconst là các mã bộ phim tương ứng với các bộ phim trong test_film, pred là dự đoán averageRating của model."
      ],
      "metadata": {
        "id": "WXgOpyu4JJYe"
      }
    },
    {
      "cell_type": "code",
      "source": [
        "from pyspark.ml import Pipeline\n",
        "from pyspark.ml.regression import RandomForestRegressor"
      ],
      "metadata": {
        "id": "w6BwUOyh7PCF"
      },
      "execution_count": null,
      "outputs": []
    },
    {
      "cell_type": "code",
      "source": [
        "def array_to_onehot(df, inputCol, sep=',', id_col = 'tconst'):\n",
        "  df = df.withColumn('arr_'+inputCol, F.split(inputCol, sep))\\\n",
        "          .select(id_col, F.explode('arr_'+inputCol).alias(\"element_\"+inputCol))\\\n",
        "          .withColumn('value', F.lit(1))\n",
        "  df_vec = df.groupby(id_col).pivot(\"element_\"+inputCol).count()\n",
        "  return df_vec\n"
      ],
      "metadata": {
        "id": "Y3R93liMEX7e"
      },
      "execution_count": null,
      "outputs": []
    },
    {
      "cell_type": "code",
      "source": [
        "def cast_col(df, col, dtype='int'):\n",
        "  df = df.withColumnRenamed(col, col+'tmp')\n",
        "  df = df.withColumn(col, F.col(col+'tmp').cast(dtype))\n",
        "  return df.drop(col+'tmp')\n",
        "def cast_cols(df, cols, dtype='int'):\n",
        "  for col in cols:\n",
        "    df = cast_col(df, col)\n",
        "  return df"
      ],
      "metadata": {
        "id": "WxybZCC6OHz2"
      },
      "execution_count": null,
      "outputs": []
    },
    {
      "cell_type": "code",
      "execution_count": null,
      "metadata": {
        "id": "FOFdTppEwxFd"
      },
      "outputs": [],
      "source": [
        "# YOUR CODE START \n",
        "akas = df_akas.groupby('titleId').agg(F.count('titleId').alias('region_num'))\n",
        "\n",
        "full = df_basics.filter((F.col(\"titleType\")==\"movie\") & F.col(\"startYear\").between(2000,2021))\\\n",
        "        .join(akas, on = [df_basics.tconst == df_akas.titleId], how='left')\\\n",
        "        .join(df_ratings, on='tconst', how='left')\\\n",
        "        .withColumn('dataset', F.when(F.col(\"startYear\").between(2000,2015), 'train').otherwise('test'))\n",
        "\n",
        "num_cols = ['isAdult','startYear',  'runtimeMinutes', 'region_num', 'averageRating']\n",
        "full = cast_cols(full, num_cols, dtype='double')\n",
        "\n",
        "# Optional: adding genre information to features\n",
        "df_genre = array_to_onehot(full, inputCol='genres')\n",
        "full = full.join(df_genre, on='tconst', how='left').fillna(0)\n",
        "cols_genres = df_genre.drop('tconst').columns\n",
        "\n",
        "pipe = Pipeline(stages=[\n",
        "        pyspark.ml.feature.VectorAssembler(inputCols= num_cols+cols_genres, outputCol='fts'),\n",
        "        RandomForestRegressor( featuresCol = 'fts', labelCol = 'averageRating', predictionCol='pred',  \n",
        "                              numTrees=10 )\n",
        "])\n",
        "\n",
        "model = pipe.fit(full.filter(F.col('dataset')=='train'))\n",
        "\n",
        "df_pred = model.transform(full.filter(F.col('dataset')=='test')).select('tconst', 'pred')\n",
        "\n",
        "\n",
        "# / END YOUR CODE"
      ]
    },
    {
      "cell_type": "code",
      "source": [
        "# df_pred hợp lệ khi testcase báo 2 thông báo PASS như sau:\n",
        "#>> PASS: dataframe đầu ra đúng định dạng\n",
        "#>> PASS: dataframe đầu ra đúng số lượng bản ghi\n",
        "TEST.iia_schema( df_pred )"
      ],
      "metadata": {
        "colab": {
          "base_uri": "https://localhost:8080/"
        },
        "id": "jhi--L3dNM9X",
        "outputId": "62f91276-c5ab-46cc-f2c5-f0b1ffcc583c"
      },
      "execution_count": null,
      "outputs": [
        {
          "output_type": "stream",
          "name": "stdout",
          "text": [
            "FAIL: dataframe đầu ra không đúng định dạng, đ/c kiểm tra lại\n",
            "PASS: dataframe đầu ra đúng số lượng bản ghi\n"
          ]
        }
      ]
    },
    {
      "cell_type": "code",
      "source": [
        "# Tính MAE\n",
        "TEST.mae_iia( df_pred )"
      ],
      "metadata": {
        "id": "IjQgvkOzNuJG",
        "colab": {
          "base_uri": "https://localhost:8080/"
        },
        "outputId": "fb93f4dd-b98e-4be0-ef50-237ff3cea81a"
      },
      "execution_count": null,
      "outputs": [
        {
          "output_type": "stream",
          "name": "stdout",
          "text": [
            "+----------------+\n",
            "|             mae|\n",
            "+----------------+\n",
            "|0.83781821998956|\n",
            "+----------------+\n",
            "\n"
          ]
        }
      ]
    },
    {
      "cell_type": "markdown",
      "metadata": {
        "id": "RDZ5dXJlwxFd"
      },
      "source": [
        "**Câu II.b**. Bạn đưa ra giả thuyết thông tin về tiêu đề phim có thể giúp phân loại phim đó có phải là phim không dành cho trẻ nhỏ hay không. <br>\n",
        "Chỉ sử dụng thông tin từ bảng title.basics.tsv.gz, hãy xây dựng mô hình dự đoán nhãn isAdult. Trong đó, bắt buộc có sử dụng xử lý chuỗi thông tin tiêu đề phim originalTitle.\n",
        "\n",
        "(Mô hình có thể được xây dựng bằng pyspark hoặc python)"
      ]
    },
    {
      "cell_type": "code",
      "source": [
        "# CHẠY ĐOẠN CODE SAU\n",
        "train = df_basics.filter((F.col(\"titleType\")==\"movie\") & (F.col(\"startYear\")>=2000) & (F.col(\"startYear\")<=2015) ).toPandas()\n",
        "test = df_basics.filter((F.col(\"titleType\")==\"movie\") & (F.col(\"startYear\")> 2015) & (F.col(\"startYear\")<=2021) ).toPandas()"
      ],
      "metadata": {
        "id": "4yuJ8XRnQ9Hi"
      },
      "execution_count": null,
      "outputs": []
    },
    {
      "cell_type": "code",
      "source": [
        "train['tconst'].count()"
      ],
      "metadata": {
        "colab": {
          "base_uri": "https://localhost:8080/"
        },
        "id": "PtzB7iBcRN-2",
        "outputId": "80408350-b1ec-4b98-df8d-1e780243cad9"
      },
      "execution_count": null,
      "outputs": [
        {
          "output_type": "execute_result",
          "data": {
            "text/plain": [
              "161584"
            ]
          },
          "metadata": {},
          "execution_count": 22
        }
      ]
    },
    {
      "cell_type": "markdown",
      "source": [
        "Có thể sử dụng model pyspark hoặc python. <br>\n",
        "Metric đánh giá là accuracy\n",
        "\n",
        "**YÊU CẦU ĐẦU RA** <br>\n",
        "- Mô hình: có các bước biến đổi dữ liệu và xử lý text\n",
        "- Dữ liệu: pandas dataframe df_pred {tconst: string, pred: int}, trong đó tconst là các mã bộ phim tương ứng với các bộ phim trong test, pred là dự đoán isAdult của model, pred phải mang giá trị 0 hoặc 1."
      ],
      "metadata": {
        "id": "rLM2_KJfRV40"
      }
    },
    {
      "cell_type": "code",
      "execution_count": null,
      "metadata": {
        "id": "3h0XhPuNwxFd",
        "colab": {
          "base_uri": "https://localhost:8080/"
        },
        "outputId": "90e7661a-aa5b-4646-ca6a-e91af917c24a"
      },
      "outputs": [
        {
          "output_type": "stream",
          "name": "stdout",
          "text": [
            "Epoch 1/3\n",
            "2525/2525 [==============================] - 202s 79ms/step - loss: 0.0358 - accuracy: 0.9947\n",
            "Epoch 2/3\n",
            "2525/2525 [==============================] - 206s 82ms/step - loss: 0.0285 - accuracy: 0.9949\n",
            "Epoch 3/3\n",
            "2525/2525 [==============================] - 200s 79ms/step - loss: 0.0273 - accuracy: 0.9950\n"
          ]
        }
      ],
      "source": [
        "# YOUR CODE START \n",
        "# DO NOT CHANGE THIS CODE OR THE TESTS MAY NOT WORK\n",
        "vocab_size = 1000\n",
        "embedding_dim = 16\n",
        "max_length = 120\n",
        "trunc_type='post'\n",
        "padding_type='post'\n",
        "oov_tok = \"<OOV>\"\n",
        "training_size = 20000\n",
        "\n",
        "sentences = []\n",
        "labels = []\n",
        "\n",
        "# train \n",
        "train_sentences = train['originalTitle']\n",
        "valid_sentences = test['originalTitle']\n",
        "# label \n",
        "train_labels = train['isAdult']\n",
        "valid_labels = test['isAdult']\n",
        "\n",
        "token = tf.keras.preprocessing.text.Tokenizer(num_words=vocab_size, oov_token= oov_tok)\n",
        "token.fit_on_texts(train_sentences)\n",
        "word_index = token.word_index\n",
        "\n",
        "train_sequences = token.texts_to_sequences(train_sentences)\n",
        "valid_sequences = token.texts_to_sequences(valid_sentences)\n",
        "\n",
        "train_padded = tf.keras.preprocessing.sequence.pad_sequences(train_sequences, truncating=trunc_type, padding=padding_type, maxlen=max_length)\n",
        "valid_padded = tf.keras.preprocessing.sequence.pad_sequences(valid_sequences, truncating=trunc_type, padding=padding_type, maxlen=max_length)\n",
        "\n",
        "train_labels = np.asarray(train_labels).astype('int')\n",
        "valid_labels = np.asarray(valid_labels).astype('int')\n",
        "\n",
        "model = tf.keras.Sequential([\n",
        "    tf.keras.layers.Embedding(vocab_size, embedding_dim, input_length=max_length),\n",
        "    tf.keras.layers.Bidirectional(tf.keras.layers.LSTM(32)),\n",
        "    tf.keras.layers.Dense(24, activation='relu'),\n",
        "    tf.keras.layers.Dense(1, activation='sigmoid')\n",
        "])\n",
        "\n",
        "model.compile(loss='binary_crossentropy', optimizer='adam', metrics=['accuracy'])\n",
        "\n",
        "model.fit(train_padded, train_labels, epochs=3, batch_size=1024)\n",
        "\n",
        "prd = model.predict(valid_padded)\n",
        "df_pred = pd.DataFrame({'tconst':test.tconst, 'pred': prd.reshape(prd.shape[0])})\n",
        "\n",
        "# / END YOUR CODE"
      ]
    },
    {
      "cell_type": "code",
      "source": [
        "# df_pred hợp lệ khi testcase báo 2 thông báo PASS như sau:\n",
        "#>> PASS: dataframe đầu ra đúng định dạng\n",
        "#>> PASS: dataframe đầu ra đúng số lượng bản ghi\n",
        "TEST.iib_schema(df_pred)"
      ],
      "metadata": {
        "colab": {
          "base_uri": "https://localhost:8080/"
        },
        "id": "JlF22orjTL2W",
        "outputId": "a8bdcbb4-cd7a-4a11-f13b-5dc935aaf443"
      },
      "execution_count": null,
      "outputs": [
        {
          "output_type": "stream",
          "name": "stdout",
          "text": [
            "PASS: dataframe đầu ra đúng định dạng\n",
            "PASS: dataframe đầu ra đúng số lượng bản ghi\n"
          ]
        }
      ]
    },
    {
      "cell_type": "code",
      "source": [
        "# Tính AUC\n",
        "TEST.score_iib(df_pred)"
      ],
      "metadata": {
        "id": "-FF0rPAWYQnE",
        "colab": {
          "base_uri": "https://localhost:8080/"
        },
        "outputId": "327fcbd1-dfd6-46c5-ed51-8fcc97655c57"
      },
      "execution_count": null,
      "outputs": [
        {
          "output_type": "stream",
          "name": "stdout",
          "text": [
            "0.7530125817868337\n"
          ]
        }
      ]
    },
    {
      "cell_type": "markdown",
      "source": [
        "--- YOUR TEST END HERE ---"
      ],
      "metadata": {
        "id": "XyK-H1ZVYg1D"
      }
    }
  ],
  "metadata": {
    "kernelspec": {
      "display_name": "Python 3",
      "language": "python",
      "name": "python3"
    },
    "language_info": {
      "codemirror_mode": {
        "name": "ipython",
        "version": 3
      },
      "file_extension": ".py",
      "mimetype": "text/x-python",
      "name": "python",
      "nbconvert_exporter": "python",
      "pygments_lexer": "ipython3",
      "version": "3.7.4"
    },
    "colab": {
      "name": "SOLUTION_DS_TEST_PRACTICE_T3_2022.ipynb",
      "provenance": [],
      "collapsed_sections": [],
      "include_colab_link": true
    }
  },
  "nbformat": 4,
  "nbformat_minor": 0
}