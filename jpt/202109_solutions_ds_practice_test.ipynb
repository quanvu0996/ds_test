{
  "nbformat": 4,
  "nbformat_minor": 0,
  "metadata": {
    "colab": {
      "name": "202109_ds_practice_test.ipynb",
      "provenance": []
    },
    "kernelspec": {
      "display_name": "Python 3",
      "language": "python",
      "name": "python3"
    },
    "language_info": {
      "codemirror_mode": {
        "name": "ipython",
        "version": 3
      },
      "file_extension": ".py",
      "mimetype": "text/x-python",
      "name": "python",
      "nbconvert_exporter": "python",
      "pygments_lexer": "ipython3",
      "version": "3.7.4"
    }
  },
  "cells": [
    {
      "cell_type": "markdown",
      "metadata": {
        "id": "505DgRkkEVhL"
      },
      "source": [
        "# 0. Cài đặt môi trường <br>\n",
        "Guide: Chạy toàn bộ các lệnh sau"
      ]
    },
    {
      "cell_type": "code",
      "metadata": {
        "colab": {
          "base_uri": "https://localhost:8080/"
        },
        "id": "xsxQa-t0r1aL",
        "outputId": "fcf44881-8dc1-4567-c66e-bbdae25eae54"
      },
      "source": [
        "!pip install pyspark"
      ],
      "execution_count": null,
      "outputs": [
        {
          "output_type": "stream",
          "name": "stdout",
          "text": [
            "Collecting pyspark\n",
            "  Downloading pyspark-3.1.2.tar.gz (212.4 MB)\n",
            "\u001b[K     |████████████████████████████████| 212.4 MB 65 kB/s \n",
            "\u001b[?25hCollecting py4j==0.10.9\n",
            "  Downloading py4j-0.10.9-py2.py3-none-any.whl (198 kB)\n",
            "\u001b[K     |████████████████████████████████| 198 kB 42.2 MB/s \n",
            "\u001b[?25hBuilding wheels for collected packages: pyspark\n",
            "  Building wheel for pyspark (setup.py) ... \u001b[?25l\u001b[?25hdone\n",
            "  Created wheel for pyspark: filename=pyspark-3.1.2-py2.py3-none-any.whl size=212880768 sha256=ee47323ca5bebc95f1d47d3b05d517848c26404a4ccd311af1060e3b38f31716\n",
            "  Stored in directory: /root/.cache/pip/wheels/a5/0a/c1/9561f6fecb759579a7d863dcd846daaa95f598744e71b02c77\n",
            "Successfully built pyspark\n",
            "Installing collected packages: py4j, pyspark\n",
            "Successfully installed py4j-0.10.9 pyspark-3.1.2\n"
          ]
        }
      ]
    },
    {
      "cell_type": "code",
      "metadata": {
        "id": "lWdDhQM5r1aO"
      },
      "source": [
        "import pandas as pd\n",
        "import numpy as np \n",
        "import tensorflow as tf\n",
        "import requests \n",
        "import seaborn as sns\n",
        "import matplotlib.pyplot as plt\n",
        "\n",
        "import pyspark\n",
        "from pyspark.sql import functions as F"
      ],
      "execution_count": null,
      "outputs": []
    },
    {
      "cell_type": "code",
      "metadata": {
        "id": "ms-6ReQO2YbS",
        "colab": {
          "base_uri": "https://localhost:8080/"
        },
        "outputId": "dc59698a-6ac9-4080-e994-d1956e4cc8ca"
      },
      "source": [
        "print(pyspark.__version__)"
      ],
      "execution_count": null,
      "outputs": [
        {
          "output_type": "stream",
          "name": "stdout",
          "text": [
            "3.1.2\n"
          ]
        }
      ]
    },
    {
      "cell_type": "code",
      "metadata": {
        "id": "h0QZp-zJc3dr"
      },
      "source": [
        "spark = pyspark.sql.SparkSession \\\n",
        "    .builder \\\n",
        "    .appName(\"DS_test\") \\\n",
        "    .getOrCreate()"
      ],
      "execution_count": null,
      "outputs": []
    },
    {
      "cell_type": "code",
      "metadata": {
        "id": "TRjJ3J0C2YbT",
        "cellView": "form"
      },
      "source": [
        "#@title RUN THIS PARAGRAPH: TESTCASE\n",
        "class TEST():\n",
        "    def testcase1_1(df):\n",
        "        if str(df.head(1))=='[Row(caseid=10000, dAge=5, dAncstry1=0, dAncstry2=1, iAvail=0, iCitizen=0, iClass=5, dDepart=3, iDisabl1=2, iDisabl2=2, iEnglish=1, iFeb55=0, iFertil=1, dHispanic=0, dHour89=4, dHours=3, iImmigr=0, dIncome1=2, dIncome2=0, dIncome3=0, dIncome4=1, dIncome5=0, dIncome6=0, dIncome7=0, dIncome8=0, dIndustry=10, iKorean=0, iLang1=1, iLooking=0, iMarital=1, iMay75880=0, iMeans=1, iMilitary=4, iMobility=2, iMobillim=2, dOccup=3, iOthrserv=0, iPerscare=2, dPOB=0, dPoverty=2, dPwgt1=1, iRagechld=4, dRearning=3, iRelat1=0, iRelat2=0, iRemplpar=0, iRiders=3, iRlabor=1, iRownchld=0, dRpincome=3, iRPOB=22, iRrelchld=0, iRspouse=3, iRvetserv=0, iSchool=1, iSept80=0, iSex=1, iSubfam1=0, iSubfam2=0, iTmpabsnt=0, dTravtime=5, iVietnam=0, dWeek89=2, iWork89=1, iWorklwk=1, iWWII=0, iYearsch=11, iYearwrk=1, dYrsserv=0)]':\n",
        "            print(\"PASS\")\n",
        "        else: print(\"FAIL\")\n",
        "\n",
        "    def testcase123_1(df):\n",
        "        if str(df.head(1))=='[Row(caseid=10000, dAge=5, dAncstry1=0, dAncstry2=1, iAvail=0, iCitizen=0, iClass=5, dDepart=3, iDisabl1=2, iDisabl2=2, iEnglish=1, iFeb55=0, iFertil=1, dHispanic=0, dHour89=4, dHours=3, iImmigr=0, dIncome1=2, dIncome2=0, dIncome3=0, dIncome4=1, dIncome5=0, dIncome6=0, dIncome7=0, dIncome8=0, dIndustry=10, iKorean=0, iLang1=1, iLooking=0, iMarital=1, iMay75880=0, iMeans=1, iMilitary=4, iMobility=2, iMobillim=2, dOccup=3, iOthrserv=0, iPerscare=2, dPOB=0, dPoverty=2, dPwgt1=1, iRagechld=4, dRearning=3, iRelat1=0, iRelat2=0, iRemplpar=0, iRiders=3, iRlabor=1, iRownchld=0, dRpincome=3, iRPOB=22, iRrelchld=0, iRspouse=3, iRvetserv=0, iSchool=1, iSept80=0, iSex=1, iSubfam1=0, iSubfam2=0, iTmpabsnt=0, dTravtime=5, iVietnam=0, dWeek89=2, iWork89=1, iWorklwk=1, iWWII=0, iYearsch=11, iYearwrk=1, dYrsserv=0, dAge2=2.0)]':\n",
        "            print(\"PASS\")\n",
        "        else: print(\"FAIL\")\n",
        "\n",
        "    def testcase123_2(df):\n",
        "        if str(df.head(1))=='[Row(caseid=10366, dAge=0, dAncstry1=1, dAncstry2=1, iAvail=0, iCitizen=0, iClass=0, dDepart=0, iDisabl1=0, iDisabl2=0, iEnglish=0, iFeb55=0, iFertil=0, dHispanic=0, dHour89=0, dHours=0, iImmigr=0, dIncome1=0, dIncome2=0, dIncome3=0, dIncome4=0, dIncome5=0, dIncome6=0, dIncome7=0, dIncome8=0, dIndustry=0, iKorean=0, iLang1=0, iLooking=0, iMarital=4, iMay75880=0, iMeans=0, iMilitary=0, iMobility=0, iMobillim=0, dOccup=0, iOthrserv=0, iPerscare=0, dPOB=0, dPoverty=2, dPwgt1=2, iRagechld=4, dRearning=0, iRelat1=2, iRelat2=0, iRemplpar=121, iRiders=0, iRlabor=0, iRownchld=1, dRpincome=0, iRPOB=10, iRrelchld=1, iRspouse=0, iRvetserv=0, iSchool=0, iSept80=0, iSex=1, iSubfam1=0, iSubfam2=0, iTmpabsnt=0, dTravtime=0, iVietnam=0, dWeek89=0, iWork89=0, iWorklwk=0, iWWII=0, iYearsch=0, iYearwrk=0, dYrsserv=0, dAge2=0.0, rVN=0.0)]':\n",
        "            print(\"PASS\")\n",
        "        else: print(\"FAIL\")\n",
        "\n",
        "    def testcase124(df):\n",
        "        if str(df.head(1))==\"[Row(caseid=10000, dAge=5, dAncstry1=0, dAncstry2=1, iAvail=0, iCitizen=0, iClass=5, dDepart=3, iDisabl1=2, iDisabl2=2, iEnglish=1, iFeb55=0, iFertil=1, dHispanic=0, dHour89=4, dHours=3, iImmigr=0, dIncome1=2, dIncome2=0, dIncome3=0, dIncome4=1, dIncome5=0, dIncome6=0, dIncome7=0, dIncome8=0, dIndustry=10, iKorean=0, iLang1=1, iLooking=0, iMarital=1, iMay75880=0, iMeans=1, iMilitary=4, iMobility=2, iMobillim=2, dOccup=3, iOthrserv=0, iPerscare=2, dPOB=0, dPoverty=2, dPwgt1=1, iRagechld=4, dRearning=3, iRelat1=0, iRelat2=0, iRemplpar=0, iRiders=3, iRlabor=1, iRownchld=0, dRpincome=3, iRPOB=22, iRrelchld=0, iRspouse=3, iRvetserv=0, iSchool=1, iSept80=0, iSex=1, iSubfam1=0, iSubfam2=0, iTmpabsnt=0, dTravtime=5, iVietnam=0, dWeek89=2, iWork89=1, iWorklwk=1, iWWII=0, iYearsch=11, iYearwrk=1, dYrsserv=0, iLogRPOB='1.3424226808222062')]\":\n",
        "            print(\"PASS\")\n",
        "        else: print(\"FAIL\")"
      ],
      "execution_count": null,
      "outputs": []
    },
    {
      "cell_type": "markdown",
      "metadata": {
        "id": "thaWBT82osvc"
      },
      "source": [
        "Guide: làm theo các bước và CHỈ sửa các đoạn code nằm giữa các thẻ:\n",
        "```\n",
        "# YOUR CODE START\n",
        "# / END YOUR CODE\n",
        "```"
      ]
    },
    {
      "cell_type": "markdown",
      "metadata": {
        "id": "PffTNfZvlOsD"
      },
      "source": [
        "# 1. Big data manapulation\n",
        "Bộ dữ liệu điều tra nhân khẩu của US-1990. Hãy thực hiện tải về và sử dụng pyspark để thao tác với dữ liệu. <br>\n",
        "Đọc thêm về bộ dữ liệu [Tại đây](https://archive.ics.uci.edu/ml/datasets/US+Census+Data+(1990))"
      ]
    },
    {
      "cell_type": "code",
      "metadata": {
        "id": "vUub5_4sdOZ2"
      },
      "source": [
        "# Tải dữ liệu về\n",
        "file_url = 'https://archive.ics.uci.edu/ml/machine-learning-databases/census1990-mld/USCensus1990.data.txt'\n",
        "file_path = \"/content/USCensus1990.data.txt\"\n",
        "\n",
        "r = requests.get(file_url, stream = True) \n",
        "\n",
        "with open( file_path, \"wb\") as file: \n",
        "    for block in r.iter_content(chunk_size = 1024*10): \n",
        "        if block: \n",
        "            file.write(block)"
      ],
      "execution_count": null,
      "outputs": []
    },
    {
      "cell_type": "markdown",
      "metadata": {
        "id": "f0sCE5IQ2YbV"
      },
      "source": [
        "#### Đọc dữ liệu từ file <br>\n",
        "File dữ liệu đã được tải về tại địa chỉ: file_path <br>\n",
        "Sử dụng pyspark, hãy đọc file dữ liệu thành dataframe, có danh sách cột phù hợp với tên cột đã được định nghĩa trong file dữ liệu."
      ]
    },
    {
      "cell_type": "code",
      "metadata": {
        "id": "HTgonieer1aQ"
      },
      "source": [
        "df = (\n",
        "# YOUR CODE START \n",
        "    spark.read.options(header='True', inferSchema='True', delimiter=',').csv(file_path)\n",
        "    \n",
        "# / END YOUR CODE\n",
        ")"
      ],
      "execution_count": null,
      "outputs": []
    },
    {
      "cell_type": "code",
      "metadata": {
        "id": "H27FPVc2iZ4S",
        "colab": {
          "base_uri": "https://localhost:8080/"
        },
        "outputId": "f5070501-0602-40f7-9b17-bfcb4281c3d2"
      },
      "source": [
        "# testcase 1\n",
        "TEST.testcase1_1(df)"
      ],
      "execution_count": null,
      "outputs": [
        {
          "output_type": "stream",
          "name": "stdout",
          "text": [
            "PASS\n"
          ]
        }
      ]
    },
    {
      "cell_type": "markdown",
      "metadata": {
        "id": "GrSJvjPe2YbW"
      },
      "source": [
        "#### Spark SQL analysis\n",
        "Sử dụng SQL để thực hiện các ý sau"
      ]
    },
    {
      "cell_type": "code",
      "metadata": {
        "id": "X7BCZKnHTAeV"
      },
      "source": [
        "df.registerTempTable('tmp_table')"
      ],
      "execution_count": null,
      "outputs": []
    },
    {
      "cell_type": "markdown",
      "metadata": {
        "id": "bVvKKPjCSS_l"
      },
      "source": [
        "Tìm nhóm dIncome1 có số dân lớn nhất"
      ]
    },
    {
      "cell_type": "code",
      "metadata": {
        "id": "1dJEXM-5fL8C",
        "colab": {
          "base_uri": "https://localhost:8080/",
          "height": 80
        },
        "outputId": "2d81efe4-7d6d-4019-f02d-1b39e22d01d0"
      },
      "source": [
        "sql_text = (\n",
        "# YOUR CODE START \n",
        "'select dIncome1, count(1) as count from tmp_table group by dIncome1 order by count desc limit 1'\n",
        "# / END YOUR CODE\n",
        ")\n",
        "spark.sql(sql_text).toPandas()"
      ],
      "execution_count": null,
      "outputs": [
        {
          "output_type": "execute_result",
          "data": {
            "text/html": [
              "<div>\n",
              "<style scoped>\n",
              "    .dataframe tbody tr th:only-of-type {\n",
              "        vertical-align: middle;\n",
              "    }\n",
              "\n",
              "    .dataframe tbody tr th {\n",
              "        vertical-align: top;\n",
              "    }\n",
              "\n",
              "    .dataframe thead th {\n",
              "        text-align: right;\n",
              "    }\n",
              "</style>\n",
              "<table border=\"1\" class=\"dataframe\">\n",
              "  <thead>\n",
              "    <tr style=\"text-align: right;\">\n",
              "      <th></th>\n",
              "      <th>dIncome1</th>\n",
              "      <th>count</th>\n",
              "    </tr>\n",
              "  </thead>\n",
              "  <tbody>\n",
              "    <tr>\n",
              "      <th>0</th>\n",
              "      <td>0</td>\n",
              "      <td>1237403</td>\n",
              "    </tr>\n",
              "  </tbody>\n",
              "</table>\n",
              "</div>"
            ],
            "text/plain": [
              "   dIncome1    count\n",
              "0         0  1237403"
            ]
          },
          "metadata": {},
          "execution_count": 11
        }
      ]
    },
    {
      "cell_type": "markdown",
      "metadata": {
        "id": "5yDYDiyOT3-l"
      },
      "source": [
        "Sắp xếp theo chiều tăng dần của iYearsch và đếm lũy kế số người dân, tại người dân đầu tiên có iYearsch = 1 thì giá trị đếm lũy kế là bao nhiêu?"
      ]
    },
    {
      "cell_type": "code",
      "metadata": {
        "colab": {
          "base_uri": "https://localhost:8080/",
          "height": 80
        },
        "id": "q0byb8OAVmSV",
        "outputId": "4e5cb851-3686-4ade-e906-f15ed3c203a2"
      },
      "source": [
        "sql_text = (\n",
        "# YOUR CODE START \n",
        "'select count(1) +1 as count from tmp_table where iYearSch=0'\n",
        "# / END YOUR CODE\n",
        ")\n",
        "spark.sql(sql_text).toPandas()"
      ],
      "execution_count": null,
      "outputs": [
        {
          "output_type": "execute_result",
          "data": {
            "text/html": [
              "<div>\n",
              "<style scoped>\n",
              "    .dataframe tbody tr th:only-of-type {\n",
              "        vertical-align: middle;\n",
              "    }\n",
              "\n",
              "    .dataframe tbody tr th {\n",
              "        vertical-align: top;\n",
              "    }\n",
              "\n",
              "    .dataframe thead th {\n",
              "        text-align: right;\n",
              "    }\n",
              "</style>\n",
              "<table border=\"1\" class=\"dataframe\">\n",
              "  <thead>\n",
              "    <tr style=\"text-align: right;\">\n",
              "      <th></th>\n",
              "      <th>count</th>\n",
              "    </tr>\n",
              "  </thead>\n",
              "  <tbody>\n",
              "    <tr>\n",
              "      <th>0</th>\n",
              "      <td>109835</td>\n",
              "    </tr>\n",
              "  </tbody>\n",
              "</table>\n",
              "</div>"
            ],
            "text/plain": [
              "    count\n",
              "0  109835"
            ]
          },
          "metadata": {},
          "execution_count": 15
        }
      ]
    },
    {
      "cell_type": "markdown",
      "metadata": {
        "id": "D-7JbYb6WG8k"
      },
      "source": [
        "Giả sử thu nhập của người dùng tỷ lệ thuận với dIncome1, theo công thức income = dIncome1*1000+500, top 10% người nghèo nhất có tổng thu nhập bằng bao nhiêu"
      ]
    },
    {
      "cell_type": "code",
      "metadata": {
        "colab": {
          "base_uri": "https://localhost:8080/",
          "height": 80
        },
        "id": "-bKLCALbV9nd",
        "outputId": "68942f96-7ca7-4e7e-e1ce-f99ada79126c"
      },
      "source": [
        "sql_text = (\n",
        "# YOUR CODE START \n",
        "'''\n",
        "select sum(1000*dIncome1+500) as income\n",
        "   from ( select dIncome1, count(1) over (order by dIncome1 asc rows between unbounded preceding and current row)/ count(1) over () as pct\n",
        "          from tmp_table\n",
        "        )\n",
        "   where pct <= 0.1\n",
        "'''\n",
        "# / END YOUR CODE\n",
        ")\n",
        "spark.sql(sql_text).toPandas()"
      ],
      "execution_count": null,
      "outputs": [
        {
          "output_type": "execute_result",
          "data": {
            "text/html": [
              "<div>\n",
              "<style scoped>\n",
              "    .dataframe tbody tr th:only-of-type {\n",
              "        vertical-align: middle;\n",
              "    }\n",
              "\n",
              "    .dataframe tbody tr th {\n",
              "        vertical-align: top;\n",
              "    }\n",
              "\n",
              "    .dataframe thead th {\n",
              "        text-align: right;\n",
              "    }\n",
              "</style>\n",
              "<table border=\"1\" class=\"dataframe\">\n",
              "  <thead>\n",
              "    <tr style=\"text-align: right;\">\n",
              "      <th></th>\n",
              "      <th>income</th>\n",
              "    </tr>\n",
              "  </thead>\n",
              "  <tbody>\n",
              "    <tr>\n",
              "      <th>0</th>\n",
              "      <td>122914000</td>\n",
              "    </tr>\n",
              "  </tbody>\n",
              "</table>\n",
              "</div>"
            ],
            "text/plain": [
              "      income\n",
              "0  122914000"
            ]
          },
          "metadata": {},
          "execution_count": 20
        }
      ]
    },
    {
      "cell_type": "markdown",
      "metadata": {
        "id": "elrqUFFJilgA"
      },
      "source": [
        "# Pyspark data manipulation\n",
        "Sử dụng pyspark và dataframe df thực hiện các ý sau"
      ]
    },
    {
      "cell_type": "markdown",
      "metadata": {
        "id": "eEKQXXKc2YbW"
      },
      "source": [
        "1.2.1. Xác định tỷ lệ gốc Việt trong trong dân số Mỹ"
      ]
    },
    {
      "cell_type": "code",
      "metadata": {
        "id": "xRVd1wwj2YbW",
        "colab": {
          "base_uri": "https://localhost:8080/"
        },
        "outputId": "2cdd0cf7-7dc5-41e5-891a-cbd4aa246b22"
      },
      "source": [
        "# YOUR CODE START \n",
        "r_vn = df.filter(df.iVietnam == 1).count()/df.count()\n",
        "r_vn\n",
        "# / END YOUR CODE"
      ],
      "execution_count": null,
      "outputs": [
        {
          "output_type": "execute_result",
          "data": {
            "text/plain": [
              "0.034023313000730186"
            ]
          },
          "metadata": {},
          "execution_count": 10
        }
      ]
    },
    {
      "cell_type": "markdown",
      "metadata": {
        "id": "py-vCA0lk1JA"
      },
      "source": [
        "Kiểm tra số lượng null của các cột [caseid, dAge]"
      ]
    },
    {
      "cell_type": "code",
      "metadata": {
        "id": "nUcZmE28kzPc",
        "colab": {
          "base_uri": "https://localhost:8080/"
        },
        "outputId": "a62e482a-354c-4d3c-d5dd-ee7b56b325f2"
      },
      "source": [
        "# YOUR CODE START \n",
        "for column in ['caseid', 'dAge']:\n",
        "  print(column,\" : \", df.where(F.col(column).isNull()).count())\n",
        "# / END YOUR CODE"
      ],
      "execution_count": null,
      "outputs": [
        {
          "output_type": "stream",
          "name": "stdout",
          "text": [
            "caseid  :  0\n",
            "dAge  :  0\n"
          ]
        }
      ]
    },
    {
      "cell_type": "markdown",
      "metadata": {
        "id": "OL7mWWz32YbX"
      },
      "source": [
        "Lựa chọn biểu đồ phù hợp so sánh distribution theo độ tuổi của 2 nhóm isVietnam 1 và 0. <br>\n",
        "Nêu nhận xét"
      ]
    },
    {
      "cell_type": "code",
      "metadata": {
        "id": "kLaOQURt2YbX",
        "colab": {
          "base_uri": "https://localhost:8080/",
          "height": 327
        },
        "outputId": "a70b31df-866c-46f6-8f04-be9c2e3ce123"
      },
      "source": [
        "# YOUR CODE START \n",
        "\n",
        "df_vn_his = df.groupby(['iVietnam' ,'dAge']).count().toPandas()\n",
        "df_vn_his.pivot( index= 'dAge',columns='iVietnam', values='count' ).fillna(0).plot.bar()\n",
        "print('''Nhận xét:\n",
        "iVietnam =1 có dAge cao hơn, iVN=0 có phân phối dàn đều từ Age 1-> 7\n",
        "''')\n",
        "# / END YOUR CODE"
      ],
      "execution_count": null,
      "outputs": [
        {
          "output_type": "stream",
          "name": "stdout",
          "text": [
            "Nhận xét:\n",
            "iVietnam =1 có dAge cao hơn, iVN=0 có phân phối dàn đều từ Age 1-> 7\n",
            "\n"
          ]
        },
        {
          "output_type": "display_data",
          "data": {
            "image/png": "[encoded data removed]",
            "text/plain": [
              "<Figure size 432x288 with 1 Axes>"
            ]
          },
          "metadata": {
            "needs_background": "light"
          }
        }
      ]
    },
    {
      "cell_type": "markdown",
      "metadata": {
        "id": "EDYcG1nm2YbY"
      },
      "source": [
        "Hãy tạo thêm feature rVN được xác định bằng logic sau:\n",
        "* từ df, chia nhóm độ tuổi thành các khoảng phân cắt bởi [ 1, 5, 7 ], đặt cột nhóm độ tuổi này là dAge2 => lưu thành df2\n",
        "* Với từng nhóm, xác định rVN là tỷ lệ số người có iVietnam = 1 trên tổng người dân của từng nhóm => lưu thành df3"
      ]
    },
    {
      "cell_type": "code",
      "metadata": {
        "id": "WpYMo3lZ2YbY"
      },
      "source": [
        "# YOUR CODE START \n",
        "from pyspark.ml.feature import Bucketizer\n",
        "from pyspark.sql.window import Window    \n",
        "\n",
        "bucketizer = Bucketizer(splits=[ 0,1, 5, 7, float('Inf') ],inputCol=\"dAge\", outputCol=\"dAge2\")\n",
        "df2 = bucketizer.setHandleInvalid(\"keep\").transform(df)\n",
        "\n",
        "w = Window.partitionBy('dAge2')\n",
        "\n",
        "df3 = df2.withColumn('rVN', F.sum('iVietnam').over(w)/F.count('iVietnam').over(w) )\n",
        "# / END YOUR CODE"
      ],
      "execution_count": null,
      "outputs": []
    },
    {
      "cell_type": "code",
      "metadata": {
        "id": "SFNDG0JkZfQm",
        "colab": {
          "base_uri": "https://localhost:8080/"
        },
        "outputId": "ae0692d4-6f89-4eba-b38e-d09877cf614b"
      },
      "source": [
        "TEST.testcase123_1(df2)"
      ],
      "execution_count": null,
      "outputs": [
        {
          "output_type": "stream",
          "name": "stdout",
          "text": [
            "PASS\n"
          ]
        }
      ]
    },
    {
      "cell_type": "code",
      "metadata": {
        "id": "r9hjt_uvblgt",
        "colab": {
          "base_uri": "https://localhost:8080/"
        },
        "outputId": "f6bca128-07c3-4165-f9ff-fef273b37699"
      },
      "source": [
        "TEST.testcase123_2(df3)"
      ],
      "execution_count": null,
      "outputs": [
        {
          "output_type": "stream",
          "name": "stdout",
          "text": [
            "PASS\n"
          ]
        }
      ]
    },
    {
      "cell_type": "markdown",
      "metadata": {
        "id": "KNDn7_TJisU9"
      },
      "source": [
        "Từ dataframe df, sử dụng python udf để tạo feature logarit cơ số 10 của biến iRPOB, lưu thành feature iLogRPOB"
      ]
    },
    {
      "cell_type": "code",
      "metadata": {
        "id": "rXnlslv2jH0V"
      },
      "source": [
        "# YOUR CODE START \n",
        "import math\n",
        "from pyspark.sql.functions import udf\n",
        "\n",
        "@udf\n",
        "def get_log(x):\n",
        "  return math.log10(int(x))\n",
        "\n",
        "df4 = df.withColumn('iLogRPOB', get_log(F.col('iRPOB')))\n",
        "# / END YOUR CODE"
      ],
      "execution_count": null,
      "outputs": []
    },
    {
      "cell_type": "code",
      "metadata": {
        "id": "_i0ZQC1nlkZ4",
        "colab": {
          "base_uri": "https://localhost:8080/"
        },
        "outputId": "86f78f51-3dfe-4b8a-9aa1-74cab68ac4ec"
      },
      "source": [
        "TEST.testcase124(df4)"
      ],
      "execution_count": null,
      "outputs": [
        {
          "output_type": "stream",
          "name": "stdout",
          "text": [
            "PASS\n"
          ]
        }
      ]
    },
    {
      "cell_type": "markdown",
      "metadata": {
        "id": "b2h5f6HTVtoa"
      },
      "source": [
        "# 2.ML AND DEEP LEARNING"
      ]
    },
    {
      "cell_type": "code",
      "metadata": {
        "id": "aThj31oHr1aS"
      },
      "source": [
        "pddf =next( pd.read_csv(file_url, chunksize=10000) )"
      ],
      "execution_count": null,
      "outputs": []
    },
    {
      "cell_type": "markdown",
      "metadata": {
        "id": "SlImfOuKgKfU"
      },
      "source": [
        "Xây dựng bộ dữ liệu và lưu vào data_tofit: <br>\n",
        "- Giữ lại các trường dAge, dDepart và các trường dạng số (bắt đầu bằng chữ i) => lưu vào biến columns<br>\n",
        "- Với các trường dim (bắt đầu bằng chữ d) thì thực hiện one-hot, các trường số thực hiện normalised\n"
      ]
    },
    {
      "cell_type": "code",
      "metadata": {
        "id": "pMqW-M7Yg7tC"
      },
      "source": [
        "# YOUR CODE START\n",
        "from sklearn.preprocessing import OneHotEncoder, StandardScaler\n",
        "from sklearn.pipeline import Pipeline\n",
        "from sklearn.compose import ColumnTransformer\n",
        "\n",
        "columns = [i for i in pddf.columns if (i[0:1] =='i') or (i in ['dAge', 'dDepart'])]\n",
        "cat_cols = ['dAge', 'dDepart']\n",
        "num_cols = [i for i in pddf.columns if (i[0:1] =='i')]\n",
        "\n",
        "pipe = ColumnTransformer([\n",
        "     ('cat', OneHotEncoder(), cat_cols),\n",
        "     ('num', StandardScaler() , num_cols)\n",
        "     ])\n",
        "data_tofit = pipe.fit_transform(pddf)\n",
        "# / END YOUR CODE"
      ],
      "execution_count": null,
      "outputs": []
    },
    {
      "cell_type": "markdown",
      "metadata": {
        "id": "6auj66xOnjTh"
      },
      "source": [
        "Chia bộ dữ liệu thành X_train, X_val, y_train, y_val với nhãn dự đoán là dIncome1 <br>\n",
        "Tỷ lệ train:val là 75:25"
      ]
    },
    {
      "cell_type": "code",
      "metadata": {
        "id": "8lmnrY6onix-"
      },
      "source": [
        "from sklearn.model_selection import train_test_split\n",
        "X_train, X_val, y_train, y_val = train_test_split(\n",
        "    data_tofit, pddf.dIncome1, test_size=0.25, random_state=42)"
      ],
      "execution_count": null,
      "outputs": []
    },
    {
      "cell_type": "markdown",
      "metadata": {
        "id": "T-GyXWX_m9e2"
      },
      "source": [
        "Xây dựng model RF dự đoán dIncome1 dựa trên bộ dữ liệu data_tofit"
      ]
    },
    {
      "cell_type": "code",
      "metadata": {
        "id": "mVCZ_Nhrh-n-",
        "colab": {
          "base_uri": "https://localhost:8080/"
        },
        "outputId": "a7824a32-f4e6-4fc2-9aeb-5e003a430861"
      },
      "source": [
        "# YOUR CODE START\n",
        "from sklearn.ensemble import RandomForestClassifier\n",
        "rf = RandomForestClassifier()\n",
        "\n",
        "rf.fit(X_train, y_train)\n",
        "\n",
        "# / END YOUR CODE"
      ],
      "execution_count": null,
      "outputs": [
        {
          "output_type": "execute_result",
          "data": {
            "text/plain": [
              "RandomForestClassifier(bootstrap=True, ccp_alpha=0.0, class_weight=None,\n",
              "                       criterion='gini', max_depth=None, max_features='auto',\n",
              "                       max_leaf_nodes=None, max_samples=None,\n",
              "                       min_impurity_decrease=0.0, min_impurity_split=None,\n",
              "                       min_samples_leaf=1, min_samples_split=2,\n",
              "                       min_weight_fraction_leaf=0.0, n_estimators=100,\n",
              "                       n_jobs=None, oob_score=False, random_state=None,\n",
              "                       verbose=0, warm_start=False)"
            ]
          },
          "metadata": {},
          "execution_count": 75
        }
      ]
    },
    {
      "cell_type": "markdown",
      "metadata": {
        "id": "PheCw_RxolWq"
      },
      "source": [
        "Đánh giá trên tập validation với confusion matrix và F1 (micro average)"
      ]
    },
    {
      "cell_type": "code",
      "metadata": {
        "id": "tIfbHxZ0okUD",
        "colab": {
          "base_uri": "https://localhost:8080/"
        },
        "outputId": "20953d59-d4c6-4609-b22a-375bbf3f85f7"
      },
      "source": [
        "# YOUR CODE START\n",
        "from sklearn.metrics import confusion_matrix, f1_score\n",
        "\n",
        "print(confusion_matrix( y_true= y_val, y_pred = rf.predict(X_val) ))\n",
        "print(f1_score( y_true= y_val, y_pred = rf.predict(X_val), average = 'micro'))\n",
        "# / END YOUR CODE"
      ],
      "execution_count": null,
      "outputs": [
        {
          "output_type": "stream",
          "name": "stdout",
          "text": [
            "[[1274   14    1    0    0]\n",
            " [  15  424   88   23    2]\n",
            " [   4  159  148   67    3]\n",
            " [   3   31   94  102    6]\n",
            " [   5    7   10   18    2]]\n",
            "0.78\n"
          ]
        }
      ]
    },
    {
      "cell_type": "markdown",
      "metadata": {
        "id": "cFt1msBTppxe"
      },
      "source": [
        "Train và đánh giá model tương tự RF nhưng với model SVC"
      ]
    },
    {
      "cell_type": "code",
      "metadata": {
        "id": "HL3kqQhdpkZ_",
        "colab": {
          "base_uri": "https://localhost:8080/"
        },
        "outputId": "516bcf4a-d19c-41d6-c213-90eb6cfa85e0"
      },
      "source": [
        "# YOUR CODE START\n",
        "from sklearn.svm import SVC\n",
        "clf = SVC()\n",
        "clf.fit(X_train, y_train)\n",
        "\n",
        "print(confusion_matrix( y_true= y_val, y_pred = clf.predict(X_val) ))\n",
        "print(f1_score( y_true= y_val, y_pred = clf.predict(X_val), average = 'micro'))\n",
        "# / END YOUR CODE"
      ],
      "execution_count": null,
      "outputs": [
        {
          "output_type": "stream",
          "name": "stdout",
          "text": [
            "[[1270   10    3    6    0]\n",
            " [  32  440   61   19    0]\n",
            " [  15  164  137   65    0]\n",
            " [  10   37   70  119    0]\n",
            " [   8    4    6   24    0]]\n",
            "0.7864\n"
          ]
        }
      ]
    },
    {
      "cell_type": "markdown",
      "metadata": {
        "id": "LJDANZGonK5S"
      },
      "source": [
        "Xây dựng mạng DL với nhiệm vụ dự đoán tương tự RF phía trên, với ít nhất 3 loại layer Dense, BatchNormalization, Dropout sao cho phù hợp <br>\n",
        "Thực hiện đáng giá với confusion matrix và F1 (micro)"
      ]
    },
    {
      "cell_type": "code",
      "metadata": {
        "id": "yxVFfbkCnKcn",
        "colab": {
          "base_uri": "https://localhost:8080/"
        },
        "outputId": "0744e6a5-b7cf-4296-e54a-115958153c86"
      },
      "source": [
        "# YOUR CODE START \n",
        "model = tf.keras.Sequential([\n",
        "          tf.keras.layers.Dense(256), \n",
        "          tf.keras.layers.BatchNormalization(),\n",
        "          tf.keras.layers.Dropout(0.25), \n",
        "          tf.keras.layers.Dense(5, activation='softmax')\n",
        "])\n",
        "\n",
        "model.compile( optimizer='adam', loss='categorical_crossentropy',  metrics = [\"accuracy\"])\n",
        "model.fit(X_train, tf.keras.utils.to_categorical(y_train), \n",
        "          epochs=10)\n",
        "\n",
        "print(confusion_matrix( y_true= y_val, y_pred = np.argmax(model.predict(X_val), axis=1) ))\n",
        "print(f1_score( y_true= y_val, y_pred = np.argmax(model.predict(X_val), axis=1), average = 'micro'))\n",
        "\n",
        "# / END YOUR CODE"
      ],
      "execution_count": null,
      "outputs": [
        {
          "output_type": "stream",
          "name": "stdout",
          "text": [
            "Epoch 1/10\n",
            "235/235 [==============================] - 1s 1ms/step - loss: 0.8003 - accuracy: 0.6960\n",
            "Epoch 2/10\n",
            "235/235 [==============================] - 0s 2ms/step - loss: 0.6215 - accuracy: 0.7445\n",
            "Epoch 3/10\n",
            "235/235 [==============================] - 0s 1ms/step - loss: 0.5976 - accuracy: 0.7541\n",
            "Epoch 4/10\n",
            "235/235 [==============================] - 0s 1ms/step - loss: 0.5755 - accuracy: 0.7533\n",
            "Epoch 5/10\n",
            "235/235 [==============================] - 0s 2ms/step - loss: 0.5644 - accuracy: 0.7611\n",
            "Epoch 6/10\n",
            "235/235 [==============================] - 0s 1ms/step - loss: 0.5537 - accuracy: 0.7676\n",
            "Epoch 7/10\n",
            "235/235 [==============================] - 0s 1ms/step - loss: 0.5527 - accuracy: 0.7615\n",
            "Epoch 8/10\n",
            "235/235 [==============================] - 0s 1ms/step - loss: 0.5409 - accuracy: 0.7696\n",
            "Epoch 9/10\n",
            "235/235 [==============================] - 0s 2ms/step - loss: 0.5428 - accuracy: 0.7697\n",
            "Epoch 10/10\n",
            "235/235 [==============================] - 0s 2ms/step - loss: 0.5463 - accuracy: 0.7632\n",
            "[[1263   13    6    2    5]\n",
            " [  23  428   70   28    3]\n",
            " [   9  164  120   85    3]\n",
            " [  11   36   47  138    4]\n",
            " [   4    5    4   23    6]]\n",
            "0.782\n"
          ]
        }
      ]
    },
    {
      "cell_type": "code",
      "metadata": {
        "id": "9a2jljbUowrQ"
      },
      "source": [
        "# YOUR CODE START \n",
        "# / END YOUR CODE"
      ],
      "execution_count": null,
      "outputs": []
    }
  ]
}